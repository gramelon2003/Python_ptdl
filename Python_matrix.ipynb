{
  "nbformat": 4,
  "nbformat_minor": 0,
  "metadata": {
    "colab": {
      "name": "Python_matrix.ipynb",
      "provenance": [],
      "authorship_tag": "ABX9TyPmL/1ZM0XrGkun+G6XG39C",
      "include_colab_link": true
    },
    "kernelspec": {
      "name": "python3",
      "display_name": "Python 3"
    },
    "language_info": {
      "name": "python"
    }
  },
  "cells": [
    {
      "cell_type": "markdown",
      "metadata": {
        "id": "view-in-github",
        "colab_type": "text"
      },
      "source": [
        "<a href=\"https://colab.research.google.com/github/gramelon2003/Python_ptdl/blob/master/Python_matrix.ipynb\" target=\"_parent\"><img src=\"https://colab.research.google.com/assets/colab-badge.svg\" alt=\"Open In Colab\"/></a>"
      ]
    },
    {
      "cell_type": "markdown",
      "source": [
        "Bài 1"
      ],
      "metadata": {
        "id": "4kl2MMW8f1eb"
      }
    },
    {
      "cell_type": "code",
      "source": [
        "import numpy as np\n",
        "a = np.random.randint(0, 20, size=(5,7))\n",
        "print(a)"
      ],
      "metadata": {
        "colab": {
          "base_uri": "https://localhost:8080/"
        },
        "id": "fVJmLFCEf4IZ",
        "outputId": "f6d47e59-6398-4f8e-a648-4038e73bba92"
      },
      "execution_count": null,
      "outputs": [
        {
          "output_type": "stream",
          "name": "stdout",
          "text": [
            "[[ 6  8  0 12 10 16 14]\n",
            " [14  9 14 19 11  5  5]\n",
            " [ 1  7 15 12  9  3  2]\n",
            " [18  9 19 15  7  5  7]\n",
            " [17  8  8  7  4 11 10]]\n"
          ]
        }
      ]
    },
    {
      "cell_type": "markdown",
      "source": [
        "Bài 2"
      ],
      "metadata": {
        "id": "bEq1GsNSf3Yi"
      }
    },
    {
      "cell_type": "code",
      "execution_count": null,
      "metadata": {
        "colab": {
          "base_uri": "https://localhost:8080/"
        },
        "id": "tGy53Tk_aYdU",
        "outputId": "676d72ad-c8f3-486b-ed15-3fadcec735d8"
      },
      "outputs": [
        {
          "output_type": "stream",
          "name": "stdout",
          "text": [
            "[[0. 0. 0. 0. 0. 0. 0.]\n",
            " [0. 0. 0. 0. 0. 0. 0.]\n",
            " [0. 0. 0. 0. 0. 0. 0.]\n",
            " [0. 0. 0. 0. 0. 0. 0.]\n",
            " [0. 0. 0. 0. 0. 0. 0.]\n",
            " [0. 0. 0. 0. 0. 0. 0.]]\n"
          ]
        }
      ],
      "source": [
        "import numpy as np\n",
        "a = np.zeros((6, 7))\n",
        "print(a)"
      ]
    },
    {
      "cell_type": "markdown",
      "source": [
        "Bài 3"
      ],
      "metadata": {
        "id": "Ku5u7S4qxm8F"
      }
    },
    {
      "cell_type": "code",
      "source": [
        "import numpy as np\n",
        "a = np.random.randint(0, 20, size=(7,7))\n",
        "print(a)"
      ],
      "metadata": {
        "colab": {
          "base_uri": "https://localhost:8080/"
        },
        "id": "0m_GEA9vxn-F",
        "outputId": "d294b809-6aa2-49ee-a1e5-f52e4b72e03d"
      },
      "execution_count": null,
      "outputs": [
        {
          "output_type": "stream",
          "name": "stdout",
          "text": [
            "[[ 2 16  7 12 16 14 13]\n",
            " [ 5  1 16  0  1 18  1]\n",
            " [13  5 15 10  6  9  8]\n",
            " [12  7 15 14 15  0 15]\n",
            " [ 2  0 16  1  6 10 14]\n",
            " [11  8 16 17  9  6  1]\n",
            " [ 2  8 19  5  7  6 15]]\n"
          ]
        }
      ]
    },
    {
      "cell_type": "markdown",
      "source": [
        "Bài 4"
      ],
      "metadata": {
        "id": "i-9sw4a63y8Z"
      }
    },
    {
      "cell_type": "code",
      "source": [
        "import numpy as np\n",
        "a = np.zeros((6, 6))\n",
        "np.fill_diagonal(a, 15)\n",
        "print(a)"
      ],
      "metadata": {
        "colab": {
          "base_uri": "https://localhost:8080/"
        },
        "id": "HK_y6LfA3z7f",
        "outputId": "0d1fc950-f6ed-4dce-ff31-05862a2155d2"
      },
      "execution_count": null,
      "outputs": [
        {
          "output_type": "stream",
          "name": "stdout",
          "text": [
            "[[15.  0.  0.  0.  0.  0.]\n",
            " [ 0. 15.  0.  0.  0.  0.]\n",
            " [ 0.  0. 15.  0.  0.  0.]\n",
            " [ 0.  0.  0. 15.  0.  0.]\n",
            " [ 0.  0.  0.  0. 15.  0.]\n",
            " [ 0.  0.  0.  0.  0. 15.]]\n"
          ]
        }
      ]
    },
    {
      "cell_type": "markdown",
      "source": [
        "Bài 5"
      ],
      "metadata": {
        "id": "0dQ4jhOX5O_X"
      }
    },
    {
      "cell_type": "code",
      "source": [
        "import numpy as np\n",
        "a = np.random.randint(0, 20, size = (8, 8))\n",
        "np.triu(a, 0)"
      ],
      "metadata": {
        "colab": {
          "base_uri": "https://localhost:8080/"
        },
        "id": "b-5dUxH95P5n",
        "outputId": "e509bc9a-d5db-424a-923e-a14f1a149895"
      },
      "execution_count": null,
      "outputs": [
        {
          "output_type": "execute_result",
          "data": {
            "text/plain": [
              "array([[ 4, 13,  7, 14,  1,  5,  9, 12],\n",
              "       [ 0,  2,  7,  2,  8,  5,  3,  8],\n",
              "       [ 0,  0, 13,  5, 18, 17, 14, 19],\n",
              "       [ 0,  0,  0, 17, 10,  4, 13,  3],\n",
              "       [ 0,  0,  0,  0, 13, 11,  3,  2],\n",
              "       [ 0,  0,  0,  0,  0,  7,  9, 11],\n",
              "       [ 0,  0,  0,  0,  0,  0,  2,  8],\n",
              "       [ 0,  0,  0,  0,  0,  0,  0,  5]])"
            ]
          },
          "metadata": {},
          "execution_count": 16
        }
      ]
    },
    {
      "cell_type": "markdown",
      "source": [
        "Bài 6"
      ],
      "metadata": {
        "id": "1vgjuIkK7KEH"
      }
    },
    {
      "cell_type": "code",
      "source": [
        "import numpy as np\n",
        "a = np.random.randint(0, 20, size = (8, 8))\n",
        "np.tril(a, 0)\n"
      ],
      "metadata": {
        "colab": {
          "base_uri": "https://localhost:8080/"
        },
        "id": "-l-RNL6V6xn_",
        "outputId": "e6de1bea-aa95-4f42-e425-ed715f9a57a7"
      },
      "execution_count": null,
      "outputs": [
        {
          "output_type": "execute_result",
          "data": {
            "text/plain": [
              "array([[19,  0,  0,  0,  0,  0,  0,  0],\n",
              "       [13,  5,  0,  0,  0,  0,  0,  0],\n",
              "       [15, 14,  4,  0,  0,  0,  0,  0],\n",
              "       [ 5, 19, 18, 16,  0,  0,  0,  0],\n",
              "       [ 3, 14,  4,  5,  5,  0,  0,  0],\n",
              "       [ 1,  8, 19, 16, 14, 19,  0,  0],\n",
              "       [ 8, 11, 16,  2, 11, 10, 16,  0],\n",
              "       [ 6,  8, 15,  2,  5,  4,  8, 11]])"
            ]
          },
          "metadata": {},
          "execution_count": 17
        }
      ]
    },
    {
      "cell_type": "markdown",
      "source": [
        "Bài 7"
      ],
      "metadata": {
        "id": "NTaxKIU-7RxA"
      }
    },
    {
      "cell_type": "code",
      "source": [
        "import numpy as np\n",
        "a = np.identity(9)\n",
        "print(a)"
      ],
      "metadata": {
        "colab": {
          "base_uri": "https://localhost:8080/"
        },
        "id": "wdyCPEa37TqX",
        "outputId": "ce06987c-07b0-4e95-9f44-6fe499b58194"
      },
      "execution_count": null,
      "outputs": [
        {
          "output_type": "stream",
          "name": "stdout",
          "text": [
            "[[1. 0. 0. 0. 0. 0. 0. 0. 0.]\n",
            " [0. 1. 0. 0. 0. 0. 0. 0. 0.]\n",
            " [0. 0. 1. 0. 0. 0. 0. 0. 0.]\n",
            " [0. 0. 0. 1. 0. 0. 0. 0. 0.]\n",
            " [0. 0. 0. 0. 1. 0. 0. 0. 0.]\n",
            " [0. 0. 0. 0. 0. 1. 0. 0. 0.]\n",
            " [0. 0. 0. 0. 0. 0. 1. 0. 0.]\n",
            " [0. 0. 0. 0. 0. 0. 0. 1. 0.]\n",
            " [0. 0. 0. 0. 0. 0. 0. 0. 1.]]\n"
          ]
        }
      ]
    },
    {
      "cell_type": "markdown",
      "source": [
        "Bài 8"
      ],
      "metadata": {
        "id": "2RasZzsS7dpA"
      }
    },
    {
      "cell_type": "markdown",
      "source": [
        "8.1"
      ],
      "metadata": {
        "id": "C-pKbtAyBgta"
      }
    },
    {
      "cell_type": "code",
      "source": [
        "import numpy as np\n",
        "a = np.random.randint(0, 20, size = (6, 7))\n",
        "b = np.random.randint(0, 20, size = (6, 7))\n",
        "c = a + b\n",
        "print(a)\n",
        "print(b)\n",
        "print(c)"
      ],
      "metadata": {
        "colab": {
          "base_uri": "https://localhost:8080/"
        },
        "id": "IjlQSbmN7efU",
        "outputId": "80a455a6-51ee-4e57-9aa4-1f6401588d38"
      },
      "execution_count": null,
      "outputs": [
        {
          "output_type": "stream",
          "name": "stdout",
          "text": [
            "[[14 10  2 14  6 18 19]\n",
            " [13  9 16  5 10 18  8]\n",
            " [ 3  8 13  0  7 19 11]\n",
            " [ 4 17 13 19  9  5 11]\n",
            " [ 6 18 16  8 18 18 12]\n",
            " [ 4  5  8 16 19  9  7]]\n",
            "[[ 6  6 18  1  5 12 14]\n",
            " [ 9 17 13  6  4  3 17]\n",
            " [19  6  7  7 11  6 11]\n",
            " [10 18 12 16  1  8  4]\n",
            " [ 0 13 15 13 19  9 10]\n",
            " [ 1  5  4  0  9 16  8]]\n",
            "[[20 16 20 15 11 30 33]\n",
            " [22 26 29 11 14 21 25]\n",
            " [22 14 20  7 18 25 22]\n",
            " [14 35 25 35 10 13 15]\n",
            " [ 6 31 31 21 37 27 22]\n",
            " [ 5 10 12 16 28 25 15]]\n"
          ]
        }
      ]
    },
    {
      "cell_type": "markdown",
      "source": [
        "8.2"
      ],
      "metadata": {
        "id": "yGu8ylojBh9A"
      }
    },
    {
      "cell_type": "code",
      "source": [
        "import numpy as np\n",
        "c = int(input(\"nhap so n tu ban phim: \"))\n",
        "a = np.random.randint(0, 20, size = (5, 8))\n",
        "d = a*c\n",
        "print(a)\n",
        "print(d)"
      ],
      "metadata": {
        "colab": {
          "base_uri": "https://localhost:8080/"
        },
        "id": "7sGW7wy4Bi1g",
        "outputId": "7a847ad2-d5c7-43ea-e0ba-6ab905d76828"
      },
      "execution_count": null,
      "outputs": [
        {
          "output_type": "stream",
          "name": "stdout",
          "text": [
            "nhap so n tu ban phim: 4\n",
            "[[ 9  4 18 14 17  3 17  5]\n",
            " [15  7  0  4 18 16 13 17]\n",
            " [ 6  3 10  1  2 19 15  9]\n",
            " [12  4  6 12 15 10  7 11]\n",
            " [14  7  7  3 14 12 18  9]]\n",
            "[[36 16 72 56 68 12 68 20]\n",
            " [60 28  0 16 72 64 52 68]\n",
            " [24 12 40  4  8 76 60 36]\n",
            " [48 16 24 48 60 40 28 44]\n",
            " [56 28 28 12 56 48 72 36]]\n"
          ]
        }
      ]
    },
    {
      "cell_type": "markdown",
      "source": [
        "8.3"
      ],
      "metadata": {
        "id": "bgL9t1SiE-mG"
      }
    },
    {
      "cell_type": "code",
      "source": [
        "import numpy as np\n",
        "a = np.random.randint(0, 20, size = (3, 7))\n",
        "b = np.transpose(a)\n",
        "print(a)\n",
        "print(b)"
      ],
      "metadata": {
        "colab": {
          "base_uri": "https://localhost:8080/"
        },
        "id": "YZFztXuHE_bF",
        "outputId": "7fe4f895-bb97-4b94-8ae5-c8227765d675"
      },
      "execution_count": null,
      "outputs": [
        {
          "output_type": "stream",
          "name": "stdout",
          "text": [
            "[[ 5  1  7 15 14  7 12]\n",
            " [13  6  6  7  3  3 11]\n",
            " [14 18  9 19 14  1 12]]\n",
            "[[ 5 13 14]\n",
            " [ 1  6 18]\n",
            " [ 7  6  9]\n",
            " [15  7 19]\n",
            " [14  3 14]\n",
            " [ 7  3  1]\n",
            " [12 11 12]]\n"
          ]
        }
      ]
    },
    {
      "cell_type": "markdown",
      "source": [
        "8.4"
      ],
      "metadata": {
        "id": "7UReN3uGFPtX"
      }
    },
    {
      "cell_type": "code",
      "source": [
        "import numpy as np\n",
        "a = np.random.randint(0, 20, size = (5, 7))\n",
        "b = np.random.randint(0, 20, size = (7, 3))\n",
        "c = np.dot(a, b)\n",
        "print(a)\n",
        "print(b)\n",
        "print(c)"
      ],
      "metadata": {
        "colab": {
          "base_uri": "https://localhost:8080/"
        },
        "id": "LvGj7vJSFQh1",
        "outputId": "431d40fa-2acb-4bb1-9d3a-875bfd808af5"
      },
      "execution_count": null,
      "outputs": [
        {
          "output_type": "stream",
          "name": "stdout",
          "text": [
            "[[10 14 16  1 16 17  3]\n",
            " [ 5 16  5  3  0 11  6]\n",
            " [15  6  1  8  3 12  0]\n",
            " [12 16 18 19 16 17  0]\n",
            " [ 5  8  8  1  5 18  3]]\n",
            "[[13 19  2]\n",
            " [10 12  8]\n",
            " [ 3  6  4]\n",
            " [11 14 15]\n",
            " [ 8 10 12]\n",
            " [ 8 11  0]\n",
            " [ 3  5 12]]\n",
            "[[ 602  830  439]\n",
            " [ 379  510  275]\n",
            " [ 466  637  238]\n",
            " [ 843 1141  701]\n",
            " [ 373  516  217]]\n"
          ]
        }
      ]
    },
    {
      "cell_type": "markdown",
      "source": [
        "8.5"
      ],
      "metadata": {
        "id": "aiQaRI02GADd"
      }
    },
    {
      "cell_type": "code",
      "source": [
        "import numpy as np\n",
        "a = np.random.randint(0, 20, size = (5, 5))\n",
        "b = np.linalg.inv(a)\n",
        "print(a)\n",
        "print(b)"
      ],
      "metadata": {
        "colab": {
          "base_uri": "https://localhost:8080/"
        },
        "id": "IwVOibgEGAxd",
        "outputId": "8cfb5bcd-18a9-4387-a5ea-f3cb9fc2e0a2"
      },
      "execution_count": null,
      "outputs": [
        {
          "output_type": "stream",
          "name": "stdout",
          "text": [
            "[[17 14  9 11  7]\n",
            " [ 6 17  4 16 19]\n",
            " [13 17 10  3 11]\n",
            " [10 16  6  2  4]\n",
            " [17 11 18 19 13]]\n",
            "[[ 0.17090342 -0.02752315  0.08092752 -0.15675203 -0.07204451]\n",
            " [-0.05613306  0.02079002 -0.06756757  0.15488565  0.00935551]\n",
            " [-0.15176715 -0.03638254 -0.00675676  0.1039501   0.10862786]\n",
            " [ 0.00959176  0.02969665 -0.12208231  0.06612644  0.03438622]\n",
            " [ 0.02012852  0.02537328  0.13912776 -0.16665092 -0.03744566]]\n"
          ]
        }
      ]
    },
    {
      "cell_type": "markdown",
      "source": [
        "Bài 9"
      ],
      "metadata": {
        "id": "7MXW4m7UG0MW"
      }
    },
    {
      "cell_type": "markdown",
      "source": [
        "9.1"
      ],
      "metadata": {
        "id": "MMNAG_PrG2F2"
      }
    },
    {
      "cell_type": "code",
      "source": [
        "import numpy as np\n",
        "a = np.random.randint(0, 8, size = (1, 8))\n",
        "print(a)"
      ],
      "metadata": {
        "colab": {
          "base_uri": "https://localhost:8080/"
        },
        "id": "4gDNYAH6G1K0",
        "outputId": "7d4182dc-1233-43aa-e3d1-419484c750ba"
      },
      "execution_count": null,
      "outputs": [
        {
          "output_type": "stream",
          "name": "stdout",
          "text": [
            "[[7 2 3 2 4 4 1 4]]\n"
          ]
        }
      ]
    },
    {
      "cell_type": "markdown",
      "source": [
        "9.2"
      ],
      "metadata": {
        "id": "ti_oFZpWHR9N"
      }
    },
    {
      "cell_type": "code",
      "source": [
        "import numpy as np\n",
        "a = np.random.randint(0, 8, size = (8, 1))\n",
        "print(a)"
      ],
      "metadata": {
        "colab": {
          "base_uri": "https://localhost:8080/"
        },
        "id": "RNgj_a58HSrL",
        "outputId": "671bde47-7200-4abb-920c-9d22b0acfa7a"
      },
      "execution_count": null,
      "outputs": [
        {
          "output_type": "stream",
          "name": "stdout",
          "text": [
            "[[6]\n",
            " [0]\n",
            " [6]\n",
            " [7]\n",
            " [4]\n",
            " [3]\n",
            " [7]\n",
            " [1]]\n"
          ]
        }
      ]
    },
    {
      "cell_type": "markdown",
      "source": [
        "Bài 10"
      ],
      "metadata": {
        "id": "7DmArVhxH0eu"
      }
    },
    {
      "cell_type": "code",
      "source": [
        "import numpy as np\n",
        "m = int(input(\"nhap m: \"))\n",
        "n = int(input(\"nhap n: \"))\n",
        "if m != n:\n",
        "    print (\"ma tran khong kha nghich\")\n",
        "else:   \n",
        "    a = np.random.randint(0, 20, size = (m, n))\n",
        "    b = np.random.randint(0, 20, n)\n",
        "    c = np.linalg.inv(a)\n",
        "    x = c*b\n",
        "    print(x)"
      ],
      "metadata": {
        "colab": {
          "base_uri": "https://localhost:8080/"
        },
        "id": "izH_hxp8H2EV",
        "outputId": "eabf74df-ef9e-44bf-e077-7e5dee41e52b"
      },
      "execution_count": null,
      "outputs": [
        {
          "output_type": "stream",
          "name": "stdout",
          "text": [
            "nhap m: 4\n",
            "nhap n: 4\n",
            "[[ -4.1463964   -1.27702703   1.42567568   0.65878378]\n",
            " [ 20.25900901   9.18243243  -8.06081081  -1.16554054]\n",
            " [-22.13513514  -9.48648649   9.16216216   0.60810811]\n",
            " [ 14.93018018   5.89864865  -5.96621622  -0.18581081]]\n"
          ]
        }
      ]
    }
  ]
}