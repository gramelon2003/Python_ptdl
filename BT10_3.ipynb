{
  "nbformat": 4,
  "nbformat_minor": 0,
  "metadata": {
    "colab": {
      "name": "BT10/3.ipynb",
      "provenance": [],
      "authorship_tag": "ABX9TyM9nCXiTq6s+aY5bV4RDjqq",
      "include_colab_link": true
    },
    "kernelspec": {
      "name": "python3",
      "display_name": "Python 3"
    },
    "language_info": {
      "name": "python"
    }
  },
  "cells": [
    {
      "cell_type": "markdown",
      "metadata": {
        "id": "view-in-github",
        "colab_type": "text"
      },
      "source": [
        "<a href=\"https://colab.research.google.com/github/gramelon2003/Python_ptdl/blob/master/BT10_3.ipynb\" target=\"_parent\"><img src=\"https://colab.research.google.com/assets/colab-badge.svg\" alt=\"Open In Colab\"/></a>"
      ]
    },
    {
      "cell_type": "code",
      "source": [
        "import numpy as np\n",
        "import scipy.stats as st\n",
        "x = numpy.random.uniform(100, 200, size = 25)\n",
        "print(x)\n",
        "print(x.mean())\n",
        "print(st.sem(x))\n",
        "st.t.interval(alpha=0.95, df=len(x)-1, loc=np.mean(x), scale=st.sem(x))"
      ],
      "metadata": {
        "colab": {
          "base_uri": "https://localhost:8080/"
        },
        "id": "qknKEU_eHUxQ",
        "outputId": "e8112acb-4fa7-4b1f-9a75-6daf8ce2cd93"
      },
      "execution_count": 45,
      "outputs": [
        {
          "output_type": "stream",
          "name": "stdout",
          "text": [
            "[111.07879096 199.57956735 131.91645458 132.17492514 170.07153469\n",
            " 154.6629599  186.15787995 161.87388613 113.79266339 101.74029331\n",
            " 181.75298337 103.2181776  136.80005599 195.7088664  161.58728732\n",
            " 172.4334951  191.9002264  122.65611242 141.25214501 165.97886012\n",
            " 152.70990666 125.96162408 127.00129484 175.32159295 141.09060829]\n",
            "150.3368876783673\n",
            "5.901352530501523\n"
          ]
        },
        {
          "output_type": "execute_result",
          "data": {
            "text/plain": [
              "(138.15709467900533, 162.51668067772928)"
            ]
          },
          "metadata": {},
          "execution_count": 45
        }
      ]
    },
    {
      "cell_type": "code",
      "execution_count": 46,
      "metadata": {
        "colab": {
          "base_uri": "https://localhost:8080/"
        },
        "id": "yRDQEFM0_6c_",
        "outputId": "76e83223-99e2-414f-f4bb-d5c88a0f728a"
      },
      "outputs": [
        {
          "output_type": "stream",
          "name": "stdout",
          "text": [
            "[ 0.08264533  1.44733974 -0.28222548 -0.15073036 -0.91922334 -0.25659465\n",
            " -0.86004225  1.36904053  0.092426    1.11997369 -0.1365009   0.56527748\n",
            "  0.84164918 -0.35603747  0.32683537 -0.74321444 -1.7655479  -1.06308146\n",
            " -1.02280108 -0.35834657]\n",
            "(-0.4954726643845088, 0.2885568070556808)\n"
          ]
        }
      ],
      "source": [
        "from scipy.stats import t\n",
        "import numpy\n",
        "\n",
        "x = numpy.random.normal(size=20)\n",
        "\n",
        "m = x.mean()\n",
        "s = x.std()\n",
        "\n",
        "dof = len(x)-1\n",
        "\n",
        "confidence = 0.95\n",
        "\n",
        "t_crit = np.abs(t.ppf((1-confidence)/2,dof))\n",
        "\n",
        "print(x)\n",
        "\n",
        "print((m-s*t_crit/np.sqrt(len(x)), m+s*t_crit/np.sqrt(len(x))))"
      ]
    }
  ]
}