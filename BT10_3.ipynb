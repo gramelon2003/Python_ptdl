{
  "nbformat": 4,
  "nbformat_minor": 0,
  "metadata": {
    "colab": {
      "name": "BT10/3.ipynb",
      "provenance": [],
      "authorship_tag": "ABX9TyO1Z+oDjkF5QauJvlRY11WK",
      "include_colab_link": true
    },
    "kernelspec": {
      "name": "python3",
      "display_name": "Python 3"
    },
    "language_info": {
      "name": "python"
    }
  },
  "cells": [
    {
      "cell_type": "markdown",
      "metadata": {
        "id": "view-in-github",
        "colab_type": "text"
      },
      "source": [
        "<a href=\"https://colab.research.google.com/github/gramelon2003/Python_ptdl/blob/master/BT10_3.ipynb\" target=\"_parent\"><img src=\"https://colab.research.google.com/assets/colab-badge.svg\" alt=\"Open In Colab\"/></a>"
      ]
    },
    {
      "cell_type": "code",
      "source": [
        "import numpy as np\n",
        "import scipy.stats as st\n",
        "x = numpy.random.uniform(100, 200, size = 25)\n",
        "print(x)\n",
        "print(x.mean())\n",
        "print(st.sem(x))\n",
        "st.t.interval(alpha=0.95, df=len(x)-1, loc=np.mean(x), scale=st.sem(x))"
      ],
      "metadata": {
        "colab": {
          "base_uri": "https://localhost:8080/"
        },
        "id": "qknKEU_eHUxQ",
        "outputId": "e8112acb-4fa7-4b1f-9a75-6daf8ce2cd93"
      },
      "execution_count": 45,
      "outputs": [
        {
          "output_type": "stream",
          "name": "stdout",
          "text": [
            "[111.07879096 199.57956735 131.91645458 132.17492514 170.07153469\n",
            " 154.6629599  186.15787995 161.87388613 113.79266339 101.74029331\n",
            " 181.75298337 103.2181776  136.80005599 195.7088664  161.58728732\n",
            " 172.4334951  191.9002264  122.65611242 141.25214501 165.97886012\n",
            " 152.70990666 125.96162408 127.00129484 175.32159295 141.09060829]\n",
            "150.3368876783673\n",
            "5.901352530501523\n"
          ]
        },
        {
          "output_type": "execute_result",
          "data": {
            "text/plain": [
              "(138.15709467900533, 162.51668067772928)"
            ]
          },
          "metadata": {},
          "execution_count": 45
        }
      ]
    },
    {
      "cell_type": "code",
      "execution_count": 37,
      "metadata": {
        "colab": {
          "base_uri": "https://localhost:8080/"
        },
        "id": "yRDQEFM0_6c_",
        "outputId": "778db300-c015-4d4b-d684-50d2ed18521e"
      },
      "outputs": [
        {
          "output_type": "stream",
          "name": "stdout",
          "text": [
            "[-2.41903041e-01  1.44389344e+00  8.63706007e-01  6.61609380e-01\n",
            "  4.58506448e-01 -2.70684026e-01  1.47109326e-01  9.16465834e-01\n",
            " -3.24835890e-01  1.17479138e+00 -2.58100875e-01 -7.19162148e-01\n",
            " -2.46601999e-01 -9.90802190e-02 -5.69679502e-01  9.67099469e-01\n",
            "  6.09281763e-01 -5.01711333e-01  1.76632666e-01 -1.92246493e+00\n",
            " -8.06819717e-01  4.05382086e-01 -3.75263267e-01 -1.60683332e+00\n",
            " -1.32502016e-01  2.47368190e-01  1.08496098e+00 -1.69099089e+00\n",
            " -8.06340421e-01  2.35530052e-01  1.65479418e+00 -1.54765888e+00\n",
            "  1.51168338e-01 -2.64181271e+00 -1.45819062e+00  3.72270322e-01\n",
            " -4.76839942e-01  5.76728503e-01  9.89636741e-01 -2.46507149e-01\n",
            "  6.71634162e-01 -1.01481340e+00  7.59098156e-01  1.31269862e+00\n",
            " -8.37601187e-01 -4.53436982e-01 -8.31221374e-01  1.70831880e+00\n",
            "  8.92497269e-01 -2.61543976e-01  6.05713038e-01  2.21706615e+00\n",
            "  1.25263486e+00 -1.01852512e+00 -5.94958887e-01  3.29244669e-01\n",
            "  6.70146073e-03  7.85033374e-02  8.03450710e-01 -2.55395002e-01\n",
            " -2.20668995e-01 -1.11405449e+00  4.78275365e-01  1.19901441e-01\n",
            "  2.40590505e-01  3.51657845e-01  1.79585415e-01 -2.93523118e-01\n",
            " -5.53374435e-01  3.92158983e-01  1.86931005e+00 -2.86183296e+00\n",
            " -8.56728513e-01 -1.37075142e+00 -7.83325408e-01  1.50004674e+00\n",
            " -1.15297040e+00 -2.57154271e+00  3.50811379e-01 -4.90432159e-01\n",
            "  1.68320896e+00 -1.38219261e+00 -1.07009657e+00  7.22275139e-01\n",
            " -3.77264555e-01 -7.39474010e-01  7.29566834e-01 -3.47347048e-01\n",
            " -9.78525926e-01  1.27689711e+00 -2.73882838e+00 -3.97935808e-01\n",
            "  8.77276144e-02  2.42866093e-03 -1.09539080e+00 -3.37185918e-01\n",
            " -3.12491040e-02  1.50385503e-01  2.21402060e+00  2.25182754e+00]\n",
            "(-0.2656011316096511, 0.15358108922082417)\n"
          ]
        }
      ],
      "source": [
        "from scipy.stats import t\n",
        "import numpy\n",
        "\n",
        "x = numpy.random.normal(size=100)\n",
        "\n",
        "m = x.mean()\n",
        "s = x.std()\n",
        "\n",
        "dof = len(x)-1\n",
        "\n",
        "confidence = 0.95\n",
        "\n",
        "t_crit = np.abs(t.ppf((1-confidence)/2,dof))\n",
        "\n",
        "print(x)\n",
        "\n",
        "print((m-s*t_crit/np.sqrt(len(x)), m+s*t_crit/np.sqrt(len(x))))"
      ]
    }
  ]
}