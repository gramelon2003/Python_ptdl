{
  "nbformat": 4,
  "nbformat_minor": 0,
  "metadata": {
    "colab": {
      "name": "Kiem_dinh_f.ipynb",
      "provenance": [],
      "authorship_tag": "ABX9TyOcC4TPMx+imbrolM6r89la",
      "include_colab_link": true
    },
    "kernelspec": {
      "name": "python3",
      "display_name": "Python 3"
    },
    "language_info": {
      "name": "python"
    }
  },
  "cells": [
    {
      "cell_type": "markdown",
      "metadata": {
        "id": "view-in-github",
        "colab_type": "text"
      },
      "source": [
        "<a href=\"https://colab.research.google.com/github/gramelon2003/Python_ptdl/blob/master/Kiem_dinh_f.ipynb\" target=\"_parent\"><img src=\"https://colab.research.google.com/assets/colab-badge.svg\" alt=\"Open In Colab\"/></a>"
      ]
    },
    {
      "cell_type": "code",
      "execution_count": 2,
      "metadata": {
        "id": "GcHM7ZE8XGJH"
      },
      "outputs": [],
      "source": [
        "import numpy as np\n",
        "import pandas as pd\n",
        "import random\n",
        "from scipy import stats\n",
        "from statsmodels.stats.weightstats import ztest\n",
        "import warnings\n",
        "import matplotlib.pyplot as plt"
      ]
    },
    {
      "cell_type": "markdown",
      "source": [
        "Giả thuyết: \n",
        "\n",
        "$$H_{0}: \\sigma_{1}^{2} = \\sigma_{2}^{2}$$\n",
        "\n",
        "$$H_{a}: \\sigma_{1}^{2} < \\sigma_{2}^{2}$$\n",
        "\n",
        "Hoặc $$H_{a}: \\sigma_{1}^{2} < \\sigma_{2}^{2}$$"
      ],
      "metadata": {
        "id": "J2GcbsdhYGZY"
      }
    },
    {
      "cell_type": "markdown",
      "source": [
        "Mẫu 1"
      ],
      "metadata": {
        "id": "zowDUxZ9X7nb"
      }
    },
    {
      "cell_type": "code",
      "source": [
        "m1 = 12\n",
        "std1 = 3\n",
        "N1 = 500\n",
        "s1 = np.random.normal(m1, std1, N1)"
      ],
      "metadata": {
        "id": "jiYXWbHuXUJ4"
      },
      "execution_count": 7,
      "outputs": []
    },
    {
      "cell_type": "markdown",
      "source": [
        "Mẫu 2"
      ],
      "metadata": {
        "id": "n21dAkx4X_BX"
      }
    },
    {
      "cell_type": "code",
      "source": [
        "m2 = 12.5\n",
        "std2 = 2.75\n",
        "N2 = 750\n",
        "s2 = np.random.normal(m1, std1, N1)"
      ],
      "metadata": {
        "id": "y1B1inWEXdmk"
      },
      "execution_count": 8,
      "outputs": []
    },
    {
      "cell_type": "markdown",
      "source": [
        "Kiểm định"
      ],
      "metadata": {
        "id": "hemRppthYAPT"
      }
    },
    {
      "cell_type": "code",
      "source": [
        "stat_value, p_value = stats.bartlett(s1, s2)\n",
        "print(\"Stat value: \", stat_value, \"; p-value: \", p_value)"
      ],
      "metadata": {
        "colab": {
          "base_uri": "https://localhost:8080/"
        },
        "id": "iilMURwFXppL",
        "outputId": "aef8e818-da0c-481a-bb39-fce56b11455e"
      },
      "execution_count": 9,
      "outputs": [
        {
          "output_type": "stream",
          "name": "stdout",
          "text": [
            "Stat value:  2.6894592134962343 ; p-value:  0.1010140919639685\n"
          ]
        }
      ]
    },
    {
      "cell_type": "markdown",
      "source": [
        "Kết luận"
      ],
      "metadata": {
        "id": "BlKY9ZG2YDLo"
      }
    },
    {
      "cell_type": "code",
      "source": [
        "alpha = 0.05\n",
        "if(p_value <  alpha):\n",
        "  print(\"Có bằng chứng để bác bỏ giả thuyết H0\")\n",
        "else:\n",
        "  print(\"Chưa có bằng chứng để bác bỏ giả thuyết H0\")"
      ],
      "metadata": {
        "colab": {
          "base_uri": "https://localhost:8080/"
        },
        "id": "JwVG8p7WXuTc",
        "outputId": "f33ef801-b3ec-41c7-ce21-44674c173972"
      },
      "execution_count": 10,
      "outputs": [
        {
          "output_type": "stream",
          "name": "stdout",
          "text": [
            "Chưa có bằng chứng để bác bỏ giả thuyết H0\n"
          ]
        }
      ]
    }
  ]
}