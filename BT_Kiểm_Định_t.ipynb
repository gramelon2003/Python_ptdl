{
  "nbformat": 4,
  "nbformat_minor": 0,
  "metadata": {
    "colab": {
      "name": "BT_Kiểm_Định_t.ipynb",
      "provenance": [],
      "authorship_tag": "ABX9TyOkeTN2CyBF6SfEfldM0B6t",
      "include_colab_link": true
    },
    "kernelspec": {
      "name": "python3",
      "display_name": "Python 3"
    },
    "language_info": {
      "name": "python"
    }
  },
  "cells": [
    {
      "cell_type": "markdown",
      "metadata": {
        "id": "view-in-github",
        "colab_type": "text"
      },
      "source": [
        "<a href=\"https://colab.research.google.com/github/gramelon2003/Python_ptdl/blob/master/BT_Ki%E1%BB%83m_%C4%90%E1%BB%8Bnh_t.ipynb\" target=\"_parent\"><img src=\"https://colab.research.google.com/assets/colab-badge.svg\" alt=\"Open In Colab\"/></a>"
      ]
    },
    {
      "cell_type": "markdown",
      "source": [
        "Hàm"
      ],
      "metadata": {
        "id": "HR6nEBMCdl-V"
      }
    },
    {
      "cell_type": "code",
      "execution_count": 1,
      "metadata": {
        "id": "oaVMYxO9JjJK",
        "colab": {
          "base_uri": "https://localhost:8080/"
        },
        "outputId": "0b8112f7-86a7-415c-9456-429522eb5a2e"
      },
      "outputs": [
        {
          "output_type": "stream",
          "name": "stderr",
          "text": [
            "/usr/local/lib/python3.7/dist-packages/statsmodels/tools/_testing.py:19: FutureWarning: pandas.util.testing is deprecated. Use the functions in the public API at pandas.testing instead.\n",
            "  import pandas.util.testing as tm\n"
          ]
        }
      ],
      "source": [
        "import numpy as np\n",
        "import pandas as pd\n",
        "import random\n",
        "from scipy.stats import ttest_ind\n",
        "from scipy.stats import t\n",
        "import statsmodels.stats.weightstats\n",
        "import matplotlib.pyplot as plt"
      ]
    },
    {
      "cell_type": "markdown",
      "source": [
        "Giả thuyết H0: $$H_{0}: \\mu_{a} = μ_{b}$$\n",
        "\n",
        "Giả thuyết Ha: $$H_{A}: \\mu_{a} <> μ_{b}$$\n"
      ],
      "metadata": {
        "id": "szcgkiI1NQNw"
      }
    },
    {
      "cell_type": "markdown",
      "source": [
        "Mẫu 1"
      ],
      "metadata": {
        "id": "iHGyAGyddpGV"
      }
    },
    {
      "cell_type": "code",
      "source": [
        "mean = 100\n",
        "std = 30\n",
        "N = 100\n",
        "a = np.random.normal(mean, std, N)"
      ],
      "metadata": {
        "id": "PJpJTyS-KgDJ"
      },
      "execution_count": 2,
      "outputs": []
    },
    {
      "cell_type": "code",
      "source": [
        "plt.hist(a, 30, density=True)\n",
        "plt.show()"
      ],
      "metadata": {
        "colab": {
          "base_uri": "https://localhost:8080/",
          "height": 265
        },
        "id": "ojyIGU6Whaf-",
        "outputId": "b70af3d2-5161-4b45-87ca-a7dc90f26f2c"
      },
      "execution_count": 3,
      "outputs": [
        {
          "output_type": "display_data",
          "data": {
            "text/plain": [
              "<Figure size 432x288 with 1 Axes>"
            ],
            "image/png": "[encoded data removed]"
          },
          "metadata": {
            "needs_background": "light"
          }
        }
      ]
    },
    {
      "cell_type": "markdown",
      "source": [
        "Mẫu 2"
      ],
      "metadata": {
        "id": "hKnjU98XeFoG"
      }
    },
    {
      "cell_type": "code",
      "source": [
        "mean1 = 108\n",
        "std1 = 27\n",
        "N1 = 125\n",
        "b = np.random.normal(mean, std, N)"
      ],
      "metadata": {
        "id": "lGhhCiSySYjh"
      },
      "execution_count": 4,
      "outputs": []
    },
    {
      "cell_type": "code",
      "source": [
        "plt.hist(b, 30, density=True)\n",
        "plt.show()"
      ],
      "metadata": {
        "colab": {
          "base_uri": "https://localhost:8080/",
          "height": 265
        },
        "id": "9qSWvXNyhhYE",
        "outputId": "3039b1a4-dcd9-49c8-fa12-246268cb6d89"
      },
      "execution_count": 5,
      "outputs": [
        {
          "output_type": "display_data",
          "data": {
            "text/plain": [
              "<Figure size 432x288 with 1 Axes>"
            ],
            "image/png": "[encoded data removed]"
          },
          "metadata": {
            "needs_background": "light"
          }
        }
      ]
    },
    {
      "cell_type": "markdown",
      "source": [
        "KĐ 1 đuôi"
      ],
      "metadata": {
        "id": "8mEPndnyexbe"
      }
    },
    {
      "cell_type": "code",
      "source": [
        "print(statsmodels.stats.weightstats.ttest_ind(a, b, alternative=\"larger\"))\n",
        "print(statsmodels.stats.weightstats.ttest_ind(a, b, alternative=\"smaller\"))\n",
        "print(\"khong co bang chung bac bo H0\")"
      ],
      "metadata": {
        "colab": {
          "base_uri": "https://localhost:8080/"
        },
        "id": "lLAIQUH4ZfbH",
        "outputId": "a2b177bd-4d0c-415f-b704-592fd16d9560"
      },
      "execution_count": 6,
      "outputs": [
        {
          "output_type": "stream",
          "name": "stdout",
          "text": [
            "(-0.23333524757888127, 0.5921289292051309, 198.0)\n",
            "(-0.23333524757888127, 0.40787107079486906, 198.0)\n",
            "khong co bang chung bac bo H0\n"
          ]
        }
      ]
    },
    {
      "cell_type": "markdown",
      "source": [
        "KĐ 2 đuôi"
      ],
      "metadata": {
        "id": "CyLBp2_jezpV"
      }
    },
    {
      "cell_type": "code",
      "source": [
        "print(statsmodels.stats.weightstats.ttest_ind(a, b, alternative=\"two-sided\"))\n",
        "print(\"Khong co bang chung bac bo H0\")"
      ],
      "metadata": {
        "colab": {
          "base_uri": "https://localhost:8080/"
        },
        "id": "d15EaFYeZ1xP",
        "outputId": "e6f13761-de5d-4e60-fc33-fa8dd712fbea"
      },
      "execution_count": 7,
      "outputs": [
        {
          "output_type": "stream",
          "name": "stdout",
          "text": [
            "(-0.23333524757888127, 0.8157421415897381, 198.0)\n",
            "Khong co bang chung bac bo H0\n"
          ]
        }
      ]
    }
  ]
}