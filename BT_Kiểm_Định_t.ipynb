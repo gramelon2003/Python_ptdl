{
  "nbformat": 4,
  "nbformat_minor": 0,
  "metadata": {
    "colab": {
      "name": "BT_Kiểm_Định_t.ipynb",
      "provenance": [],
      "authorship_tag": "ABX9TyMQnzi5g1T8ygzL6Yn9lJdF",
      "include_colab_link": true
    },
    "kernelspec": {
      "name": "python3",
      "display_name": "Python 3"
    },
    "language_info": {
      "name": "python"
    }
  },
  "cells": [
    {
      "cell_type": "markdown",
      "metadata": {
        "id": "view-in-github",
        "colab_type": "text"
      },
      "source": [
        "<a href=\"https://colab.research.google.com/github/gramelon2003/Python_ptdl/blob/master/BT_Ki%E1%BB%83m_%C4%90%E1%BB%8Bnh_t.ipynb\" target=\"_parent\"><img src=\"https://colab.research.google.com/assets/colab-badge.svg\" alt=\"Open In Colab\"/></a>"
      ]
    },
    {
      "cell_type": "markdown",
      "source": [
        "Hàm"
      ],
      "metadata": {
        "id": "HR6nEBMCdl-V"
      }
    },
    {
      "cell_type": "code",
      "execution_count": 45,
      "metadata": {
        "id": "oaVMYxO9JjJK"
      },
      "outputs": [],
      "source": [
        "import numpy as np\n",
        "import pandas as pd\n",
        "import random\n",
        "from scipy.stats import ttest_ind\n",
        "from scipy.stats import t\n",
        "import statsmodels.stats.weightstats\n",
        "import matplotlib.pyplot as plt"
      ]
    },
    {
      "cell_type": "markdown",
      "source": [
        "Giả thuyết H0: $$H_{0}: \\mu_{a} = μ_{b}$$\n",
        "\n",
        "Giả thuyết Ha: $$H_{A}: \\mu_{a} <> μ_{b}$$\n"
      ],
      "metadata": {
        "id": "szcgkiI1NQNw"
      }
    },
    {
      "cell_type": "markdown",
      "source": [
        "Mẫu 1"
      ],
      "metadata": {
        "id": "iHGyAGyddpGV"
      }
    },
    {
      "cell_type": "code",
      "source": [
        "mean = 100\n",
        "std = 30\n",
        "N = 100\n",
        "a = np.random.normal(mean, std, N)"
      ],
      "metadata": {
        "id": "PJpJTyS-KgDJ"
      },
      "execution_count": 33,
      "outputs": []
    },
    {
      "cell_type": "code",
      "source": [
        "plt.hist(a, 30, density=True)\n",
        "plt.show()"
      ],
      "metadata": {
        "colab": {
          "base_uri": "https://localhost:8080/",
          "height": 279
        },
        "id": "ojyIGU6Whaf-",
        "outputId": "759cb641-33b6-45c2-ca2d-8259d7673a4c"
      },
      "execution_count": 46,
      "outputs": [
        {
          "output_type": "display_data",
          "data": {
            "text/plain": [
              "<Figure size 432x288 with 1 Axes>"
            ],
            "image/png": "[encoded data removed]"
          },
          "metadata": {
            "needs_background": "light"
          }
        }
      ]
    },
    {
      "cell_type": "markdown",
      "source": [
        "Mẫu 2"
      ],
      "metadata": {
        "id": "hKnjU98XeFoG"
      }
    },
    {
      "cell_type": "code",
      "source": [
        "mean1 = 108\n",
        "std1 = 27\n",
        "N1 = 125\n",
        "b = np.random.normal(mean, std, N)"
      ],
      "metadata": {
        "id": "lGhhCiSySYjh"
      },
      "execution_count": 34,
      "outputs": []
    },
    {
      "cell_type": "code",
      "source": [
        "plt.hist(b, 30, density=True)\n",
        "plt.show()"
      ],
      "metadata": {
        "colab": {
          "base_uri": "https://localhost:8080/",
          "height": 279
        },
        "id": "9qSWvXNyhhYE",
        "outputId": "20372a16-df7b-4fa8-b0ff-d7b54f4f06bc"
      },
      "execution_count": 47,
      "outputs": [
        {
          "output_type": "display_data",
          "data": {
            "text/plain": [
              "<Figure size 432x288 with 1 Axes>"
            ],
            "image/png": "[encoded data removed]"
          },
          "metadata": {
            "needs_background": "light"
          }
        }
      ]
    },
    {
      "cell_type": "markdown",
      "source": [
        "KĐ 1 đuôi"
      ],
      "metadata": {
        "id": "8mEPndnyexbe"
      }
    },
    {
      "cell_type": "code",
      "source": [
        "print(statsmodels.stats.weightstats.ttest_ind(a, b, alternative=\"larger\"))\n",
        "print(statsmodels.stats.weightstats.ttest_ind(a, b, alternative=\"smaller\"))"
      ],
      "metadata": {
        "colab": {
          "base_uri": "https://localhost:8080/"
        },
        "id": "lLAIQUH4ZfbH",
        "outputId": "aa45ccba-dd42-4757-cd24-4ee6db3ee8b3"
      },
      "execution_count": 42,
      "outputs": [
        {
          "output_type": "stream",
          "name": "stdout",
          "text": [
            "(-0.2331366377473846, 0.5920519290081805, 198.0)\n",
            "(-0.2331366377473846, 0.4079480709918196, 198.0)\n"
          ]
        }
      ]
    },
    {
      "cell_type": "markdown",
      "source": [
        "KĐ 2 đuôi"
      ],
      "metadata": {
        "id": "CyLBp2_jezpV"
      }
    },
    {
      "cell_type": "code",
      "source": [
        "print(statsmodels.stats.weightstats.ttest_ind(a, b, alternative=\"two-sided\"))"
      ],
      "metadata": {
        "colab": {
          "base_uri": "https://localhost:8080/"
        },
        "id": "d15EaFYeZ1xP",
        "outputId": "23c81ce7-1283-4d16-8856-a08ffafe3f42"
      },
      "execution_count": 44,
      "outputs": [
        {
          "output_type": "stream",
          "name": "stdout",
          "text": [
            "(-0.2331366377473846, 0.8158961419836392, 198.0)\n"
          ]
        }
      ]
    }
  ]
}