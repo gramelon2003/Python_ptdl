{
  "nbformat": 4,
  "nbformat_minor": 0,
  "metadata": {
    "colab": {
      "name": "Numpy_1.ipynb",
      "provenance": [],
      "authorship_tag": "ABX9TyM0To8OiiOhO+fVynO2BhQW",
      "include_colab_link": true
    },
    "kernelspec": {
      "name": "python3",
      "display_name": "Python 3"
    },
    "language_info": {
      "name": "python"
    }
  },
  "cells": [
    {
      "cell_type": "markdown",
      "metadata": {
        "id": "view-in-github",
        "colab_type": "text"
      },
      "source": [
        "<a href=\"https://colab.research.google.com/github/gramelon2003/Python_ptdl/blob/master/Numpy_1.ipynb\" target=\"_parent\"><img src=\"https://colab.research.google.com/assets/colab-badge.svg\" alt=\"Open In Colab\"/></a>"
      ]
    },
    {
      "cell_type": "markdown",
      "source": [
        "Bài 1"
      ],
      "metadata": {
        "id": "cjZLep8vZgc5"
      }
    },
    {
      "cell_type": "code",
      "execution_count": null,
      "metadata": {
        "colab": {
          "base_uri": "https://localhost:8080/"
        },
        "id": "gW9FWqTeY6fW",
        "outputId": "d9126cce-42c1-4add-eba4-cea72c6c0e0e"
      },
      "outputs": [
        {
          "output_type": "stream",
          "name": "stdout",
          "text": [
            "[ 5  7 14]\n"
          ]
        }
      ],
      "source": [
        "import numpy as np\n",
        "a = [5, 7, 14]\n",
        "b = np.array(a)\n",
        "print(b)"
      ]
    },
    {
      "cell_type": "markdown",
      "source": [
        "Bài 2"
      ],
      "metadata": {
        "id": "Of-MhtHVZjrT"
      }
    },
    {
      "cell_type": "code",
      "source": [
        "import numpy as np\n",
        "a = [1, 2, 3, 4, 5, 6, 7, 8, 9, 10, 11, 12, 13, 14, 15]\n",
        "b = np.array(a)\n",
        "print(b)"
      ],
      "metadata": {
        "colab": {
          "base_uri": "https://localhost:8080/"
        },
        "id": "4zAY6K5sZkw3",
        "outputId": "f4fc5596-0cf5-4245-90cf-9f06abd3f41d"
      },
      "execution_count": null,
      "outputs": [
        {
          "output_type": "stream",
          "name": "stdout",
          "text": [
            "[ 1  2  3  4  5  6  7  8  9 10 11 12 13 14 15]\n"
          ]
        }
      ]
    },
    {
      "cell_type": "markdown",
      "source": [
        "Bài 3"
      ],
      "metadata": {
        "id": "RPnQVumgayRG"
      }
    },
    {
      "cell_type": "code",
      "source": [
        "import numpy as np\n",
        "n = int(input(\"nhap so n tu ban phim: \"))\n",
        "a = np.random.randint(0, 20, n)\n",
        "print(a)"
      ],
      "metadata": {
        "colab": {
          "base_uri": "https://localhost:8080/"
        },
        "id": "QhEefqY3azNZ",
        "outputId": "35dcbcff-7470-4cbf-820d-7223b4a0f4d0"
      },
      "execution_count": null,
      "outputs": [
        {
          "output_type": "stream",
          "name": "stdout",
          "text": [
            "nhap so n tu ban phim: 7\n",
            "[ 4 15  6  4 18  4 10]\n"
          ]
        }
      ]
    },
    {
      "cell_type": "markdown",
      "source": [
        "Bài 4"
      ],
      "metadata": {
        "id": "9MOitDFkbtRG"
      }
    },
    {
      "cell_type": "code",
      "source": [
        "import numpy as np\n",
        "a = np.array([7, -5, 8])\n",
        "m = np.linalg.norm(a)\n",
        "print(m)"
      ],
      "metadata": {
        "colab": {
          "base_uri": "https://localhost:8080/"
        },
        "id": "GYrXCEHFbuUw",
        "outputId": "08406bc8-58f2-4dfe-e75f-c81da81d6c30"
      },
      "execution_count": null,
      "outputs": [
        {
          "output_type": "stream",
          "name": "stdout",
          "text": [
            "11.74734012447073\n"
          ]
        }
      ]
    },
    {
      "cell_type": "markdown",
      "source": [
        "Bài 5"
      ],
      "metadata": {
        "id": "ZGnc_1vEcutv"
      }
    },
    {
      "cell_type": "code",
      "source": [
        ""
      ],
      "metadata": {
        "id": "FIiLee4Tgecs"
      },
      "execution_count": null,
      "outputs": []
    },
    {
      "cell_type": "markdown",
      "source": [
        "Bài 6"
      ],
      "metadata": {
        "id": "fCE36kregc-6"
      }
    },
    {
      "cell_type": "code",
      "source": [
        "import numpy as np\n",
        "n = int(input(\"nhap so n tu ban phim: \"))\n",
        "a = np.random.randint(0, 20, n)\n",
        "b = np.random.randint(0, 20, n)\n",
        "c = np.inner(a, b)\n",
        "print(c)"
      ],
      "metadata": {
        "id": "XHy37kKDghqk",
        "colab": {
          "base_uri": "https://localhost:8080/"
        },
        "outputId": "32cb2e1e-e8c1-4b86-cbeb-eb801c9cf5a9"
      },
      "execution_count": null,
      "outputs": [
        {
          "output_type": "stream",
          "name": "stdout",
          "text": [
            "nhap so n tu ban phim: 4\n",
            "166\n"
          ]
        }
      ]
    },
    {
      "cell_type": "markdown",
      "source": [
        "Bài 7"
      ],
      "metadata": {
        "id": "VEPOpA5gWyrq"
      }
    },
    {
      "cell_type": "code",
      "source": [
        "import numpy as np\n",
        "n = int(input(\"nhap so n tu ban phim: \"))\n",
        "a = np.random.randint(0, 20, n)\n",
        "b = np.random.randint(0, 20, n)\n",
        "c = np.cross(a, b)\n",
        "print(c)"
      ],
      "metadata": {
        "colab": {
          "base_uri": "https://localhost:8080/"
        },
        "id": "46GOIuv1W2gQ",
        "outputId": "0d3fc1bf-acfb-4bdb-caf3-10b9f69e0d6d"
      },
      "execution_count": null,
      "outputs": [
        {
          "output_type": "stream",
          "name": "stdout",
          "text": [
            "nhap so n tu ban phim: 3\n",
            "[ 129 -115 -234]\n"
          ]
        }
      ]
    },
    {
      "cell_type": "markdown",
      "source": [
        "Bài 8"
      ],
      "metadata": {
        "id": "iHO26UjYW-gI"
      }
    },
    {
      "cell_type": "code",
      "source": [
        "import numpy as np\n",
        "a = np.random.randint(0, 20, 3)\n",
        "print(a)\n",
        "b = np.transpose(a)\n",
        "print(b)"
      ],
      "metadata": {
        "colab": {
          "base_uri": "https://localhost:8080/"
        },
        "id": "78dzZe7mW_3w",
        "outputId": "5c406e4b-c32b-452a-94c4-d55a564c1f28"
      },
      "execution_count": null,
      "outputs": [
        {
          "output_type": "stream",
          "name": "stdout",
          "text": [
            "[ 7  6 14]\n",
            "[ 7  6 14]\n"
          ]
        }
      ]
    },
    {
      "cell_type": "markdown",
      "source": [
        "Bài 9"
      ],
      "metadata": {
        "id": "nS_WZt7mXl74"
      }
    },
    {
      "cell_type": "code",
      "source": [
        "import numpy as np\n",
        "a = [1, 2, 3, 4, 5]\n",
        "b = [[1], [2], [3], [4], [5]]\n",
        "print(a)\n",
        "print(b)\n",
        "c = np.array(a)\n",
        "d = np.array(b)\n",
        "print(c)\n",
        "print(d)\n",
        "e = np.transpose(a)\n",
        "f = np.transpose(b)\n",
        "print(e)\n",
        "print(f)"
      ],
      "metadata": {
        "colab": {
          "base_uri": "https://localhost:8080/"
        },
        "id": "91J1k4FQXn9x",
        "outputId": "0df16300-4ef5-4ba1-9f00-cc8852a72a4d"
      },
      "execution_count": null,
      "outputs": [
        {
          "output_type": "stream",
          "name": "stdout",
          "text": [
            "[1, 2, 3, 4, 5]\n",
            "[[1], [2], [3], [4], [5]]\n",
            "[1 2 3 4 5]\n",
            "[[1]\n",
            " [2]\n",
            " [3]\n",
            " [4]\n",
            " [5]]\n",
            "[1 2 3 4 5]\n",
            "[[1 2 3 4 5]]\n"
          ]
        }
      ]
    },
    {
      "cell_type": "markdown",
      "source": [
        "Bài 10"
      ],
      "metadata": {
        "id": "Fia22vmNYFe5"
      }
    },
    {
      "cell_type": "code",
      "source": [
        "import random\n",
        "import numpy as np\n",
        "n = int(input(\"nhap so n tu ban phim: \"))\n",
        "a = np.random.randint(0, 20, n)\n",
        "b = np.random.randint(0, 20, n)\n",
        "c = random.randint(0, 10)\n",
        "d = a*c\n",
        "e = np.add(a, b)\n",
        "print(a)\n",
        "print(b)\n",
        "print(c)\n",
        "print(d)\n",
        "print(e)"
      ],
      "metadata": {
        "colab": {
          "base_uri": "https://localhost:8080/"
        },
        "id": "pGly8VD2YGag",
        "outputId": "ca9a10b6-fb70-4dad-a3e4-8eb405b57086"
      },
      "execution_count": null,
      "outputs": [
        {
          "output_type": "stream",
          "name": "stdout",
          "text": [
            "nhap so n tu ban phim: 3\n",
            "[15 17  7]\n",
            "[17 12 17]\n",
            "6\n",
            "[ 90 102  42]\n",
            "[32 29 24]\n"
          ]
        }
      ]
    }
  ]
}