{
  "nbformat": 4,
  "nbformat_minor": 0,
  "metadata": {
    "colab": {
      "name": "PYthon_Pandas2.ipynb",
      "provenance": [],
      "authorship_tag": "ABX9TyNi63eL3NIr5+8CJ8tIrfKE",
      "include_colab_link": true
    },
    "kernelspec": {
      "name": "python3",
      "display_name": "Python 3"
    },
    "language_info": {
      "name": "python"
    }
  },
  "cells": [
    {
      "cell_type": "markdown",
      "metadata": {
        "id": "view-in-github",
        "colab_type": "text"
      },
      "source": [
        "<a href=\"https://colab.research.google.com/github/gramelon2003/Python_ptdl/blob/master/PYthon_Pandas2.ipynb\" target=\"_parent\"><img src=\"https://colab.research.google.com/assets/colab-badge.svg\" alt=\"Open In Colab\"/></a>"
      ]
    },
    {
      "cell_type": "markdown",
      "source": [
        "Bài 1:\n",
        "Tạo các Series với kích thước 1x10 thỏa mãn yêu cầu:\n",
        "- Series 1: có tên là “Họ và tên” và dữ liệu (định tính) do bạn tự nhập vào\n",
        "- Series 2: có tên là “Ngày sinh” & dữ liệu do bạn tự nhập vào\n",
        "- Series 3: có tên là “Tiền công/h” có dữ liệu định lượng do bạn tự nhập\n",
        "- Series 4: có tên là “Số h công” có dữ liệu định lượng do bạn tự nhập\n",
        "- Series 5: có tên là “Thực lĩnh” có kích thước 1x10 và để trống\n",
        "Hãy:\n",
        "\n",
        "- Tạo 1 dataframe bằng cách ghép các series trên lại với nhau\n",
        "- Hãy tính giá trị cho cột (column) “Thực lĩnh” theo công thức:\n",
        "Thực lĩnh = “Số h công” x “Tiền công/h”\n",
        "- Hãy in toàn bộ dataframe ở trên ra màn hình"
      ],
      "metadata": {
        "id": "qLA1p7pJNrwC"
      }
    },
    {
      "cell_type": "code",
      "execution_count": null,
      "metadata": {
        "colab": {
          "base_uri": "https://localhost:8080/"
        },
        "id": "AkBU2L9KEyNT",
        "outputId": "5e89d46c-b824-4b6f-ee67-2a77e65233ae"
      },
      "outputs": [
        {
          "output_type": "stream",
          "name": "stdout",
          "text": [
            "[140, 153, 120, 171, 64, 154, 204, 56, 315, 270]\n",
            "     Tên   Ngày sinh  Lương theo giờ  Giờ làm  Lương\n",
            "0  270.0  12/10/1998               7       20    140\n",
            "1    NaN   15/7/1997               9       17    153\n",
            "2    NaN    3/8/1992               8       15    120\n",
            "3    NaN   27/5/1987               9       19    171\n",
            "4    NaN   30/3/1993               8        8     64\n",
            "5    NaN    7/8/1995               7       22    154\n",
            "6    NaN    6/4/1994               6       34    204\n",
            "7    NaN    8/3/1992               7        8     56\n",
            "8    NaN  23/11/1989               9       35    315\n",
            "9    NaN  18/11/1996              10       27    270\n"
          ]
        }
      ],
      "source": [
        "import pandas as pd\n",
        "a = [\"Nguyễn Văn An\", \"Hoàng Lâm\", \"Lê Hoàng\", \"Nguyễn Nam\", \"Trần Phong\", \"Lê Trang\", \"Trần Đức\", \"Nguyễn Duy\", \"Lê Tôn\", \"Trần Ý\"]\n",
        "b = [\"12/10/1998\", \"15/7/1997\", \"3/8/1992\", \"27/5/1987\", \"30/3/1993\", \"7/8/1995\", \"6/4/1994\", \"8/3/1992\", \"23/11/1989\", \"18/11/1996\"]\n",
        "c = [7, 9, 8, 9, 8, 7, 6, 7, 9, 10]\n",
        "d = [20, 17, 15, 19, 8, 22, 34, 8, 35, 27]\n",
        "f = []\n",
        "for i in range(0, len(c)):\n",
        "    a = c[i]*d[i]\n",
        "    f.append(a)\n",
        "name = pd.Series(a, name=\"Tên\")\n",
        "birthday = pd.Series(b, name = \"Ngày sinh\")\n",
        "salaryh = pd.Series(c, name = \"Lương theo giờ\")\n",
        "workh = pd.Series(d, name = \"Giờ làm\")\n",
        "salary = pd.Series(f, name = \"Lương\")\n",
        "name1 = pd.DataFrame(name)\n",
        "print(f)\n",
        "n = pd.concat([name, birthday, salaryh, workh, salary], axis=1)\n",
        "print(n)"
      ]
    },
    {
      "cell_type": "markdown",
      "source": [
        "Bài 2:\n",
        "Khởi tạo dataframe bằng các phương pháp khác nhau, hãy:\n",
        "- Tạo dataframe có kích thước 10x3 từ cấu trúc list tương ứng, với dữ liệu cho dataframe này gồm các cột Họ tên, Tuổi và Giới tính. Xuất kết quả ra màn hình;\n",
        "- Tạo dataframe như trên nhưng từ cấu trúc Dictionary có chứa các List giá trị tương ứng với key. Xuất kết quả ra màn hình;\n",
        "- Tạo dataframe như trên nhưng từ cấu trúc List của các dictionary. Xuất kết quả ra màn hình;\n",
        "- Tạo 3 list (1x10) tương ứng với Họ tên, Tuổi và Giới tính. Sử dụng hàm zip() để tạo dataframe từ 3 list riêng biệt này. Xuất kết quả ra màn hình."
      ],
      "metadata": {
        "id": "YCvHwfHBNtuq"
      }
    },
    {
      "cell_type": "markdown",
      "source": [
        "2.1"
      ],
      "metadata": {
        "id": "TknCHD-5QOs7"
      }
    },
    {
      "cell_type": "code",
      "source": [
        "import pandas as pd\n",
        "import numpy as np\n",
        "a = [[\"Nguyễn Văn An\", \"Hoàng Lâm\", \"Lê Hoàng\", \"Nguyễn Nam\", \"Trần Phong\", \"Lê Trang\", \"Trần Đức\", \"Nguyễn Duy\", \"Lê Tôn\", \"Trần Ý\"],\n",
        "     [16, 22, 18, 19, 18, 17, 23, 25, 19, 25],\n",
        "     [\"Nam\", \"Nam\", \"Nam\", \"Nam\", \"Nam\", \"Nữ\", \"Nam\", \"Nam\", \"Nam\", \"Nữ\"]]\n",
        "b = np.array(a)\n",
        "b1 = np.transpose(b)\n",
        "a1 = pd.DataFrame(b1, columns = [\"Tên\", \"tuổi\", \"Giới Tính\"])\n",
        "print(a1)"
      ],
      "metadata": {
        "colab": {
          "base_uri": "https://localhost:8080/"
        },
        "id": "Uam3ycDTNuiz",
        "outputId": "0e12c5a9-9a48-4e61-f70d-96a4c43199de"
      },
      "execution_count": null,
      "outputs": [
        {
          "output_type": "stream",
          "name": "stdout",
          "text": [
            "             Tên tuổi Giới Tính\n",
            "0  Nguyễn Văn An   16       Nam\n",
            "1      Hoàng Lâm   22       Nam\n",
            "2       Lê Hoàng   18       Nam\n",
            "3     Nguyễn Nam   19       Nam\n",
            "4     Trần Phong   18       Nam\n",
            "5       Lê Trang   17        Nữ\n",
            "6       Trần Đức   23       Nam\n",
            "7     Nguyễn Duy   25       Nam\n",
            "8         Lê Tôn   19       Nam\n",
            "9         Trần Ý   25        Nữ\n"
          ]
        }
      ]
    },
    {
      "cell_type": "markdown",
      "source": [
        "2.2"
      ],
      "metadata": {
        "id": "BmDHCnqSQQJa"
      }
    },
    {
      "cell_type": "code",
      "source": [
        "import pandas as pd\n",
        "a = {\"Tên\" :[\"Nguyễn Văn An\", \"Hoàng Lâm\", \"Lê Hoàng\", \"Nguyễn Nam\", \"Trần Phong\", \"Lê Trang\", \"Trần Đức\", \"Nguyễn Duy\", \"Lê Tôn\", \"Trần Ý\"],\n",
        "\"Tuổi\": [16, 22, 18, 19, 18, 17, 23, 25, 19, 25],\n",
        "\"Giới tính\": [\"Nam\", \"Nam\", \"Nam\", \"Nam\", \"Nam\", \"Nữ\", \"Nam\", \"Nam\", \"Nam\", \"Nữ\"]}\n",
        "n = pd.DataFrame(a)\n",
        "print(n)"
      ],
      "metadata": {
        "colab": {
          "base_uri": "https://localhost:8080/"
        },
        "id": "AhhH8J_0QRzz",
        "outputId": "c8cd4763-0c6a-4b78-cb4e-12e28927f1ab"
      },
      "execution_count": null,
      "outputs": [
        {
          "output_type": "stream",
          "name": "stdout",
          "text": [
            "             Tên  Tuổi Giới tính\n",
            "0  Nguyễn Văn An    16       Nam\n",
            "1      Hoàng Lâm    22       Nam\n",
            "2       Lê Hoàng    18       Nam\n",
            "3     Nguyễn Nam    19       Nam\n",
            "4     Trần Phong    18       Nam\n",
            "5       Lê Trang    17        Nữ\n",
            "6       Trần Đức    23       Nam\n",
            "7     Nguyễn Duy    25       Nam\n",
            "8         Lê Tôn    19       Nam\n",
            "9         Trần Ý    25        Nữ\n"
          ]
        }
      ]
    },
    {
      "cell_type": "markdown",
      "source": [
        "2.3"
      ],
      "metadata": {
        "id": "Bd1jjrxyQ6WQ"
      }
    },
    {
      "cell_type": "code",
      "source": [
        "import pandas as pd\n",
        "a = [{\"Tên\":\"Nguyễn Văn An\", \"Tuổi\":16, \"Giới tính\": \"Nam\"},\n",
        "     {\"Tên\":\"Hoàng Lâm\", \"Tuổi\":22, \"Giới tính\": \"Nam\"},\n",
        "     {\"Tên\":\"Lê Hoàng\", \"Tuổi\":18, \"Giới tính\": \"Nam\"},\n",
        "     {\"Tên\":\"Nguyễn Nam\", \"Tuổi\":19, \"Giới tính\": \"Nam\"},\n",
        "     {\"Tên\":\"Trần Phong\", \"Tuổi\":18, \"Giới tính\": \"Nam\"},\n",
        "     {\"Tên\":\"Lê Trang\", \"Tuổi\":17, \"Giới tính\": \"Nữ\"},\n",
        "     {\"Tên\":\"Trần Đức\", \"Tuổi\":23, \"Giới tính\": \"Nam\"},\n",
        "     {\"Tên\":\"Nguyễn Duy\", \"Tuổi\":25, \"Giới tính\": \"Nam\"},\n",
        "     {\"Tên\":\"Lê Tôn\", \"Tuổi\":19, \"Giới tính\": \"Nam\"},\n",
        "     {\"Tên\":\"Trần Ý\", \"Tuổi\":25, \"Giới tính\": \"Nữ\"}]\n",
        "n = pd.DataFrame(a)\n",
        "print(n)"
      ],
      "metadata": {
        "colab": {
          "base_uri": "https://localhost:8080/"
        },
        "id": "eWMoEYQ5Q7PJ",
        "outputId": "489f0d85-0903-4d1f-d825-8b6f8791a371"
      },
      "execution_count": null,
      "outputs": [
        {
          "output_type": "stream",
          "name": "stdout",
          "text": [
            "             Tên  Tuổi Giới tính\n",
            "0  Nguyễn Văn An    16       Nam\n",
            "1      Hoàng Lâm    22       Nam\n",
            "2       Lê Hoàng    18       Nam\n",
            "3     Nguyễn Nam    19       Nam\n",
            "4     Trần Phong    18       Nam\n",
            "5       Lê Trang    17        Nữ\n",
            "6       Trần Đức    23       Nam\n",
            "7     Nguyễn Duy    25       Nam\n",
            "8         Lê Tôn    19       Nam\n",
            "9         Trần Ý    25        Nữ\n"
          ]
        }
      ]
    },
    {
      "cell_type": "markdown",
      "source": [
        "2.4"
      ],
      "metadata": {
        "id": "eDQW0WQgStzH"
      }
    },
    {
      "cell_type": "code",
      "source": [
        "import pandas as pd\n",
        "a = [\"Nguyễn Văn An\", \"Hoàng Lâm\", \"Lê Hoàng\", \"Nguyễn Nam\", \"Trần Phong\", \"Lê Trang\", \"Trần Đức\", \"Nguyễn Duy\", \"Lê Tôn\", \"Trần Ý\"]\n",
        "b = [16, 22, 18, 19, 18, 17, 23, 25, 19, 25]\n",
        "c = [\"Nam\", \"Nam\", \"Nam\", \"Nam\", \"Nam\", \"Nữ\", \"Nam\", \"Nam\", \"Nam\", \"Nữ\"]\n",
        "d = list(zip(a, b, c))\n",
        "d1 = pd.DataFrame(d, columns = [\"Tên\", \"Tuổi\", \"Giới tính\"])\n",
        "print(d1)"
      ],
      "metadata": {
        "colab": {
          "base_uri": "https://localhost:8080/"
        },
        "id": "3PADJFFoSuxr",
        "outputId": "a4e44f21-4dfe-40c3-d44d-8242e99282c2"
      },
      "execution_count": null,
      "outputs": [
        {
          "output_type": "stream",
          "name": "stdout",
          "text": [
            "             Tên  Tuổi Giới tính\n",
            "0  Nguyễn Văn An    16       Nam\n",
            "1      Hoàng Lâm    22       Nam\n",
            "2       Lê Hoàng    18       Nam\n",
            "3     Nguyễn Nam    19       Nam\n",
            "4     Trần Phong    18       Nam\n",
            "5       Lê Trang    17        Nữ\n",
            "6       Trần Đức    23       Nam\n",
            "7     Nguyễn Duy    25       Nam\n",
            "8         Lê Tôn    19       Nam\n",
            "9         Trần Ý    25        Nữ\n"
          ]
        }
      ]
    }
  ]
}