{
  "cells": [
    {
      "cell_type": "markdown",
      "metadata": {
        "id": "view-in-github",
        "colab_type": "text"
      },
      "source": [
        "<a href=\"https://colab.research.google.com/github/gramelon2003/Python_ptdl/blob/master/bai_tap_sinh_mau_ngau_nhien.ipynb\" target=\"_parent\"><img src=\"https://colab.research.google.com/assets/colab-badge.svg\" alt=\"Open In Colab\"/></a>"
      ]
    },
    {
      "cell_type": "markdown",
      "metadata": {
        "id": "FWbhDFmdPmSE"
      },
      "source": [
        "Sử dụng thư viện Numpy\n",
        "\n",
        "1. Sinh mẫu ngẫu nhiên bằng hàm arange trong khoảng [-15, 27] với khoảng cách là 0.7 và in kết quả ra màn hình"
      ]
    },
    {
      "cell_type": "code",
      "execution_count": 3,
      "metadata": {
        "id": "cQnR6OsHPmSL",
        "colab": {
          "base_uri": "https://localhost:8080/"
        },
        "outputId": "74a6fe9b-ebba-4066-bd1b-a379a3eaec1c"
      },
      "outputs": [
        {
          "output_type": "execute_result",
          "data": {
            "text/plain": [
              "array([-15. , -14.3, -13.6, -12.9, -12.2, -11.5, -10.8, -10.1,  -9.4,\n",
              "        -8.7,  -8. ,  -7.3,  -6.6,  -5.9,  -5.2,  -4.5,  -3.8,  -3.1,\n",
              "        -2.4,  -1.7,  -1. ,  -0.3,   0.4,   1.1,   1.8,   2.5,   3.2,\n",
              "         3.9,   4.6,   5.3,   6. ,   6.7,   7.4,   8.1,   8.8,   9.5,\n",
              "        10.2,  10.9,  11.6,  12.3,  13. ,  13.7,  14.4,  15.1,  15.8,\n",
              "        16.5,  17.2,  17.9,  18.6,  19.3,  20. ,  20.7,  21.4,  22.1,\n",
              "        22.8,  23.5,  24.2,  24.9,  25.6,  26.3,  27. ])"
            ]
          },
          "metadata": {},
          "execution_count": 3
        }
      ],
      "source": [
        "import numpy as np\n",
        "a = np.arange(-15, 27, 0.7)\n",
        "a"
      ]
    },
    {
      "cell_type": "markdown",
      "metadata": {
        "id": "J5p_oP5iPmSO"
      },
      "source": [
        "2. Sinh mẫu ngẫu nhiên theo phân phối chuẩn với mean = 2.7 std = 1.2 và size = 40\n",
        "In kết quả ra màn hình"
      ]
    },
    {
      "cell_type": "code",
      "execution_count": 4,
      "metadata": {
        "id": "vptSG1YCPmSS",
        "colab": {
          "base_uri": "https://localhost:8080/"
        },
        "outputId": "24ba04d0-93e6-4823-b0ac-26674da31b08"
      },
      "outputs": [
        {
          "output_type": "execute_result",
          "data": {
            "text/plain": [
              "array([ 4.77844977,  1.87845151,  4.12593435,  3.079036  ,  5.436459  ,\n",
              "        1.62708009,  1.93385602,  1.35376952,  1.46981838,  1.02040825,\n",
              "        4.11500451,  1.8024862 ,  3.64883621,  2.56262234,  3.65477477,\n",
              "        1.67985289,  1.86920913,  2.74024271,  1.12520627,  2.59545594,\n",
              "        3.0914614 ,  1.66188512,  3.28561991,  2.68785576,  0.81030562,\n",
              "        2.03796282,  3.96249503,  0.99901484,  2.16185512,  1.99867746,\n",
              "        3.2840905 ,  4.89536491,  3.8397485 ,  0.62662321,  1.96931862,\n",
              "       -0.31745238,  1.41459779,  4.20220097,  3.06680994,  1.77903923])"
            ]
          },
          "metadata": {},
          "execution_count": 4
        }
      ],
      "source": [
        "b = np.random.normal(2.7, 1.2, size = 40)\n",
        "b"
      ]
    },
    {
      "cell_type": "markdown",
      "metadata": {
        "id": "W-9122RcPmSU"
      },
      "source": [
        "3. Sinh mẫu ngẫu nhiên từ vector ['Viet Nam', 'Britain', 'France', 'Russia', 'Singapore'] \n",
        "\n",
        "với kích thước là 17 theo phân phối chuẩn"
      ]
    },
    {
      "cell_type": "code",
      "execution_count": 6,
      "metadata": {
        "id": "GvmnT3cBPmSV",
        "colab": {
          "base_uri": "https://localhost:8080/"
        },
        "outputId": "66f6f935-f2e8-47bc-d469-df9c98c132d1"
      },
      "outputs": [
        {
          "output_type": "execute_result",
          "data": {
            "text/plain": [
              "array(['Viet Nam', 'Britain', 'Singapore', 'Russia', 'France', 'Britain',\n",
              "       'Singapore', 'Russia', 'Russia', 'Viet Nam', 'France', 'Singapore',\n",
              "       'Viet Nam', 'Viet Nam', 'Britain', 'France', 'Russia'], dtype='<U9')"
            ]
          },
          "metadata": {},
          "execution_count": 6
        }
      ],
      "source": [
        "c = ['Viet Nam', 'Britain', 'France', 'Russia', 'Singapore']\n",
        "d = np.random.choice(c, 17)\n",
        "d"
      ]
    },
    {
      "cell_type": "markdown",
      "metadata": {
        "id": "FXgtRsLXPmSW"
      },
      "source": [
        "4. Sinh mẫu ngẫu nhiên ở câu 3 nhưng không theo phân phối chuẩn mà theo 1 vector đặc tả giá trị xác suất do bạn chọn"
      ]
    },
    {
      "cell_type": "code",
      "execution_count": 9,
      "metadata": {
        "id": "iCHkkFcHPmSX",
        "colab": {
          "base_uri": "https://localhost:8080/"
        },
        "outputId": "a3848224-80b0-404a-88f6-84251b294140"
      },
      "outputs": [
        {
          "output_type": "execute_result",
          "data": {
            "text/plain": [
              "array(['France', 'Britain', 'Russia', 'France', 'Britain', 'Britain',\n",
              "       'Russia', 'Britain', 'Britain', 'Singapore', 'Singapore', 'Russia',\n",
              "       'France', 'Britain', 'Singapore', 'Russia', 'Britain'], dtype='<U9')"
            ]
          },
          "metadata": {},
          "execution_count": 9
        }
      ],
      "source": [
        "e = np.random.choice(c, 17, p = [0.1, 0.4, 0.2, 0.15, 0.15])\n",
        "e"
      ]
    },
    {
      "cell_type": "markdown",
      "metadata": {
        "id": "DgWLalbkPmSZ"
      },
      "source": [
        "Sử dụng thư việc scipy.stats để sinh mẫu ngẫu nhiên\n",
        "\n",
        "1. Sinh mẫu ngẫu nhiên theo phân phối chuẩn với mean = 12.7, std = 2.6 và size = 30. In kết quả ra màn hình"
      ]
    },
    {
      "cell_type": "code",
      "execution_count": 12,
      "metadata": {
        "id": "OKOlQ8hJPmSa"
      },
      "outputs": [],
      "source": [
        "from scipy import stats"
      ]
    },
    {
      "cell_type": "code",
      "execution_count": 13,
      "metadata": {
        "id": "oUctfxm-PmSc"
      },
      "outputs": [],
      "source": [
        "f = stats.norm.rvs(12.7, 2.6, size = 30)"
      ]
    },
    {
      "cell_type": "markdown",
      "metadata": {
        "id": "ouj9XHSUPmSb"
      },
      "source": [
        "2. Hãy sinh một mẫu ngẫu nhiên theo phân phối Poisson"
      ]
    },
    {
      "cell_type": "code",
      "execution_count": 15,
      "metadata": {
        "id": "SEMUQMGaPmSd",
        "colab": {
          "base_uri": "https://localhost:8080/"
        },
        "outputId": "923b3a00-02da-4399-b42b-0973d9924948"
      },
      "outputs": [
        {
          "output_type": "stream",
          "name": "stdout",
          "text": [
            "[58 63 72 65 67 71 62 74 55 57]\n"
          ]
        }
      ],
      "source": [
        "g = stats.poisson.rvs(45, 20, size=1000)\n",
        "print(g[:10])"
      ]
    }
  ],
  "metadata": {
    "kernelspec": {
      "display_name": "Python 3",
      "language": "python",
      "name": "python3"
    },
    "language_info": {
      "codemirror_mode": {
        "name": "ipython",
        "version": 3
      },
      "file_extension": ".py",
      "mimetype": "text/x-python",
      "name": "python",
      "nbconvert_exporter": "python",
      "pygments_lexer": "ipython3",
      "version": "3.7.3"
    },
    "colab": {
      "name": "bai-tap-sinh-mau-ngau-nhien.ipynb",
      "provenance": [],
      "collapsed_sections": [],
      "include_colab_link": true
    }
  },
  "nbformat": 4,
  "nbformat_minor": 0
}