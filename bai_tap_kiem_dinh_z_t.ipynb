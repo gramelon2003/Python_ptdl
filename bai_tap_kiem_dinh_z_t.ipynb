{
  "cells": [
    {
      "cell_type": "markdown",
      "metadata": {
        "id": "view-in-github",
        "colab_type": "text"
      },
      "source": [
        "<a href=\"https://colab.research.google.com/github/gramelon2003/Python_ptdl/blob/master/bai_tap_kiem_dinh_z_t.ipynb\" target=\"_parent\"><img src=\"https://colab.research.google.com/assets/colab-badge.svg\" alt=\"Open In Colab\"/></a>"
      ]
    },
    {
      "cell_type": "markdown",
      "metadata": {
        "id": "gKQEiPTcORJs"
      },
      "source": [
        "XÂY DỰNG CHƯƠNG TRÌNH KIỂM ĐỊNH Z (HOẶC T) CHO CÁC BÀI TẬP SAU\n",
        "\n",
        "Gợi ý:\n",
        "\n",
        "- Số liệu được sinh ngẫu nhiên theo phân phối chuẩn\n",
        "- Sử dụng gói phần mềm statsmodels để tiến hành kiểm định\n",
        "- Đối với các bài tập kiểm định giả thuyết thì sinh viên cần phát biểu các giả thuyết (bằng tiếng Việt) $H_{0}$ và $H_{a}$ trước khi lập trình kiểm định"
      ]
    },
    {
      "cell_type": "markdown",
      "metadata": {
        "id": "gmgxPcXoORJw"
      },
      "source": [
        "Bài 1: You’re a Q/C inspector for Gallo. The sample standard deviation for 2-liter bottles is .05 liters.  A random sample of 100 bottles showed sasmple mean = 1.99 liters.  What is the 90%  confidence interval estimate of the true mean amount in 2-liter bottles? "
      ]
    },
    {
      "cell_type": "code",
      "execution_count": 1,
      "metadata": {
        "id": "mGRuXResORJz",
        "colab": {
          "base_uri": "https://localhost:8080/"
        },
        "outputId": "fcdec934-957e-47db-de44-7a5518e87044"
      },
      "outputs": [
        {
          "output_type": "execute_result",
          "data": {
            "text/plain": [
              "(1.9077573186524264, 2.0722426813475736)"
            ]
          },
          "metadata": {},
          "execution_count": 1
        }
      ],
      "source": [
        "import numpy as np\n",
        "import scipy.stats as st\n",
        "b = np.random.normal(1.99, 0.05, size = 100)\n",
        "b\n",
        "st.norm.interval(alpha=0.9, loc=1.99, scale=0.05)"
      ]
    },
    {
      "cell_type": "markdown",
      "metadata": {
        "id": "uamjb74EORJ2"
      },
      "source": [
        "Bài 2: You’re a time study analyst in manufacturing.  You’ve recorded the following task times (min.): 3.6, 4.2, 4.0, 3.5, 3.8, 3.1. What is the 90% confidence interval estimate of the population mean task time? "
      ]
    },
    {
      "cell_type": "code",
      "execution_count": null,
      "metadata": {
        "id": "pfq8pRioORJ3",
        "colab": {
          "base_uri": "https://localhost:8080/"
        },
        "outputId": "cb420c0b-91d2-4a9b-f003-99679f9d9873"
      },
      "outputs": [
        {
          "output_type": "execute_result",
          "data": {
            "text/plain": [
              "(3.3792758632100677, 4.020724136789934)"
            ]
          },
          "metadata": {},
          "execution_count": 28
        }
      ],
      "source": [
        "a = [3.6, 4.2, 4.0, 3.5, 3.8, 3.1]\n",
        "st.t.interval(alpha=0.9, df=len(a)-1, loc=np.mean(a), scale=st.sem(a))"
      ]
    },
    {
      "cell_type": "markdown",
      "metadata": {
        "id": "zBKWOXPJORJ4"
      },
      "source": [
        "Bài 3: Does an average box of cereal contain 368 grams of cereal?  A random sample of 25 boxes had $\\overline{\\rm x}$ = 372.5.  The company has specified $\\sigma$ to be 25 grams.  Test at the .05 level of significance."
      ]
    },
    {
      "cell_type": "code",
      "execution_count": null,
      "metadata": {
        "id": "hBAp-uMxORJ5",
        "colab": {
          "base_uri": "https://localhost:8080/"
        },
        "outputId": "85758780-6413-4860-a227-0c9238e54716"
      },
      "outputs": [
        {
          "output_type": "stream",
          "name": "stdout",
          "text": [
            "Khong co bang chung bac bo gia thuyet tb cua hop la 368g\n"
          ]
        }
      ],
      "source": [
        "a = np.random.normal(372.5,25,25)\n",
        "ttest_Score, p_value = st.ttest_1samp(a, 368)\n",
        "if p_value < 0.05:\n",
        "  print(\"Co bang chung bac bo gia thuyet tb cua hop la 368g\")\n",
        "else: \n",
        "  print(\"Khong co bang chung bac bo gia thuyet tb cua hop la 368g\")"
      ]
    },
    {
      "cell_type": "markdown",
      "metadata": {
        "id": "QjAcruVsORJ6"
      },
      "source": [
        "Bài 4: You’re a Q/C inspector.  You want to find out if a new machine is making electrical cords to customer specification: average breaking strength of 70 lb. with $\\sigma$ = 3.5 lb.  You take a sample of 36 cords & compute a sample mean of 69.7 lb.  At the .05 level of significance, is there evidence that the machine is not meeting the average breaking strength?"
      ]
    },
    {
      "cell_type": "code",
      "execution_count": 4,
      "metadata": {
        "id": "8wNu3_u8ORJ8",
        "colab": {
          "base_uri": "https://localhost:8080/"
        },
        "outputId": "875b6e1f-3b5a-445c-f367-6b4c683308a8"
      },
      "outputs": [
        {
          "output_type": "stream",
          "name": "stdout",
          "text": [
            "Khong co bang chung bac bo gia thuyet 70lb\n"
          ]
        },
        {
          "output_type": "stream",
          "name": "stderr",
          "text": [
            "/usr/local/lib/python3.7/dist-packages/statsmodels/tools/_testing.py:19: FutureWarning: pandas.util.testing is deprecated. Use the functions in the public API at pandas.testing instead.\n",
            "  import pandas.util.testing as tm\n"
          ]
        }
      ],
      "source": [
        "from statsmodels.stats.weightstats import ztest\n",
        "a = np.random.normal(69.7, 3.5, 36)\n",
        "ztest_Score, p_value = ztest(a, value = 70, alternative=\"two-sided\")\n",
        "if p_value < 0.05:\n",
        "  print(\"Co bang chung bac bo gia thuyet 70lb\")\n",
        "else: \n",
        "  print(\"Khong co bang chung bac bo gia thuyet 70lb\")"
      ]
    },
    {
      "cell_type": "markdown",
      "metadata": {
        "id": "4818GaGjORJ9"
      },
      "source": [
        "Bài 5: Does an average box of cereal contain more than 368 grams of cereal?  A random sample of 25 boxes showed $\\overline{\\rm x}$ =  372.5.  The company has specified $\\sigma$ to be 25 grams.  Test at the .05 level of significance."
      ]
    },
    {
      "cell_type": "code",
      "execution_count": null,
      "metadata": {
        "id": "FM1ymvFKORJ-",
        "colab": {
          "base_uri": "https://localhost:8080/"
        },
        "outputId": "cc6113d1-f573-4da0-a757-ff1e6fb9433e"
      },
      "outputs": [
        {
          "output_type": "stream",
          "name": "stdout",
          "text": [
            "Khong co bang chung bac bo gia thuyet tb cua hop la 368g\n"
          ]
        }
      ],
      "source": [
        "\n",
        "a = np.random.normal(372.5,25,25)\n",
        "ztest_Score, p_value = ztest(a, value = 368, alternative = 'larger')\n",
        "if p_value < 0.05:\n",
        "  print(\"Co bang chung bac bo gia thuyet tb hop lon hon 368 \")\n",
        "else: \n",
        "  print(\"Khong co bang chung bac bo gia thuyet tb cua hop la 368g\")"
      ]
    },
    {
      "cell_type": "markdown",
      "metadata": {
        "id": "u6mx5BR0ORJ_"
      },
      "source": [
        "Bài 6: You’re an analyst for Ford.  You want to find out if the average miles per gallon of Escorts is at least 32 mpg. Similar models have a standard deviation of 3.8 mpg. You take a sample of 60 Escorts & compute a sample mean of 30.7 mpg. At the .01 level of significance, is there evidence that the miles per gallon is less than 32?"
      ]
    },
    {
      "cell_type": "code",
      "execution_count": 5,
      "metadata": {
        "id": "I4Ow9bFnORKA",
        "colab": {
          "base_uri": "https://localhost:8080/"
        },
        "outputId": "02ea53c1-ae70-491b-fab6-7197539b6ad9"
      },
      "outputs": [
        {
          "output_type": "stream",
          "name": "stdout",
          "text": [
            "Khong co bang chung bac bo gia thuyet tb cua hop la 368g\n"
          ]
        }
      ],
      "source": [
        "a = np.random.normal(30.7,3.8,60)\n",
        "ztest_Score, p_value = ztest(a, value = 32, alternative = 'two-sided', ddof = 0.99)\n",
        "if p_value < 0.01:\n",
        "  print(\"Co bang chung bac bo gia thuyet tb hop lon hon 368 \")\n",
        "else: \n",
        "  print(\"Khong co bang chung bac bo gia thuyet tb cua hop la 368g\")"
      ]
    },
    {
      "cell_type": "markdown",
      "metadata": {
        "id": "VWoSqJTWORKB"
      },
      "source": [
        "Bài 7: Does an average box of cereal contain 368 grams of cereal?  A random sample of 25 boxes showed $\\overline{\\rm x}$ = 372.5.  The company has specified $\\sigma$ to be 15 grams.  Find the p-Value."
      ]
    },
    {
      "cell_type": "code",
      "execution_count": null,
      "metadata": {
        "id": "D2FFUpJPORKC",
        "colab": {
          "base_uri": "https://localhost:8080/"
        },
        "outputId": "5e66310a-c013-4c6e-b676-1cb63a2b3638"
      },
      "outputs": [
        {
          "output_type": "stream",
          "name": "stdout",
          "text": [
            "0.7205754587004669\n"
          ]
        }
      ],
      "source": [
        "a = np.random.normal(372.5,25,15)\n",
        "ttest_Score, p_value = st.ttest_1samp(a, 368)\n",
        "print(p_value)"
      ]
    },
    {
      "cell_type": "markdown",
      "metadata": {
        "id": "ZCeZ_IsNORKC"
      },
      "source": [
        "Bài 8: Does an average box of cereal contain more than 368 grams of cereal?  A random sample of 25 boxes showed $\\overline{\\rm x}$ = 372.5.  The company has specified $\\sigma$ to be 15 grams.  Find the p-Value."
      ]
    },
    {
      "cell_type": "code",
      "execution_count": null,
      "metadata": {
        "id": "_EmsBjSyORKD",
        "colab": {
          "base_uri": "https://localhost:8080/"
        },
        "outputId": "4718e879-bbae-4182-c696-93e72eedfadf"
      },
      "outputs": [
        {
          "output_type": "stream",
          "name": "stdout",
          "text": [
            "0.5017019148225815\n"
          ]
        }
      ],
      "source": [
        "a = np.random.normal(372.5,25,15)\n",
        "ztest_Score, p_value = ztest(a, value = 368, alternative = 'larger')\n",
        "print(p_value)"
      ]
    },
    {
      "cell_type": "markdown",
      "metadata": {
        "id": "Zj-HnjDVORKD"
      },
      "source": [
        "Bài 9: You’re an analyst for Ford.  You want to find out if the average miles per gallon of Escorts is less than 32 mpg.   Similar models have a standard deviation of 3.8 mpg.  You take a sample of 60 Escorts & compute a sample mean of 30.7 mpg.  What is the value of the observed level of significance (p-Value)?"
      ]
    },
    {
      "cell_type": "code",
      "execution_count": null,
      "metadata": {
        "id": "LTh9_eiHORKE",
        "colab": {
          "base_uri": "https://localhost:8080/"
        },
        "outputId": "58c92bba-68dd-4fa5-d103-b9cfe24a9dd7"
      },
      "outputs": [
        {
          "output_type": "stream",
          "name": "stdout",
          "text": [
            "0.030198168255042183\n"
          ]
        }
      ],
      "source": [
        "a = np.random.normal(30.7,3.8,60)\n",
        "ztest_Score, p_value = ztest(a, value = 32, alternative = 'smaller')\n",
        "print(p_value)"
      ]
    },
    {
      "cell_type": "markdown",
      "metadata": {
        "id": "YFWRetxTORKF"
      },
      "source": [
        "Bài 10: Does an average box of cereal contain 368 grams of cereal?  A random sample of 36 boxes had a mean of 372.5 and a standard deviation of 12 grams. Test at the .05 level of significance."
      ]
    },
    {
      "cell_type": "code",
      "execution_count": null,
      "metadata": {
        "id": "sZbb5CTNORKF",
        "colab": {
          "base_uri": "https://localhost:8080/"
        },
        "outputId": "e1589105-e775-4dcf-da4a-3a1d3bbbe127"
      },
      "outputs": [
        {
          "output_type": "stream",
          "name": "stdout",
          "text": [
            "Co bang chung bac bo gia thuyet tb hop lon hon 368 \n"
          ]
        }
      ],
      "source": [
        "a = np.random.normal(372.5,12,36)\n",
        "ztest_Score, p_value = ztest(a, value = 32, alternative = 'two-sided')\n",
        "if p_value < 0.05:\n",
        "  print(\"Co bang chung bac bo gia thuyet tb hop lon hon 368 \")\n",
        "else: \n",
        "  print(\"Khong co bang chung bac bo gia thuyet tb cua hop la 368g\")"
      ]
    },
    {
      "cell_type": "markdown",
      "metadata": {
        "id": "Fspzt-SSORKG"
      },
      "source": [
        "Bài 11: You work for the FTC.  A manufacturer of detergent claims that the mean weight of detergent is 3.25 lb.  You take a random sample of 64 containers.  You calculate the sample average to be 3.238 lb. with a standard deviation of .117 lb.  At the .01 level of significance, is the manufacturer correct?"
      ]
    },
    {
      "cell_type": "code",
      "execution_count": null,
      "metadata": {
        "id": "9uUfp5chORKH",
        "colab": {
          "base_uri": "https://localhost:8080/"
        },
        "outputId": "6314a32d-3095-4060-d3ee-f2c671ce1991"
      },
      "outputs": [
        {
          "output_type": "stream",
          "name": "stdout",
          "text": [
            "Dung\n"
          ]
        }
      ],
      "source": [
        "a = np.random.normal(3.238,0.117,64)\n",
        "ztest_Score, p_value = ztest(a, value = 3.25, alternative = 'two-sided')\n",
        "if p_value < 0.01:\n",
        "  print(\"Sai\")\n",
        "else: \n",
        "  print(\"Dung\")"
      ]
    },
    {
      "cell_type": "markdown",
      "metadata": {
        "id": "XtXNgARsORKH"
      },
      "source": [
        "Bài 12: Is the average capacity of batteries less than 140 ampere-hours?  A random sample of 20 batteries had a mean of 138.47 and a standard deviation of 2.66.  Assume a normal distribution. Test at the .05 level of significance."
      ]
    },
    {
      "cell_type": "code",
      "execution_count": null,
      "metadata": {
        "id": "sGRKU3FJORKI",
        "colab": {
          "base_uri": "https://localhost:8080/"
        },
        "outputId": "abb245cd-f443-4ef1-e9d4-49021d7cc5fe"
      },
      "outputs": [
        {
          "output_type": "stream",
          "name": "stdout",
          "text": [
            "Sai\n"
          ]
        }
      ],
      "source": [
        "a = np.random.normal(138.47,2.66,20)\n",
        "ztest_Score, p_value = ztest(a, value = 140, alternative = 'smaller')\n",
        "if p_value < 0.05:\n",
        "  print(\"Sai\")\n",
        "else: \n",
        "  print(\"Dung\")"
      ]
    },
    {
      "cell_type": "markdown",
      "metadata": {
        "id": "wZTLeefzORKI"
      },
      "source": [
        "Bài 13: You’re a marketing analyst for Wal-Mart.  Wal-Mart had teddy bears on sale last week.  The weekly sales of bears sold in 10 stores was: 8  11  0   4   7   8   10   5   8   3. At the .05 level of significance, is there evidence that the average bear sales per store is more than 5?"
      ]
    },
    {
      "cell_type": "code",
      "execution_count": null,
      "metadata": {
        "id": "wLxQKcExORKI",
        "colab": {
          "base_uri": "https://localhost:8080/"
        },
        "outputId": "42fb08fd-aec4-448a-9032-752a79c0c9ea"
      },
      "outputs": [
        {
          "output_type": "stream",
          "name": "stdout",
          "text": [
            "Dung\n"
          ]
        }
      ],
      "source": [
        "b = [8, 11, 0, 4, 7, 8, 10, 5, 8, 3]\n",
        "ztest_Score, p_value = ztest(a, value = 5, alternative = 'larger')\n",
        "if p_value < 0.05:\n",
        "  print(\"Sai\")\n",
        "else: \n",
        "  print(\"Dung\")"
      ]
    },
    {
      "cell_type": "code",
      "execution_count": null,
      "metadata": {
        "id": "ffLl_iWOORKK"
      },
      "outputs": [],
      "source": [
        ""
      ]
    }
  ],
  "metadata": {
    "kernelspec": {
      "display_name": "Python 3",
      "language": "python",
      "name": "python3"
    },
    "language_info": {
      "codemirror_mode": {
        "name": "ipython",
        "version": 3
      },
      "file_extension": ".py",
      "mimetype": "text/x-python",
      "name": "python",
      "nbconvert_exporter": "python",
      "pygments_lexer": "ipython3",
      "version": "3.7.3"
    },
    "colab": {
      "name": "bai-tap-kiem-dinh-z-t.ipynb",
      "provenance": [],
      "collapsed_sections": [],
      "include_colab_link": true
    }
  },
  "nbformat": 4,
  "nbformat_minor": 0
}