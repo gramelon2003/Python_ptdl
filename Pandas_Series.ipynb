{
  "nbformat": 4,
  "nbformat_minor": 0,
  "metadata": {
    "colab": {
      "name": "Pandas_Series.ipynb",
      "provenance": [],
      "authorship_tag": "ABX9TyMIbj7k68x2yJcZHutE2tEg",
      "include_colab_link": true
    },
    "kernelspec": {
      "name": "python3",
      "display_name": "Python 3"
    },
    "language_info": {
      "name": "python"
    }
  },
  "cells": [
    {
      "cell_type": "markdown",
      "metadata": {
        "id": "view-in-github",
        "colab_type": "text"
      },
      "source": [
        "<a href=\"https://colab.research.google.com/github/gramelon2003/Python_ptdl/blob/master/Pandas_Series.ipynb\" target=\"_parent\"><img src=\"https://colab.research.google.com/assets/colab-badge.svg\" alt=\"Open In Colab\"/></a>"
      ]
    },
    {
      "cell_type": "markdown",
      "source": [
        "Bài 1:\n",
        "Khởi tạo 1 Series với giá trị rỗng"
      ],
      "metadata": {
        "id": "BQCW9pTtrCOb"
      }
    },
    {
      "cell_type": "code",
      "source": [
        "import numpy as np\n",
        "a = np.empty((3))\n",
        "a[:] = None\n",
        "print(a)"
      ],
      "metadata": {
        "colab": {
          "base_uri": "https://localhost:8080/"
        },
        "id": "XY1by-xkqN2F",
        "outputId": "73e61dca-5a4a-4dd2-b68c-c2ed3f2ec1bf"
      },
      "execution_count": null,
      "outputs": [
        {
          "output_type": "stream",
          "name": "stdout",
          "text": [
            "[nan nan nan]\n"
          ]
        }
      ]
    },
    {
      "cell_type": "markdown",
      "source": [
        "Bài 2:\n",
        "Giả sử có 1 vector hàng a có kích thước (1x7) được biểu diễn trong NumPy, hãy tạo 1 series tương ứng với các giá trị được sinh ngẫu nhiên."
      ],
      "metadata": {
        "id": "OP38DEUGrEls"
      }
    },
    {
      "cell_type": "code",
      "source": [
        "import random\n",
        "import pandas as pd\n",
        "a = []\n",
        "for i in range(0,7):\n",
        "    b = random.randint(0,20)\n",
        "    a.append(b)\n",
        "b = pd.Series(a)\n",
        "print(b) "
      ],
      "metadata": {
        "colab": {
          "base_uri": "https://localhost:8080/"
        },
        "id": "vgsMLr83rBc0",
        "outputId": "69fd44cc-bca9-4c15-bac9-3eeee21e8a1e"
      },
      "execution_count": null,
      "outputs": [
        {
          "output_type": "stream",
          "name": "stdout",
          "text": [
            "0    16\n",
            "1    19\n",
            "2     3\n",
            "3    15\n",
            "4     9\n",
            "5    18\n",
            "6     5\n",
            "dtype: int64\n"
          ]
        }
      ]
    },
    {
      "cell_type": "markdown",
      "source": [
        "Bài 3:\n",
        "Giả sử có 1 vector hàng a có kích thước (1x7), hãy nhập các giá trị cho 7 phần tử này từ bàn phím và tạo series tương ứng."
      ],
      "metadata": {
        "id": "GqurtH1-sfHM"
      }
    },
    {
      "cell_type": "code",
      "source": [
        "import random\n",
        "import pandas as pd\n",
        "a = []\n",
        "for i in range(0,7):\n",
        "    b = input(\"Nhap gia tri: \")\n",
        "    a.append(b)\n",
        "c = pd.Series(a)\n",
        "print(c)"
      ],
      "metadata": {
        "colab": {
          "base_uri": "https://localhost:8080/"
        },
        "id": "NbdZRuBPshGr",
        "outputId": "c44a2113-a205-4945-8202-05c6c9785f0a"
      },
      "execution_count": null,
      "outputs": [
        {
          "output_type": "stream",
          "name": "stdout",
          "text": [
            "Nhap gia tri: 1\n",
            "Nhap gia tri: 2\n",
            "Nhap gia tri: 7\n",
            "Nhap gia tri: 2\n",
            "Nhap gia tri: 5\n",
            "Nhap gia tri: 4\n",
            "Nhap gia tri: 8\n",
            "0    1\n",
            "1    2\n",
            "2    7\n",
            "3    2\n",
            "4    5\n",
            "5    4\n",
            "6    8\n",
            "dtype: object\n"
          ]
        }
      ]
    },
    {
      "cell_type": "markdown",
      "source": [
        "Bài 4:\n",
        "Giả sử có 1 vector cột có kích thước (7x1) được biểu diễn trong NumPy, hãy tạo Series tương ứng."
      ],
      "metadata": {
        "id": "epVgjy_TtZiK"
      }
    },
    {
      "cell_type": "code",
      "source": [
        "import numpy as np\n",
        "a = np.array([[1, 3, 7, 8, 12, 4], [2, 4, 15, 6, 8, 19]])\n",
        "a_tr = np.transpose(a)\n",
        "print(a_tr)"
      ],
      "metadata": {
        "colab": {
          "base_uri": "https://localhost:8080/"
        },
        "id": "p_focLgqt69M",
        "outputId": "1161afb7-8c96-4d29-eee1-c11816d1fd06"
      },
      "execution_count": null,
      "outputs": [
        {
          "output_type": "stream",
          "name": "stdout",
          "text": [
            "[[ 1  2]\n",
            " [ 3  4]\n",
            " [ 7 15]\n",
            " [ 8  6]\n",
            " [12  8]\n",
            " [ 4 19]]\n"
          ]
        }
      ]
    },
    {
      "cell_type": "markdown",
      "source": [
        "Bài 5:\n",
        "Chuyển đổi dữ liệu, hãy thực hiện các yêu cầu sau:\n",
        "- Chuyển 1 list thành 1 series\n",
        "- Chuyển 1 tuple thành 1 series\n",
        "- Chuyển 1 dictionary thành 1 series"
      ],
      "metadata": {
        "id": "9y5p49UpubfR"
      }
    },
    {
      "cell_type": "code",
      "source": [
        "import pandas as pd\n",
        "a = [1,7,5,2,4]\n",
        "b = list((1,7,4,8,9))\n",
        "c = {1: 7, 2: 4, 3: 8}\n",
        "n = pd.Series(a)\n",
        "m = pd.Series(b)\n",
        "p = pd.Series(c)\n",
        "print(n)\n",
        "print(m)\n",
        "print(p)"
      ],
      "metadata": {
        "colab": {
          "base_uri": "https://localhost:8080/"
        },
        "id": "TLbO3NdRuc2J",
        "outputId": "2c035bd7-d40d-4fc8-ced1-b7f5066de614"
      },
      "execution_count": null,
      "outputs": [
        {
          "output_type": "stream",
          "name": "stdout",
          "text": [
            "0    1\n",
            "1    7\n",
            "2    5\n",
            "3    2\n",
            "4    4\n",
            "dtype: int64\n",
            "0    1\n",
            "1    7\n",
            "2    4\n",
            "3    8\n",
            "4    9\n",
            "dtype: int64\n",
            "1    7\n",
            "2    4\n",
            "3    8\n",
            "dtype: int64\n"
          ]
        }
      ]
    },
    {
      "cell_type": "markdown",
      "source": [
        "Bài 6:\n",
        "Mỗi phần tử của series đều gắn liền với các chỉ số (index) tương ứng, hãy tạo một series\n",
        "có kích thước (1x20) với giá trị ngẫu nhiên:\n",
        "- Xuất series ra màn hình\n",
        "- Xuất các chỉ số của series ra màn hình\n",
        "- Thay đổi cách đánh chỉ số mặc định của series từ đánh chỉ số bằng số nguyên sang các kiểu\n",
        "đánh chỉ số bằng label và in kết quả ra màn hình\n",
        "Gợi ý:\n",
        "- Hàm loc() dùng cho chỉ số label\n",
        "- Hàm iloc() dùng cho chỉ số đạng số nguyên\n",
        "- Hàm ix(): dùng cho cả 2 loại chỉ số trên"
      ],
      "metadata": {
        "id": "74SgHq_qxCAZ"
      }
    },
    {
      "cell_type": "code",
      "source": [
        "import random\n",
        "import pandas as pd\n",
        "a = []\n",
        "for i in range(0,20):\n",
        "    b = random.randint(0,40)\n",
        "    a.append(b)\n",
        "n = pd.Series(a)\n",
        "print(n)\n",
        "for i in range(0,20):\n",
        "    print(a[i])\n",
        "c = pd.Series(a, index = [\"a\", \"b\", \"c\", \"d\", \"e\", \"f\", \"g\", \"h\", \"i\", \"j\", \"k\", \"l\", \"m\", \"n\", \"o\", \"p\", \"q\", \"r\", \"s\", \"t\"])\n",
        "print(c)"
      ],
      "metadata": {
        "id": "1A4IPKJtxCrY",
        "colab": {
          "base_uri": "https://localhost:8080/"
        },
        "outputId": "09d24683-bb4c-4a04-89f6-6d5ee2373b1f"
      },
      "execution_count": null,
      "outputs": [
        {
          "output_type": "stream",
          "name": "stdout",
          "text": [
            "0     17\n",
            "1     32\n",
            "2     38\n",
            "3     23\n",
            "4     21\n",
            "5     19\n",
            "6      6\n",
            "7     22\n",
            "8     26\n",
            "9     24\n",
            "10    38\n",
            "11    35\n",
            "12    25\n",
            "13    40\n",
            "14    30\n",
            "15    34\n",
            "16    15\n",
            "17    28\n",
            "18    33\n",
            "19     1\n",
            "dtype: int64\n",
            "17\n",
            "32\n",
            "38\n",
            "23\n",
            "21\n",
            "19\n",
            "6\n",
            "22\n",
            "26\n",
            "24\n",
            "38\n",
            "35\n",
            "25\n",
            "40\n",
            "30\n",
            "34\n",
            "15\n",
            "28\n",
            "33\n",
            "1\n",
            "a    17\n",
            "b    32\n",
            "c    38\n",
            "d    23\n",
            "e    21\n",
            "f    19\n",
            "g     6\n",
            "h    22\n",
            "i    26\n",
            "j    24\n",
            "k    38\n",
            "l    35\n",
            "m    25\n",
            "n    40\n",
            "o    30\n",
            "p    34\n",
            "q    15\n",
            "r    28\n",
            "s    33\n",
            "t     1\n",
            "dtype: int64\n"
          ]
        }
      ]
    },
    {
      "cell_type": "markdown",
      "source": [
        "Bài 7:\n",
        "Giả sử có series có kích thước (1x10), giá trị ngẫu nhiên, index được đánh từ ‘a’ trở đi,\n",
        "hãy:\n",
        "- Trích xuất các phần tử của Series có chỉ số là ‘a’, ‘c’, ‘e’\n",
        "- Trích xuất các phần tử của Series có chỉ số từ 3 đến 6"
      ],
      "metadata": {
        "id": "tFZ6kW8vM2dU"
      }
    },
    {
      "cell_type": "code",
      "source": [
        "from string import ascii_lowercase\n",
        "import random\n",
        "import pandas as pd\n",
        "a = []\n",
        "m = []\n",
        "for c in ascii_lowercase:\n",
        "    a.append(c)\n",
        "    if c == \"j\":\n",
        "        break\n",
        "for i in range(0,10):\n",
        "    b = random.randint(0,40)\n",
        "    m.append(b)\n",
        "n = pd.Series(m, index = a)\n",
        "print(n)\n",
        "for i in range(0, len(a)+1):\n",
        "    if (i == 0) or (i == 2) or (i == 4):\n",
        "        print(m[i])\n",
        "for i in range(0, len(a)+1):\n",
        "    if (i == 3) or (i == 4) or (i == 5) or (i == 6):\n",
        "        print(m[i])"
      ],
      "metadata": {
        "colab": {
          "base_uri": "https://localhost:8080/"
        },
        "id": "liuLY1DQNZkf",
        "outputId": "71a1e7c0-5042-4b39-acbb-99bb53c6aaa0"
      },
      "execution_count": null,
      "outputs": [
        {
          "output_type": "stream",
          "name": "stdout",
          "text": [
            "a    39\n",
            "b     6\n",
            "c    10\n",
            "d    37\n",
            "e     6\n",
            "f    39\n",
            "g    36\n",
            "h    38\n",
            "i     7\n",
            "j    37\n",
            "dtype: int64\n",
            "39\n",
            "10\n",
            "6\n",
            "37\n",
            "6\n",
            "39\n",
            "36\n"
          ]
        }
      ]
    }
  ]
}