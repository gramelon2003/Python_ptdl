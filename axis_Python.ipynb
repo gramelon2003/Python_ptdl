{
  "nbformat": 4,
  "nbformat_minor": 0,
  "metadata": {
    "colab": {
      "name": "axis_Python.ipynb",
      "provenance": [],
      "authorship_tag": "ABX9TyOUkKGO7xuNncPs0rkjefde",
      "include_colab_link": true
    },
    "kernelspec": {
      "name": "python3",
      "display_name": "Python 3"
    },
    "language_info": {
      "name": "python"
    }
  },
  "cells": [
    {
      "cell_type": "markdown",
      "metadata": {
        "id": "view-in-github",
        "colab_type": "text"
      },
      "source": [
        "<a href=\"https://colab.research.google.com/github/gramelon2003/Python_ptdl/blob/master/axis_Python.ipynb\" target=\"_parent\"><img src=\"https://colab.research.google.com/assets/colab-badge.svg\" alt=\"Open In Colab\"/></a>"
      ]
    },
    {
      "cell_type": "markdown",
      "source": [
        "Bài 1: \n",
        "numpy.apply_along_axis(func1d, axis, arr, *args, **kwargs)\n",
        "func1d: Hàm chấp nhận mảng 1 chiều\n",
        "axis: Trục mà mảng bị cắt\n",
        "arr: Mảng nhập vào\n",
        "agrs: Đối số bổ sung hàm func1d\n",
        "kwargs: Đối số được đặt tên bổ sung của hàm func1d"
      ],
      "metadata": {
        "id": "I5lzgDhYIioe"
      }
    },
    {
      "cell_type": "markdown",
      "source": [
        "B2"
      ],
      "metadata": {
        "id": "tAepBUr1mR95"
      }
    },
    {
      "cell_type": "code",
      "execution_count": 16,
      "metadata": {
        "colab": {
          "base_uri": "https://localhost:8080/"
        },
        "id": "B3MKFKpDl6VK",
        "outputId": "0d68ad1e-eeec-4ff0-bffc-ef52ff2c0eaf"
      },
      "outputs": [
        {
          "output_type": "stream",
          "name": "stdout",
          "text": [
            "[[13 28 41  6 34 18 16  2 31 16 33 17 14  9 38 26 17]\n",
            " [47 27  9 40 13 18 48 43 16 15 39  2 29 42 10 13  9]\n",
            " [20 16 41 24 35 45 28  7 26 27 34  6  4 22 27 49 38]\n",
            " [44 36 48 20  7  7  9 36 49 44 48 24 21 17 11  1 43]\n",
            " [15 25 27  7 48 22 28 38  4  0 40  7 41  0 26 32  1]\n",
            " [11 30 10 18 36 25  0 25 19  6 20 41 34 43 44 22 48]\n",
            " [15  5 17 43 20 13  8 38 48 45  3 25 19 35 30  2  9]\n",
            " [10 38 42 22 31 32  1 42 29  8  0 18 20  8 47 31  8]\n",
            " [ 7  6 49 43  2 21 49 41 34 18 30 49 14 30 20 11 27]\n",
            " [21 33 18 31  8 42 45 15 22 34 14 25 27 21 41 11 46]\n",
            " [31 15 34  7 16 48  3  6  5 18 43 31 35 43 39 46 19]\n",
            " [19 25 30 30  0 12 46 18  7 18 39 37 17 39 24 32  9]\n",
            " [ 5 19 19 18 18 43 38  8 32 13 13 18 42 37 41 43  1]\n",
            " [48 38  7 35 18 19 40 34 16 34 19 19  8 32 16  1 30]\n",
            " [17 35  8  6 14 35 17 36 49 16 15 48 26 33 13 45 16]]\n"
          ]
        }
      ],
      "source": [
        "import numpy as np\n",
        "a = np.random.randint(50, size=(15, 17))\n",
        "print(a)"
      ]
    },
    {
      "cell_type": "markdown",
      "source": [
        "Bài 3"
      ],
      "metadata": {
        "id": "aKXouLsZBYfM"
      }
    },
    {
      "cell_type": "code",
      "source": [
        "import numpy as np\n",
        "b = np.apply_along_axis(max, 1, a)\n",
        "print(b)"
      ],
      "metadata": {
        "colab": {
          "base_uri": "https://localhost:8080/"
        },
        "id": "yUY9CE03AstX",
        "outputId": "d0238b6a-8ad0-47ea-987c-99f8aa70d684"
      },
      "execution_count": 28,
      "outputs": [
        {
          "output_type": "stream",
          "name": "stdout",
          "text": [
            "[41 48 49 49 48 48 48 47 49 46 48 46 43 48 49]\n"
          ]
        }
      ]
    },
    {
      "cell_type": "markdown",
      "source": [
        "Bài 4"
      ],
      "metadata": {
        "id": "naZHIDqgBVME"
      }
    },
    {
      "cell_type": "code",
      "source": [
        "import numpy as np\n",
        "c = np.apply_along_axis(max, 0, a)\n",
        "print(c)"
      ],
      "metadata": {
        "colab": {
          "base_uri": "https://localhost:8080/"
        },
        "id": "omWfAeX7BZpb",
        "outputId": "ae2a68e5-9008-4b01-fc7b-3e1427196de5"
      },
      "execution_count": 29,
      "outputs": [
        {
          "output_type": "stream",
          "name": "stdout",
          "text": [
            "[48 38 49 43 48 48 49 43 49 45 48 49 42 43 47 49 48]\n"
          ]
        }
      ]
    },
    {
      "cell_type": "markdown",
      "source": [
        "Bài 5"
      ],
      "metadata": {
        "id": "AkLbwe3KBjuz"
      }
    },
    {
      "cell_type": "code",
      "source": [
        "import numpy as np\n",
        "d = np.apply_along_axis(sum, 0, a)\n",
        "print(d)"
      ],
      "metadata": {
        "colab": {
          "base_uri": "https://localhost:8080/"
        },
        "id": "24kpooNYBksI",
        "outputId": "f0b0952d-dfc7-4e2c-91f9-57bb37b77e10"
      },
      "execution_count": 31,
      "outputs": [
        {
          "output_type": "stream",
          "name": "stdout",
          "text": [
            "[323 376 400 350 300 400 376 389 387 312 390 367 351 411 427 365 321]\n"
          ]
        }
      ]
    },
    {
      "cell_type": "markdown",
      "source": [
        "Bài 6"
      ],
      "metadata": {
        "id": "TfQF_z6wBzGb"
      }
    },
    {
      "cell_type": "code",
      "source": [
        "import numpy as np\n",
        "def tinh_tong2(a): \n",
        "    s = 0\n",
        "    for i in range(0,len(a)): \n",
        "        if i % 2 != 0: \n",
        "            s += a[i]\n",
        "    return s\n",
        "e = np.apply_along_axis(tinh_tong2, 0, a)\n",
        "print(e)\n",
        "f = np.apply_along_axis(tinh_tong2, 1, a)\n",
        "print(f)"
      ],
      "metadata": {
        "colab": {
          "base_uri": "https://localhost:8080/"
        },
        "id": "efxuA_YRB0fJ",
        "outputId": "7020dea0-a8d2-407b-ea22-cfd23f76b55b"
      },
      "execution_count": 46,
      "outputs": [
        {
          "output_type": "stream",
          "name": "stdout",
          "text": [
            "[200 227 164 196 113 155 189 213 158 159 179 166 156 202 193 111 193]\n",
            "[122 200 196 185 131 210 206 199 219 212 214 211 199 212 254]\n"
          ]
        }
      ]
    }
  ]
}