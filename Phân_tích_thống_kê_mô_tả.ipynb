{
  "nbformat": 4,
  "nbformat_minor": 0,
  "metadata": {
    "colab": {
      "name": "Phân_tích_thống_kê_mô_tả.ipynb",
      "provenance": [],
      "collapsed_sections": [],
      "authorship_tag": "ABX9TyPzWwxGS3EO3Ze14AVH8c+j",
      "include_colab_link": true
    },
    "kernelspec": {
      "name": "python3",
      "display_name": "Python 3"
    },
    "language_info": {
      "name": "python"
    }
  },
  "cells": [
    {
      "cell_type": "markdown",
      "metadata": {
        "id": "view-in-github",
        "colab_type": "text"
      },
      "source": [
        "<a href=\"https://colab.research.google.com/github/gramelon2003/Python_ptdl/blob/master/Ph%C3%A2n_t%C3%ADch_th%E1%BB%91ng_k%C3%AA_m%C3%B4_t%E1%BA%A3.ipynb\" target=\"_parent\"><img src=\"https://colab.research.google.com/assets/colab-badge.svg\" alt=\"Open In Colab\"/></a>"
      ]
    },
    {
      "cell_type": "code",
      "execution_count": null,
      "metadata": {
        "id": "emqkhswuJUhP"
      },
      "outputs": [],
      "source": [
        " from google.colab import files\n",
        "import pandas as pd\n",
        "import numpy as np\n",
        "import matplotlib.pyplot as plt\n",
        "import statistics"
      ]
    },
    {
      "cell_type": "code",
      "source": [
        "uploaded = files.upload()"
      ],
      "metadata": {
        "colab": {
          "resources": {
            "http://localhost:8080/nbextensions/google.colab/files.js": {
              "data": "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",
              "ok": true,
              "headers": [
                [
                  "content-type",
                  "application/javascript"
                ]
              ],
              "status": 200,
              "status_text": "OK"
            }
          },
          "base_uri": "https://localhost:8080/",
          "height": 74
        },
        "id": "Cyym7AnEnART",
        "outputId": "c283b41b-b8fb-4d10-be41-31d39e67759a"
      },
      "execution_count": null,
      "outputs": [
        {
          "output_type": "display_data",
          "data": {
            "text/plain": [
              "<IPython.core.display.HTML object>"
            ],
            "text/html": [
              "\n",
              "     <input type=\"file\" id=\"files-01946724-1d90-4e02-86c9-4a4087e6d706\" name=\"files[]\" multiple disabled\n",
              "        style=\"border:none\" />\n",
              "     <output id=\"result-01946724-1d90-4e02-86c9-4a4087e6d706\">\n",
              "      Upload widget is only available when the cell has been executed in the\n",
              "      current browser session. Please rerun this cell to enable.\n",
              "      </output>\n",
              "      <script src=\"/nbextensions/google.colab/files.js\"></script> "
            ]
          },
          "metadata": {}
        },
        {
          "output_type": "stream",
          "name": "stdout",
          "text": [
            "Saving Inc_Exp_Data.csv to Inc_Exp_Data.csv\n"
          ]
        }
      ]
    },
    {
      "cell_type": "code",
      "source": [
        "inc = pd.read_csv(\"Inc_Exp_Data.csv\")"
      ],
      "metadata": {
        "id": "hO8KsTO_nNmX"
      },
      "execution_count": null,
      "outputs": []
    },
    {
      "cell_type": "code",
      "source": [
        "inc"
      ],
      "metadata": {
        "colab": {
          "base_uri": "https://localhost:8080/",
          "height": 1000
        },
        "id": "F0LoflEMn4vF",
        "outputId": "bd7be903-1114-4727-a179-1bf9cced4fb5"
      },
      "execution_count": null,
      "outputs": [
        {
          "output_type": "execute_result",
          "data": {
            "text/plain": [
              "    Mthly_HH_Income  Mthly_HH_Expense  No_of_Fly_Members  Emi_or_Rent_Amt  \\\n",
              "0              5000              8000                  3             2000   \n",
              "1              6000              7000                  2             3000   \n",
              "2             10000              4500                  2                0   \n",
              "3             10000              2000                  1                0   \n",
              "4             12500             12000                  2             3000   \n",
              "5             14000              8000                  2                0   \n",
              "6             15000             16000                  3            35000   \n",
              "7             18000             20000                  5             8000   \n",
              "8             19000              9000                  2                0   \n",
              "9             20000              9000                  4                0   \n",
              "10            20000             18000                  4             8000   \n",
              "11            22000             25000                  6            12000   \n",
              "12            23400              5000                  3                0   \n",
              "13            24000             10500                  6                0   \n",
              "14            24000             10000                  4                0   \n",
              "15            25000             12300                  3                0   \n",
              "16            25000             20000                  3             3500   \n",
              "17            25000             10000                  6                0   \n",
              "18            29000              6600                  2             2000   \n",
              "19            30000             13000                  4                0   \n",
              "20            30500             25000                  5             5000   \n",
              "21            32000             15000                  4                0   \n",
              "22            34000             19000                  6                0   \n",
              "23            34000             25000                  3             4000   \n",
              "24            35000             12000                  3                0   \n",
              "25            35000             25000                  4                0   \n",
              "26            39000              8000                  4                0   \n",
              "27            40000             10000                  4                0   \n",
              "28            42000             15000                  4                0   \n",
              "29            43000             12000                  4                0   \n",
              "30            45000             25000                  6                0   \n",
              "31            45000             40000                  6             3500   \n",
              "32            45000             10000                  2             1000   \n",
              "33            45000             22000                  4             2500   \n",
              "34            46000             25000                  5             3500   \n",
              "35            47000             15000                  7                0   \n",
              "36            50000             20000                  4                0   \n",
              "37            50500             20000                  3                0   \n",
              "38            55000             45000                  6            12000   \n",
              "39            60000             10000                  3                0   \n",
              "40            60000             50000                  6            10000   \n",
              "41            65000             20000                  4             5000   \n",
              "42            70000              9000                  2                0   \n",
              "43            80000             20000                  4                0   \n",
              "44            85000             25000                  5                0   \n",
              "45            90000             48000                  7                0   \n",
              "46            98000             25000                  5                0   \n",
              "47           100000             30000                  6                0   \n",
              "48           100000             50000                  4            20000   \n",
              "49           100000             40000                  6            10000   \n",
              "\n",
              "    Annual_HH_Income Highest_Qualified_Member  No_of_Earning_Members  \n",
              "0              64200           Under-Graduate                      1  \n",
              "1              79920               Illiterate                      1  \n",
              "2             112800           Under-Graduate                      1  \n",
              "3              97200               Illiterate                      1  \n",
              "4             147000                 Graduate                      1  \n",
              "5             196560                 Graduate                      1  \n",
              "6             167400            Post-Graduate                      1  \n",
              "7             216000                 Graduate                      1  \n",
              "8             218880           Under-Graduate                      1  \n",
              "9             220800           Under-Graduate                      2  \n",
              "10            278400           Under-Graduate                      2  \n",
              "11            279840               Illiterate                      1  \n",
              "12            292032               Illiterate                      1  \n",
              "13            316800                 Graduate                      2  \n",
              "14            244800                 Graduate                      2  \n",
              "15            246000                 Graduate                      1  \n",
              "16            261000                 Graduate                      1  \n",
              "17            258000           Under-Graduate                      3  \n",
              "18            348000                 Graduate                      1  \n",
              "19            385200                 Graduate                      1  \n",
              "20            351360           Under-Graduate                      1  \n",
              "21            445440             Professional                      1  \n",
              "22            330480             Professional                      1  \n",
              "23            469200             Professional                      1  \n",
              "24            466200                 Graduate                      1  \n",
              "25            449400             Professional                      2  \n",
              "26            556920           Under-Graduate                      1  \n",
              "27            412800           Under-Graduate                      1  \n",
              "28            488880                 Graduate                      1  \n",
              "29            619200                 Graduate                      1  \n",
              "30            523800                 Graduate                      3  \n",
              "31            507600             Professional                      2  \n",
              "32            437400            Post-Graduate                      1  \n",
              "33            610200            Post-Graduate                      1  \n",
              "34            596160                 Graduate                      1  \n",
              "35            456840             Professional                      4  \n",
              "36            570000             Professional                      1  \n",
              "37            581760             Professional                      2  \n",
              "38            600600                 Graduate                      2  \n",
              "39            590400            Post-Graduate                      1  \n",
              "40            590400                 Graduate                      1  \n",
              "41            647400               Illiterate                      2  \n",
              "42            756000                 Graduate                      1  \n",
              "43           1075200                 Graduate                      1  \n",
              "44           1142400           Under-Graduate                      2  \n",
              "45            885600            Post-Graduate                      3  \n",
              "46           1152480             Professional                      2  \n",
              "47           1404000                 Graduate                      3  \n",
              "48           1032000             Professional                      2  \n",
              "49           1320000            Post-Graduate                      1  "
            ],
            "text/html": [
              "\n",
              "  <div id=\"df-24ab2b4b-297b-4107-8d05-1105e3bf0b87\">\n",
              "    <div class=\"colab-df-container\">\n",
              "      <div>\n",
              "<style scoped>\n",
              "    .dataframe tbody tr th:only-of-type {\n",
              "        vertical-align: middle;\n",
              "    }\n",
              "\n",
              "    .dataframe tbody tr th {\n",
              "        vertical-align: top;\n",
              "    }\n",
              "\n",
              "    .dataframe thead th {\n",
              "        text-align: right;\n",
              "    }\n",
              "</style>\n",
              "<table border=\"1\" class=\"dataframe\">\n",
              "  <thead>\n",
              "    <tr style=\"text-align: right;\">\n",
              "      <th></th>\n",
              "      <th>Mthly_HH_Income</th>\n",
              "      <th>Mthly_HH_Expense</th>\n",
              "      <th>No_of_Fly_Members</th>\n",
              "      <th>Emi_or_Rent_Amt</th>\n",
              "      <th>Annual_HH_Income</th>\n",
              "      <th>Highest_Qualified_Member</th>\n",
              "      <th>No_of_Earning_Members</th>\n",
              "    </tr>\n",
              "  </thead>\n",
              "  <tbody>\n",
              "    <tr>\n",
              "      <th>0</th>\n",
              "      <td>5000</td>\n",
              "      <td>8000</td>\n",
              "      <td>3</td>\n",
              "      <td>2000</td>\n",
              "      <td>64200</td>\n",
              "      <td>Under-Graduate</td>\n",
              "      <td>1</td>\n",
              "    </tr>\n",
              "    <tr>\n",
              "      <th>1</th>\n",
              "      <td>6000</td>\n",
              "      <td>7000</td>\n",
              "      <td>2</td>\n",
              "      <td>3000</td>\n",
              "      <td>79920</td>\n",
              "      <td>Illiterate</td>\n",
              "      <td>1</td>\n",
              "    </tr>\n",
              "    <tr>\n",
              "      <th>2</th>\n",
              "      <td>10000</td>\n",
              "      <td>4500</td>\n",
              "      <td>2</td>\n",
              "      <td>0</td>\n",
              "      <td>112800</td>\n",
              "      <td>Under-Graduate</td>\n",
              "      <td>1</td>\n",
              "    </tr>\n",
              "    <tr>\n",
              "      <th>3</th>\n",
              "      <td>10000</td>\n",
              "      <td>2000</td>\n",
              "      <td>1</td>\n",
              "      <td>0</td>\n",
              "      <td>97200</td>\n",
              "      <td>Illiterate</td>\n",
              "      <td>1</td>\n",
              "    </tr>\n",
              "    <tr>\n",
              "      <th>4</th>\n",
              "      <td>12500</td>\n",
              "      <td>12000</td>\n",
              "      <td>2</td>\n",
              "      <td>3000</td>\n",
              "      <td>147000</td>\n",
              "      <td>Graduate</td>\n",
              "      <td>1</td>\n",
              "    </tr>\n",
              "    <tr>\n",
              "      <th>5</th>\n",
              "      <td>14000</td>\n",
              "      <td>8000</td>\n",
              "      <td>2</td>\n",
              "      <td>0</td>\n",
              "      <td>196560</td>\n",
              "      <td>Graduate</td>\n",
              "      <td>1</td>\n",
              "    </tr>\n",
              "    <tr>\n",
              "      <th>6</th>\n",
              "      <td>15000</td>\n",
              "      <td>16000</td>\n",
              "      <td>3</td>\n",
              "      <td>35000</td>\n",
              "      <td>167400</td>\n",
              "      <td>Post-Graduate</td>\n",
              "      <td>1</td>\n",
              "    </tr>\n",
              "    <tr>\n",
              "      <th>7</th>\n",
              "      <td>18000</td>\n",
              "      <td>20000</td>\n",
              "      <td>5</td>\n",
              "      <td>8000</td>\n",
              "      <td>216000</td>\n",
              "      <td>Graduate</td>\n",
              "      <td>1</td>\n",
              "    </tr>\n",
              "    <tr>\n",
              "      <th>8</th>\n",
              "      <td>19000</td>\n",
              "      <td>9000</td>\n",
              "      <td>2</td>\n",
              "      <td>0</td>\n",
              "      <td>218880</td>\n",
              "      <td>Under-Graduate</td>\n",
              "      <td>1</td>\n",
              "    </tr>\n",
              "    <tr>\n",
              "      <th>9</th>\n",
              "      <td>20000</td>\n",
              "      <td>9000</td>\n",
              "      <td>4</td>\n",
              "      <td>0</td>\n",
              "      <td>220800</td>\n",
              "      <td>Under-Graduate</td>\n",
              "      <td>2</td>\n",
              "    </tr>\n",
              "    <tr>\n",
              "      <th>10</th>\n",
              "      <td>20000</td>\n",
              "      <td>18000</td>\n",
              "      <td>4</td>\n",
              "      <td>8000</td>\n",
              "      <td>278400</td>\n",
              "      <td>Under-Graduate</td>\n",
              "      <td>2</td>\n",
              "    </tr>\n",
              "    <tr>\n",
              "      <th>11</th>\n",
              "      <td>22000</td>\n",
              "      <td>25000</td>\n",
              "      <td>6</td>\n",
              "      <td>12000</td>\n",
              "      <td>279840</td>\n",
              "      <td>Illiterate</td>\n",
              "      <td>1</td>\n",
              "    </tr>\n",
              "    <tr>\n",
              "      <th>12</th>\n",
              "      <td>23400</td>\n",
              "      <td>5000</td>\n",
              "      <td>3</td>\n",
              "      <td>0</td>\n",
              "      <td>292032</td>\n",
              "      <td>Illiterate</td>\n",
              "      <td>1</td>\n",
              "    </tr>\n",
              "    <tr>\n",
              "      <th>13</th>\n",
              "      <td>24000</td>\n",
              "      <td>10500</td>\n",
              "      <td>6</td>\n",
              "      <td>0</td>\n",
              "      <td>316800</td>\n",
              "      <td>Graduate</td>\n",
              "      <td>2</td>\n",
              "    </tr>\n",
              "    <tr>\n",
              "      <th>14</th>\n",
              "      <td>24000</td>\n",
              "      <td>10000</td>\n",
              "      <td>4</td>\n",
              "      <td>0</td>\n",
              "      <td>244800</td>\n",
              "      <td>Graduate</td>\n",
              "      <td>2</td>\n",
              "    </tr>\n",
              "    <tr>\n",
              "      <th>15</th>\n",
              "      <td>25000</td>\n",
              "      <td>12300</td>\n",
              "      <td>3</td>\n",
              "      <td>0</td>\n",
              "      <td>246000</td>\n",
              "      <td>Graduate</td>\n",
              "      <td>1</td>\n",
              "    </tr>\n",
              "    <tr>\n",
              "      <th>16</th>\n",
              "      <td>25000</td>\n",
              "      <td>20000</td>\n",
              "      <td>3</td>\n",
              "      <td>3500</td>\n",
              "      <td>261000</td>\n",
              "      <td>Graduate</td>\n",
              "      <td>1</td>\n",
              "    </tr>\n",
              "    <tr>\n",
              "      <th>17</th>\n",
              "      <td>25000</td>\n",
              "      <td>10000</td>\n",
              "      <td>6</td>\n",
              "      <td>0</td>\n",
              "      <td>258000</td>\n",
              "      <td>Under-Graduate</td>\n",
              "      <td>3</td>\n",
              "    </tr>\n",
              "    <tr>\n",
              "      <th>18</th>\n",
              "      <td>29000</td>\n",
              "      <td>6600</td>\n",
              "      <td>2</td>\n",
              "      <td>2000</td>\n",
              "      <td>348000</td>\n",
              "      <td>Graduate</td>\n",
              "      <td>1</td>\n",
              "    </tr>\n",
              "    <tr>\n",
              "      <th>19</th>\n",
              "      <td>30000</td>\n",
              "      <td>13000</td>\n",
              "      <td>4</td>\n",
              "      <td>0</td>\n",
              "      <td>385200</td>\n",
              "      <td>Graduate</td>\n",
              "      <td>1</td>\n",
              "    </tr>\n",
              "    <tr>\n",
              "      <th>20</th>\n",
              "      <td>30500</td>\n",
              "      <td>25000</td>\n",
              "      <td>5</td>\n",
              "      <td>5000</td>\n",
              "      <td>351360</td>\n",
              "      <td>Under-Graduate</td>\n",
              "      <td>1</td>\n",
              "    </tr>\n",
              "    <tr>\n",
              "      <th>21</th>\n",
              "      <td>32000</td>\n",
              "      <td>15000</td>\n",
              "      <td>4</td>\n",
              "      <td>0</td>\n",
              "      <td>445440</td>\n",
              "      <td>Professional</td>\n",
              "      <td>1</td>\n",
              "    </tr>\n",
              "    <tr>\n",
              "      <th>22</th>\n",
              "      <td>34000</td>\n",
              "      <td>19000</td>\n",
              "      <td>6</td>\n",
              "      <td>0</td>\n",
              "      <td>330480</td>\n",
              "      <td>Professional</td>\n",
              "      <td>1</td>\n",
              "    </tr>\n",
              "    <tr>\n",
              "      <th>23</th>\n",
              "      <td>34000</td>\n",
              "      <td>25000</td>\n",
              "      <td>3</td>\n",
              "      <td>4000</td>\n",
              "      <td>469200</td>\n",
              "      <td>Professional</td>\n",
              "      <td>1</td>\n",
              "    </tr>\n",
              "    <tr>\n",
              "      <th>24</th>\n",
              "      <td>35000</td>\n",
              "      <td>12000</td>\n",
              "      <td>3</td>\n",
              "      <td>0</td>\n",
              "      <td>466200</td>\n",
              "      <td>Graduate</td>\n",
              "      <td>1</td>\n",
              "    </tr>\n",
              "    <tr>\n",
              "      <th>25</th>\n",
              "      <td>35000</td>\n",
              "      <td>25000</td>\n",
              "      <td>4</td>\n",
              "      <td>0</td>\n",
              "      <td>449400</td>\n",
              "      <td>Professional</td>\n",
              "      <td>2</td>\n",
              "    </tr>\n",
              "    <tr>\n",
              "      <th>26</th>\n",
              "      <td>39000</td>\n",
              "      <td>8000</td>\n",
              "      <td>4</td>\n",
              "      <td>0</td>\n",
              "      <td>556920</td>\n",
              "      <td>Under-Graduate</td>\n",
              "      <td>1</td>\n",
              "    </tr>\n",
              "    <tr>\n",
              "      <th>27</th>\n",
              "      <td>40000</td>\n",
              "      <td>10000</td>\n",
              "      <td>4</td>\n",
              "      <td>0</td>\n",
              "      <td>412800</td>\n",
              "      <td>Under-Graduate</td>\n",
              "      <td>1</td>\n",
              "    </tr>\n",
              "    <tr>\n",
              "      <th>28</th>\n",
              "      <td>42000</td>\n",
              "      <td>15000</td>\n",
              "      <td>4</td>\n",
              "      <td>0</td>\n",
              "      <td>488880</td>\n",
              "      <td>Graduate</td>\n",
              "      <td>1</td>\n",
              "    </tr>\n",
              "    <tr>\n",
              "      <th>29</th>\n",
              "      <td>43000</td>\n",
              "      <td>12000</td>\n",
              "      <td>4</td>\n",
              "      <td>0</td>\n",
              "      <td>619200</td>\n",
              "      <td>Graduate</td>\n",
              "      <td>1</td>\n",
              "    </tr>\n",
              "    <tr>\n",
              "      <th>30</th>\n",
              "      <td>45000</td>\n",
              "      <td>25000</td>\n",
              "      <td>6</td>\n",
              "      <td>0</td>\n",
              "      <td>523800</td>\n",
              "      <td>Graduate</td>\n",
              "      <td>3</td>\n",
              "    </tr>\n",
              "    <tr>\n",
              "      <th>31</th>\n",
              "      <td>45000</td>\n",
              "      <td>40000</td>\n",
              "      <td>6</td>\n",
              "      <td>3500</td>\n",
              "      <td>507600</td>\n",
              "      <td>Professional</td>\n",
              "      <td>2</td>\n",
              "    </tr>\n",
              "    <tr>\n",
              "      <th>32</th>\n",
              "      <td>45000</td>\n",
              "      <td>10000</td>\n",
              "      <td>2</td>\n",
              "      <td>1000</td>\n",
              "      <td>437400</td>\n",
              "      <td>Post-Graduate</td>\n",
              "      <td>1</td>\n",
              "    </tr>\n",
              "    <tr>\n",
              "      <th>33</th>\n",
              "      <td>45000</td>\n",
              "      <td>22000</td>\n",
              "      <td>4</td>\n",
              "      <td>2500</td>\n",
              "      <td>610200</td>\n",
              "      <td>Post-Graduate</td>\n",
              "      <td>1</td>\n",
              "    </tr>\n",
              "    <tr>\n",
              "      <th>34</th>\n",
              "      <td>46000</td>\n",
              "      <td>25000</td>\n",
              "      <td>5</td>\n",
              "      <td>3500</td>\n",
              "      <td>596160</td>\n",
              "      <td>Graduate</td>\n",
              "      <td>1</td>\n",
              "    </tr>\n",
              "    <tr>\n",
              "      <th>35</th>\n",
              "      <td>47000</td>\n",
              "      <td>15000</td>\n",
              "      <td>7</td>\n",
              "      <td>0</td>\n",
              "      <td>456840</td>\n",
              "      <td>Professional</td>\n",
              "      <td>4</td>\n",
              "    </tr>\n",
              "    <tr>\n",
              "      <th>36</th>\n",
              "      <td>50000</td>\n",
              "      <td>20000</td>\n",
              "      <td>4</td>\n",
              "      <td>0</td>\n",
              "      <td>570000</td>\n",
              "      <td>Professional</td>\n",
              "      <td>1</td>\n",
              "    </tr>\n",
              "    <tr>\n",
              "      <th>37</th>\n",
              "      <td>50500</td>\n",
              "      <td>20000</td>\n",
              "      <td>3</td>\n",
              "      <td>0</td>\n",
              "      <td>581760</td>\n",
              "      <td>Professional</td>\n",
              "      <td>2</td>\n",
              "    </tr>\n",
              "    <tr>\n",
              "      <th>38</th>\n",
              "      <td>55000</td>\n",
              "      <td>45000</td>\n",
              "      <td>6</td>\n",
              "      <td>12000</td>\n",
              "      <td>600600</td>\n",
              "      <td>Graduate</td>\n",
              "      <td>2</td>\n",
              "    </tr>\n",
              "    <tr>\n",
              "      <th>39</th>\n",
              "      <td>60000</td>\n",
              "      <td>10000</td>\n",
              "      <td>3</td>\n",
              "      <td>0</td>\n",
              "      <td>590400</td>\n",
              "      <td>Post-Graduate</td>\n",
              "      <td>1</td>\n",
              "    </tr>\n",
              "    <tr>\n",
              "      <th>40</th>\n",
              "      <td>60000</td>\n",
              "      <td>50000</td>\n",
              "      <td>6</td>\n",
              "      <td>10000</td>\n",
              "      <td>590400</td>\n",
              "      <td>Graduate</td>\n",
              "      <td>1</td>\n",
              "    </tr>\n",
              "    <tr>\n",
              "      <th>41</th>\n",
              "      <td>65000</td>\n",
              "      <td>20000</td>\n",
              "      <td>4</td>\n",
              "      <td>5000</td>\n",
              "      <td>647400</td>\n",
              "      <td>Illiterate</td>\n",
              "      <td>2</td>\n",
              "    </tr>\n",
              "    <tr>\n",
              "      <th>42</th>\n",
              "      <td>70000</td>\n",
              "      <td>9000</td>\n",
              "      <td>2</td>\n",
              "      <td>0</td>\n",
              "      <td>756000</td>\n",
              "      <td>Graduate</td>\n",
              "      <td>1</td>\n",
              "    </tr>\n",
              "    <tr>\n",
              "      <th>43</th>\n",
              "      <td>80000</td>\n",
              "      <td>20000</td>\n",
              "      <td>4</td>\n",
              "      <td>0</td>\n",
              "      <td>1075200</td>\n",
              "      <td>Graduate</td>\n",
              "      <td>1</td>\n",
              "    </tr>\n",
              "    <tr>\n",
              "      <th>44</th>\n",
              "      <td>85000</td>\n",
              "      <td>25000</td>\n",
              "      <td>5</td>\n",
              "      <td>0</td>\n",
              "      <td>1142400</td>\n",
              "      <td>Under-Graduate</td>\n",
              "      <td>2</td>\n",
              "    </tr>\n",
              "    <tr>\n",
              "      <th>45</th>\n",
              "      <td>90000</td>\n",
              "      <td>48000</td>\n",
              "      <td>7</td>\n",
              "      <td>0</td>\n",
              "      <td>885600</td>\n",
              "      <td>Post-Graduate</td>\n",
              "      <td>3</td>\n",
              "    </tr>\n",
              "    <tr>\n",
              "      <th>46</th>\n",
              "      <td>98000</td>\n",
              "      <td>25000</td>\n",
              "      <td>5</td>\n",
              "      <td>0</td>\n",
              "      <td>1152480</td>\n",
              "      <td>Professional</td>\n",
              "      <td>2</td>\n",
              "    </tr>\n",
              "    <tr>\n",
              "      <th>47</th>\n",
              "      <td>100000</td>\n",
              "      <td>30000</td>\n",
              "      <td>6</td>\n",
              "      <td>0</td>\n",
              "      <td>1404000</td>\n",
              "      <td>Graduate</td>\n",
              "      <td>3</td>\n",
              "    </tr>\n",
              "    <tr>\n",
              "      <th>48</th>\n",
              "      <td>100000</td>\n",
              "      <td>50000</td>\n",
              "      <td>4</td>\n",
              "      <td>20000</td>\n",
              "      <td>1032000</td>\n",
              "      <td>Professional</td>\n",
              "      <td>2</td>\n",
              "    </tr>\n",
              "    <tr>\n",
              "      <th>49</th>\n",
              "      <td>100000</td>\n",
              "      <td>40000</td>\n",
              "      <td>6</td>\n",
              "      <td>10000</td>\n",
              "      <td>1320000</td>\n",
              "      <td>Post-Graduate</td>\n",
              "      <td>1</td>\n",
              "    </tr>\n",
              "  </tbody>\n",
              "</table>\n",
              "</div>\n",
              "      <button class=\"colab-df-convert\" onclick=\"convertToInteractive('df-24ab2b4b-297b-4107-8d05-1105e3bf0b87')\"\n",
              "              title=\"Convert this dataframe to an interactive table.\"\n",
              "              style=\"display:none;\">\n",
              "        \n",
              "  <svg xmlns=\"http://www.w3.org/2000/svg\" height=\"24px\"viewBox=\"0 0 24 24\"\n",
              "       width=\"24px\">\n",
              "    <path d=\"M0 0h24v24H0V0z\" fill=\"none\"/>\n",
              "    <path d=\"M18.56 5.44l.94 2.06.94-2.06 2.06-.94-2.06-.94-.94-2.06-.94 2.06-2.06.94zm-11 1L8.5 8.5l.94-2.06 2.06-.94-2.06-.94L8.5 2.5l-.94 2.06-2.06.94zm10 10l.94 2.06.94-2.06 2.06-.94-2.06-.94-.94-2.06-.94 2.06-2.06.94z\"/><path d=\"M17.41 7.96l-1.37-1.37c-.4-.4-.92-.59-1.43-.59-.52 0-1.04.2-1.43.59L10.3 9.45l-7.72 7.72c-.78.78-.78 2.05 0 2.83L4 21.41c.39.39.9.59 1.41.59.51 0 1.02-.2 1.41-.59l7.78-7.78 2.81-2.81c.8-.78.8-2.07 0-2.86zM5.41 20L4 18.59l7.72-7.72 1.47 1.35L5.41 20z\"/>\n",
              "  </svg>\n",
              "      </button>\n",
              "      \n",
              "  <style>\n",
              "    .colab-df-container {\n",
              "      display:flex;\n",
              "      flex-wrap:wrap;\n",
              "      gap: 12px;\n",
              "    }\n",
              "\n",
              "    .colab-df-convert {\n",
              "      background-color: #E8F0FE;\n",
              "      border: none;\n",
              "      border-radius: 50%;\n",
              "      cursor: pointer;\n",
              "      display: none;\n",
              "      fill: #1967D2;\n",
              "      height: 32px;\n",
              "      padding: 0 0 0 0;\n",
              "      width: 32px;\n",
              "    }\n",
              "\n",
              "    .colab-df-convert:hover {\n",
              "      background-color: #E2EBFA;\n",
              "      box-shadow: 0px 1px 2px rgba(60, 64, 67, 0.3), 0px 1px 3px 1px rgba(60, 64, 67, 0.15);\n",
              "      fill: #174EA6;\n",
              "    }\n",
              "\n",
              "    [theme=dark] .colab-df-convert {\n",
              "      background-color: #3B4455;\n",
              "      fill: #D2E3FC;\n",
              "    }\n",
              "\n",
              "    [theme=dark] .colab-df-convert:hover {\n",
              "      background-color: #434B5C;\n",
              "      box-shadow: 0px 1px 3px 1px rgba(0, 0, 0, 0.15);\n",
              "      filter: drop-shadow(0px 1px 2px rgba(0, 0, 0, 0.3));\n",
              "      fill: #FFFFFF;\n",
              "    }\n",
              "  </style>\n",
              "\n",
              "      <script>\n",
              "        const buttonEl =\n",
              "          document.querySelector('#df-24ab2b4b-297b-4107-8d05-1105e3bf0b87 button.colab-df-convert');\n",
              "        buttonEl.style.display =\n",
              "          google.colab.kernel.accessAllowed ? 'block' : 'none';\n",
              "\n",
              "        async function convertToInteractive(key) {\n",
              "          const element = document.querySelector('#df-24ab2b4b-297b-4107-8d05-1105e3bf0b87');\n",
              "          const dataTable =\n",
              "            await google.colab.kernel.invokeFunction('convertToInteractive',\n",
              "                                                     [key], {});\n",
              "          if (!dataTable) return;\n",
              "\n",
              "          const docLinkHtml = 'Like what you see? Visit the ' +\n",
              "            '<a target=\"_blank\" href=https://colab.research.google.com/notebooks/data_table.ipynb>data table notebook</a>'\n",
              "            + ' to learn more about interactive tables.';\n",
              "          element.innerHTML = '';\n",
              "          dataTable['output_type'] = 'display_data';\n",
              "          await google.colab.output.renderOutput(dataTable, element);\n",
              "          const docLink = document.createElement('div');\n",
              "          docLink.innerHTML = docLinkHtml;\n",
              "          element.appendChild(docLink);\n",
              "        }\n",
              "      </script>\n",
              "    </div>\n",
              "  </div>\n",
              "  "
            ]
          },
          "metadata": {},
          "execution_count": 5
        }
      ]
    },
    {
      "cell_type": "markdown",
      "source": [
        "loại bỏ cột dữ liệu định tính"
      ],
      "metadata": {
        "id": "BB1yjVpqo8vW"
      }
    },
    {
      "cell_type": "code",
      "source": [
        "inc_1 = inc.drop(\"Highest_Qualified_Member\", axis = 1)"
      ],
      "metadata": {
        "id": "9idxTDYdn9Fr"
      },
      "execution_count": null,
      "outputs": []
    },
    {
      "cell_type": "markdown",
      "source": [
        "Loại bỏ các giá trị na(nếu có)"
      ],
      "metadata": {
        "id": "1Q36c993mpBu"
      }
    },
    {
      "cell_type": "code",
      "source": [
        "inc_1.dropna()"
      ],
      "metadata": {
        "colab": {
          "base_uri": "https://localhost:8080/",
          "height": 1000
        },
        "id": "boHfxLYa-MOG",
        "outputId": "f34c8cdf-41fb-4af4-8063-1e26ebc3a1ef"
      },
      "execution_count": null,
      "outputs": [
        {
          "output_type": "execute_result",
          "data": {
            "text/plain": [
              "    Mthly_HH_Income  Mthly_HH_Expense  No_of_Fly_Members  Emi_or_Rent_Amt  \\\n",
              "0              5000              8000                  3             2000   \n",
              "1              6000              7000                  2             3000   \n",
              "2             10000              4500                  2                0   \n",
              "3             10000              2000                  1                0   \n",
              "4             12500             12000                  2             3000   \n",
              "5             14000              8000                  2                0   \n",
              "6             15000             16000                  3            35000   \n",
              "7             18000             20000                  5             8000   \n",
              "8             19000              9000                  2                0   \n",
              "9             20000              9000                  4                0   \n",
              "10            20000             18000                  4             8000   \n",
              "11            22000             25000                  6            12000   \n",
              "12            23400              5000                  3                0   \n",
              "13            24000             10500                  6                0   \n",
              "14            24000             10000                  4                0   \n",
              "15            25000             12300                  3                0   \n",
              "16            25000             20000                  3             3500   \n",
              "17            25000             10000                  6                0   \n",
              "18            29000              6600                  2             2000   \n",
              "19            30000             13000                  4                0   \n",
              "20            30500             25000                  5             5000   \n",
              "21            32000             15000                  4                0   \n",
              "22            34000             19000                  6                0   \n",
              "23            34000             25000                  3             4000   \n",
              "24            35000             12000                  3                0   \n",
              "25            35000             25000                  4                0   \n",
              "26            39000              8000                  4                0   \n",
              "27            40000             10000                  4                0   \n",
              "28            42000             15000                  4                0   \n",
              "29            43000             12000                  4                0   \n",
              "30            45000             25000                  6                0   \n",
              "31            45000             40000                  6             3500   \n",
              "32            45000             10000                  2             1000   \n",
              "33            45000             22000                  4             2500   \n",
              "34            46000             25000                  5             3500   \n",
              "35            47000             15000                  7                0   \n",
              "36            50000             20000                  4                0   \n",
              "37            50500             20000                  3                0   \n",
              "38            55000             45000                  6            12000   \n",
              "39            60000             10000                  3                0   \n",
              "40            60000             50000                  6            10000   \n",
              "41            65000             20000                  4             5000   \n",
              "42            70000              9000                  2                0   \n",
              "43            80000             20000                  4                0   \n",
              "44            85000             25000                  5                0   \n",
              "45            90000             48000                  7                0   \n",
              "46            98000             25000                  5                0   \n",
              "47           100000             30000                  6                0   \n",
              "48           100000             50000                  4            20000   \n",
              "49           100000             40000                  6            10000   \n",
              "\n",
              "    Annual_HH_Income  No_of_Earning_Members  \n",
              "0              64200                      1  \n",
              "1              79920                      1  \n",
              "2             112800                      1  \n",
              "3              97200                      1  \n",
              "4             147000                      1  \n",
              "5             196560                      1  \n",
              "6             167400                      1  \n",
              "7             216000                      1  \n",
              "8             218880                      1  \n",
              "9             220800                      2  \n",
              "10            278400                      2  \n",
              "11            279840                      1  \n",
              "12            292032                      1  \n",
              "13            316800                      2  \n",
              "14            244800                      2  \n",
              "15            246000                      1  \n",
              "16            261000                      1  \n",
              "17            258000                      3  \n",
              "18            348000                      1  \n",
              "19            385200                      1  \n",
              "20            351360                      1  \n",
              "21            445440                      1  \n",
              "22            330480                      1  \n",
              "23            469200                      1  \n",
              "24            466200                      1  \n",
              "25            449400                      2  \n",
              "26            556920                      1  \n",
              "27            412800                      1  \n",
              "28            488880                      1  \n",
              "29            619200                      1  \n",
              "30            523800                      3  \n",
              "31            507600                      2  \n",
              "32            437400                      1  \n",
              "33            610200                      1  \n",
              "34            596160                      1  \n",
              "35            456840                      4  \n",
              "36            570000                      1  \n",
              "37            581760                      2  \n",
              "38            600600                      2  \n",
              "39            590400                      1  \n",
              "40            590400                      1  \n",
              "41            647400                      2  \n",
              "42            756000                      1  \n",
              "43           1075200                      1  \n",
              "44           1142400                      2  \n",
              "45            885600                      3  \n",
              "46           1152480                      2  \n",
              "47           1404000                      3  \n",
              "48           1032000                      2  \n",
              "49           1320000                      1  "
            ],
            "text/html": [
              "\n",
              "  <div id=\"df-dfda9cd9-eff6-4f97-b414-1788e5c86076\">\n",
              "    <div class=\"colab-df-container\">\n",
              "      <div>\n",
              "<style scoped>\n",
              "    .dataframe tbody tr th:only-of-type {\n",
              "        vertical-align: middle;\n",
              "    }\n",
              "\n",
              "    .dataframe tbody tr th {\n",
              "        vertical-align: top;\n",
              "    }\n",
              "\n",
              "    .dataframe thead th {\n",
              "        text-align: right;\n",
              "    }\n",
              "</style>\n",
              "<table border=\"1\" class=\"dataframe\">\n",
              "  <thead>\n",
              "    <tr style=\"text-align: right;\">\n",
              "      <th></th>\n",
              "      <th>Mthly_HH_Income</th>\n",
              "      <th>Mthly_HH_Expense</th>\n",
              "      <th>No_of_Fly_Members</th>\n",
              "      <th>Emi_or_Rent_Amt</th>\n",
              "      <th>Annual_HH_Income</th>\n",
              "      <th>No_of_Earning_Members</th>\n",
              "    </tr>\n",
              "  </thead>\n",
              "  <tbody>\n",
              "    <tr>\n",
              "      <th>0</th>\n",
              "      <td>5000</td>\n",
              "      <td>8000</td>\n",
              "      <td>3</td>\n",
              "      <td>2000</td>\n",
              "      <td>64200</td>\n",
              "      <td>1</td>\n",
              "    </tr>\n",
              "    <tr>\n",
              "      <th>1</th>\n",
              "      <td>6000</td>\n",
              "      <td>7000</td>\n",
              "      <td>2</td>\n",
              "      <td>3000</td>\n",
              "      <td>79920</td>\n",
              "      <td>1</td>\n",
              "    </tr>\n",
              "    <tr>\n",
              "      <th>2</th>\n",
              "      <td>10000</td>\n",
              "      <td>4500</td>\n",
              "      <td>2</td>\n",
              "      <td>0</td>\n",
              "      <td>112800</td>\n",
              "      <td>1</td>\n",
              "    </tr>\n",
              "    <tr>\n",
              "      <th>3</th>\n",
              "      <td>10000</td>\n",
              "      <td>2000</td>\n",
              "      <td>1</td>\n",
              "      <td>0</td>\n",
              "      <td>97200</td>\n",
              "      <td>1</td>\n",
              "    </tr>\n",
              "    <tr>\n",
              "      <th>4</th>\n",
              "      <td>12500</td>\n",
              "      <td>12000</td>\n",
              "      <td>2</td>\n",
              "      <td>3000</td>\n",
              "      <td>147000</td>\n",
              "      <td>1</td>\n",
              "    </tr>\n",
              "    <tr>\n",
              "      <th>5</th>\n",
              "      <td>14000</td>\n",
              "      <td>8000</td>\n",
              "      <td>2</td>\n",
              "      <td>0</td>\n",
              "      <td>196560</td>\n",
              "      <td>1</td>\n",
              "    </tr>\n",
              "    <tr>\n",
              "      <th>6</th>\n",
              "      <td>15000</td>\n",
              "      <td>16000</td>\n",
              "      <td>3</td>\n",
              "      <td>35000</td>\n",
              "      <td>167400</td>\n",
              "      <td>1</td>\n",
              "    </tr>\n",
              "    <tr>\n",
              "      <th>7</th>\n",
              "      <td>18000</td>\n",
              "      <td>20000</td>\n",
              "      <td>5</td>\n",
              "      <td>8000</td>\n",
              "      <td>216000</td>\n",
              "      <td>1</td>\n",
              "    </tr>\n",
              "    <tr>\n",
              "      <th>8</th>\n",
              "      <td>19000</td>\n",
              "      <td>9000</td>\n",
              "      <td>2</td>\n",
              "      <td>0</td>\n",
              "      <td>218880</td>\n",
              "      <td>1</td>\n",
              "    </tr>\n",
              "    <tr>\n",
              "      <th>9</th>\n",
              "      <td>20000</td>\n",
              "      <td>9000</td>\n",
              "      <td>4</td>\n",
              "      <td>0</td>\n",
              "      <td>220800</td>\n",
              "      <td>2</td>\n",
              "    </tr>\n",
              "    <tr>\n",
              "      <th>10</th>\n",
              "      <td>20000</td>\n",
              "      <td>18000</td>\n",
              "      <td>4</td>\n",
              "      <td>8000</td>\n",
              "      <td>278400</td>\n",
              "      <td>2</td>\n",
              "    </tr>\n",
              "    <tr>\n",
              "      <th>11</th>\n",
              "      <td>22000</td>\n",
              "      <td>25000</td>\n",
              "      <td>6</td>\n",
              "      <td>12000</td>\n",
              "      <td>279840</td>\n",
              "      <td>1</td>\n",
              "    </tr>\n",
              "    <tr>\n",
              "      <th>12</th>\n",
              "      <td>23400</td>\n",
              "      <td>5000</td>\n",
              "      <td>3</td>\n",
              "      <td>0</td>\n",
              "      <td>292032</td>\n",
              "      <td>1</td>\n",
              "    </tr>\n",
              "    <tr>\n",
              "      <th>13</th>\n",
              "      <td>24000</td>\n",
              "      <td>10500</td>\n",
              "      <td>6</td>\n",
              "      <td>0</td>\n",
              "      <td>316800</td>\n",
              "      <td>2</td>\n",
              "    </tr>\n",
              "    <tr>\n",
              "      <th>14</th>\n",
              "      <td>24000</td>\n",
              "      <td>10000</td>\n",
              "      <td>4</td>\n",
              "      <td>0</td>\n",
              "      <td>244800</td>\n",
              "      <td>2</td>\n",
              "    </tr>\n",
              "    <tr>\n",
              "      <th>15</th>\n",
              "      <td>25000</td>\n",
              "      <td>12300</td>\n",
              "      <td>3</td>\n",
              "      <td>0</td>\n",
              "      <td>246000</td>\n",
              "      <td>1</td>\n",
              "    </tr>\n",
              "    <tr>\n",
              "      <th>16</th>\n",
              "      <td>25000</td>\n",
              "      <td>20000</td>\n",
              "      <td>3</td>\n",
              "      <td>3500</td>\n",
              "      <td>261000</td>\n",
              "      <td>1</td>\n",
              "    </tr>\n",
              "    <tr>\n",
              "      <th>17</th>\n",
              "      <td>25000</td>\n",
              "      <td>10000</td>\n",
              "      <td>6</td>\n",
              "      <td>0</td>\n",
              "      <td>258000</td>\n",
              "      <td>3</td>\n",
              "    </tr>\n",
              "    <tr>\n",
              "      <th>18</th>\n",
              "      <td>29000</td>\n",
              "      <td>6600</td>\n",
              "      <td>2</td>\n",
              "      <td>2000</td>\n",
              "      <td>348000</td>\n",
              "      <td>1</td>\n",
              "    </tr>\n",
              "    <tr>\n",
              "      <th>19</th>\n",
              "      <td>30000</td>\n",
              "      <td>13000</td>\n",
              "      <td>4</td>\n",
              "      <td>0</td>\n",
              "      <td>385200</td>\n",
              "      <td>1</td>\n",
              "    </tr>\n",
              "    <tr>\n",
              "      <th>20</th>\n",
              "      <td>30500</td>\n",
              "      <td>25000</td>\n",
              "      <td>5</td>\n",
              "      <td>5000</td>\n",
              "      <td>351360</td>\n",
              "      <td>1</td>\n",
              "    </tr>\n",
              "    <tr>\n",
              "      <th>21</th>\n",
              "      <td>32000</td>\n",
              "      <td>15000</td>\n",
              "      <td>4</td>\n",
              "      <td>0</td>\n",
              "      <td>445440</td>\n",
              "      <td>1</td>\n",
              "    </tr>\n",
              "    <tr>\n",
              "      <th>22</th>\n",
              "      <td>34000</td>\n",
              "      <td>19000</td>\n",
              "      <td>6</td>\n",
              "      <td>0</td>\n",
              "      <td>330480</td>\n",
              "      <td>1</td>\n",
              "    </tr>\n",
              "    <tr>\n",
              "      <th>23</th>\n",
              "      <td>34000</td>\n",
              "      <td>25000</td>\n",
              "      <td>3</td>\n",
              "      <td>4000</td>\n",
              "      <td>469200</td>\n",
              "      <td>1</td>\n",
              "    </tr>\n",
              "    <tr>\n",
              "      <th>24</th>\n",
              "      <td>35000</td>\n",
              "      <td>12000</td>\n",
              "      <td>3</td>\n",
              "      <td>0</td>\n",
              "      <td>466200</td>\n",
              "      <td>1</td>\n",
              "    </tr>\n",
              "    <tr>\n",
              "      <th>25</th>\n",
              "      <td>35000</td>\n",
              "      <td>25000</td>\n",
              "      <td>4</td>\n",
              "      <td>0</td>\n",
              "      <td>449400</td>\n",
              "      <td>2</td>\n",
              "    </tr>\n",
              "    <tr>\n",
              "      <th>26</th>\n",
              "      <td>39000</td>\n",
              "      <td>8000</td>\n",
              "      <td>4</td>\n",
              "      <td>0</td>\n",
              "      <td>556920</td>\n",
              "      <td>1</td>\n",
              "    </tr>\n",
              "    <tr>\n",
              "      <th>27</th>\n",
              "      <td>40000</td>\n",
              "      <td>10000</td>\n",
              "      <td>4</td>\n",
              "      <td>0</td>\n",
              "      <td>412800</td>\n",
              "      <td>1</td>\n",
              "    </tr>\n",
              "    <tr>\n",
              "      <th>28</th>\n",
              "      <td>42000</td>\n",
              "      <td>15000</td>\n",
              "      <td>4</td>\n",
              "      <td>0</td>\n",
              "      <td>488880</td>\n",
              "      <td>1</td>\n",
              "    </tr>\n",
              "    <tr>\n",
              "      <th>29</th>\n",
              "      <td>43000</td>\n",
              "      <td>12000</td>\n",
              "      <td>4</td>\n",
              "      <td>0</td>\n",
              "      <td>619200</td>\n",
              "      <td>1</td>\n",
              "    </tr>\n",
              "    <tr>\n",
              "      <th>30</th>\n",
              "      <td>45000</td>\n",
              "      <td>25000</td>\n",
              "      <td>6</td>\n",
              "      <td>0</td>\n",
              "      <td>523800</td>\n",
              "      <td>3</td>\n",
              "    </tr>\n",
              "    <tr>\n",
              "      <th>31</th>\n",
              "      <td>45000</td>\n",
              "      <td>40000</td>\n",
              "      <td>6</td>\n",
              "      <td>3500</td>\n",
              "      <td>507600</td>\n",
              "      <td>2</td>\n",
              "    </tr>\n",
              "    <tr>\n",
              "      <th>32</th>\n",
              "      <td>45000</td>\n",
              "      <td>10000</td>\n",
              "      <td>2</td>\n",
              "      <td>1000</td>\n",
              "      <td>437400</td>\n",
              "      <td>1</td>\n",
              "    </tr>\n",
              "    <tr>\n",
              "      <th>33</th>\n",
              "      <td>45000</td>\n",
              "      <td>22000</td>\n",
              "      <td>4</td>\n",
              "      <td>2500</td>\n",
              "      <td>610200</td>\n",
              "      <td>1</td>\n",
              "    </tr>\n",
              "    <tr>\n",
              "      <th>34</th>\n",
              "      <td>46000</td>\n",
              "      <td>25000</td>\n",
              "      <td>5</td>\n",
              "      <td>3500</td>\n",
              "      <td>596160</td>\n",
              "      <td>1</td>\n",
              "    </tr>\n",
              "    <tr>\n",
              "      <th>35</th>\n",
              "      <td>47000</td>\n",
              "      <td>15000</td>\n",
              "      <td>7</td>\n",
              "      <td>0</td>\n",
              "      <td>456840</td>\n",
              "      <td>4</td>\n",
              "    </tr>\n",
              "    <tr>\n",
              "      <th>36</th>\n",
              "      <td>50000</td>\n",
              "      <td>20000</td>\n",
              "      <td>4</td>\n",
              "      <td>0</td>\n",
              "      <td>570000</td>\n",
              "      <td>1</td>\n",
              "    </tr>\n",
              "    <tr>\n",
              "      <th>37</th>\n",
              "      <td>50500</td>\n",
              "      <td>20000</td>\n",
              "      <td>3</td>\n",
              "      <td>0</td>\n",
              "      <td>581760</td>\n",
              "      <td>2</td>\n",
              "    </tr>\n",
              "    <tr>\n",
              "      <th>38</th>\n",
              "      <td>55000</td>\n",
              "      <td>45000</td>\n",
              "      <td>6</td>\n",
              "      <td>12000</td>\n",
              "      <td>600600</td>\n",
              "      <td>2</td>\n",
              "    </tr>\n",
              "    <tr>\n",
              "      <th>39</th>\n",
              "      <td>60000</td>\n",
              "      <td>10000</td>\n",
              "      <td>3</td>\n",
              "      <td>0</td>\n",
              "      <td>590400</td>\n",
              "      <td>1</td>\n",
              "    </tr>\n",
              "    <tr>\n",
              "      <th>40</th>\n",
              "      <td>60000</td>\n",
              "      <td>50000</td>\n",
              "      <td>6</td>\n",
              "      <td>10000</td>\n",
              "      <td>590400</td>\n",
              "      <td>1</td>\n",
              "    </tr>\n",
              "    <tr>\n",
              "      <th>41</th>\n",
              "      <td>65000</td>\n",
              "      <td>20000</td>\n",
              "      <td>4</td>\n",
              "      <td>5000</td>\n",
              "      <td>647400</td>\n",
              "      <td>2</td>\n",
              "    </tr>\n",
              "    <tr>\n",
              "      <th>42</th>\n",
              "      <td>70000</td>\n",
              "      <td>9000</td>\n",
              "      <td>2</td>\n",
              "      <td>0</td>\n",
              "      <td>756000</td>\n",
              "      <td>1</td>\n",
              "    </tr>\n",
              "    <tr>\n",
              "      <th>43</th>\n",
              "      <td>80000</td>\n",
              "      <td>20000</td>\n",
              "      <td>4</td>\n",
              "      <td>0</td>\n",
              "      <td>1075200</td>\n",
              "      <td>1</td>\n",
              "    </tr>\n",
              "    <tr>\n",
              "      <th>44</th>\n",
              "      <td>85000</td>\n",
              "      <td>25000</td>\n",
              "      <td>5</td>\n",
              "      <td>0</td>\n",
              "      <td>1142400</td>\n",
              "      <td>2</td>\n",
              "    </tr>\n",
              "    <tr>\n",
              "      <th>45</th>\n",
              "      <td>90000</td>\n",
              "      <td>48000</td>\n",
              "      <td>7</td>\n",
              "      <td>0</td>\n",
              "      <td>885600</td>\n",
              "      <td>3</td>\n",
              "    </tr>\n",
              "    <tr>\n",
              "      <th>46</th>\n",
              "      <td>98000</td>\n",
              "      <td>25000</td>\n",
              "      <td>5</td>\n",
              "      <td>0</td>\n",
              "      <td>1152480</td>\n",
              "      <td>2</td>\n",
              "    </tr>\n",
              "    <tr>\n",
              "      <th>47</th>\n",
              "      <td>100000</td>\n",
              "      <td>30000</td>\n",
              "      <td>6</td>\n",
              "      <td>0</td>\n",
              "      <td>1404000</td>\n",
              "      <td>3</td>\n",
              "    </tr>\n",
              "    <tr>\n",
              "      <th>48</th>\n",
              "      <td>100000</td>\n",
              "      <td>50000</td>\n",
              "      <td>4</td>\n",
              "      <td>20000</td>\n",
              "      <td>1032000</td>\n",
              "      <td>2</td>\n",
              "    </tr>\n",
              "    <tr>\n",
              "      <th>49</th>\n",
              "      <td>100000</td>\n",
              "      <td>40000</td>\n",
              "      <td>6</td>\n",
              "      <td>10000</td>\n",
              "      <td>1320000</td>\n",
              "      <td>1</td>\n",
              "    </tr>\n",
              "  </tbody>\n",
              "</table>\n",
              "</div>\n",
              "      <button class=\"colab-df-convert\" onclick=\"convertToInteractive('df-dfda9cd9-eff6-4f97-b414-1788e5c86076')\"\n",
              "              title=\"Convert this dataframe to an interactive table.\"\n",
              "              style=\"display:none;\">\n",
              "        \n",
              "  <svg xmlns=\"http://www.w3.org/2000/svg\" height=\"24px\"viewBox=\"0 0 24 24\"\n",
              "       width=\"24px\">\n",
              "    <path d=\"M0 0h24v24H0V0z\" fill=\"none\"/>\n",
              "    <path d=\"M18.56 5.44l.94 2.06.94-2.06 2.06-.94-2.06-.94-.94-2.06-.94 2.06-2.06.94zm-11 1L8.5 8.5l.94-2.06 2.06-.94-2.06-.94L8.5 2.5l-.94 2.06-2.06.94zm10 10l.94 2.06.94-2.06 2.06-.94-2.06-.94-.94-2.06-.94 2.06-2.06.94z\"/><path d=\"M17.41 7.96l-1.37-1.37c-.4-.4-.92-.59-1.43-.59-.52 0-1.04.2-1.43.59L10.3 9.45l-7.72 7.72c-.78.78-.78 2.05 0 2.83L4 21.41c.39.39.9.59 1.41.59.51 0 1.02-.2 1.41-.59l7.78-7.78 2.81-2.81c.8-.78.8-2.07 0-2.86zM5.41 20L4 18.59l7.72-7.72 1.47 1.35L5.41 20z\"/>\n",
              "  </svg>\n",
              "      </button>\n",
              "      \n",
              "  <style>\n",
              "    .colab-df-container {\n",
              "      display:flex;\n",
              "      flex-wrap:wrap;\n",
              "      gap: 12px;\n",
              "    }\n",
              "\n",
              "    .colab-df-convert {\n",
              "      background-color: #E8F0FE;\n",
              "      border: none;\n",
              "      border-radius: 50%;\n",
              "      cursor: pointer;\n",
              "      display: none;\n",
              "      fill: #1967D2;\n",
              "      height: 32px;\n",
              "      padding: 0 0 0 0;\n",
              "      width: 32px;\n",
              "    }\n",
              "\n",
              "    .colab-df-convert:hover {\n",
              "      background-color: #E2EBFA;\n",
              "      box-shadow: 0px 1px 2px rgba(60, 64, 67, 0.3), 0px 1px 3px 1px rgba(60, 64, 67, 0.15);\n",
              "      fill: #174EA6;\n",
              "    }\n",
              "\n",
              "    [theme=dark] .colab-df-convert {\n",
              "      background-color: #3B4455;\n",
              "      fill: #D2E3FC;\n",
              "    }\n",
              "\n",
              "    [theme=dark] .colab-df-convert:hover {\n",
              "      background-color: #434B5C;\n",
              "      box-shadow: 0px 1px 3px 1px rgba(0, 0, 0, 0.15);\n",
              "      filter: drop-shadow(0px 1px 2px rgba(0, 0, 0, 0.3));\n",
              "      fill: #FFFFFF;\n",
              "    }\n",
              "  </style>\n",
              "\n",
              "      <script>\n",
              "        const buttonEl =\n",
              "          document.querySelector('#df-dfda9cd9-eff6-4f97-b414-1788e5c86076 button.colab-df-convert');\n",
              "        buttonEl.style.display =\n",
              "          google.colab.kernel.accessAllowed ? 'block' : 'none';\n",
              "\n",
              "        async function convertToInteractive(key) {\n",
              "          const element = document.querySelector('#df-dfda9cd9-eff6-4f97-b414-1788e5c86076');\n",
              "          const dataTable =\n",
              "            await google.colab.kernel.invokeFunction('convertToInteractive',\n",
              "                                                     [key], {});\n",
              "          if (!dataTable) return;\n",
              "\n",
              "          const docLinkHtml = 'Like what you see? Visit the ' +\n",
              "            '<a target=\"_blank\" href=https://colab.research.google.com/notebooks/data_table.ipynb>data table notebook</a>'\n",
              "            + ' to learn more about interactive tables.';\n",
              "          element.innerHTML = '';\n",
              "          dataTable['output_type'] = 'display_data';\n",
              "          await google.colab.output.renderOutput(dataTable, element);\n",
              "          const docLink = document.createElement('div');\n",
              "          docLink.innerHTML = docLinkHtml;\n",
              "          element.appendChild(docLink);\n",
              "        }\n",
              "      </script>\n",
              "    </div>\n",
              "  </div>\n",
              "  "
            ]
          },
          "metadata": {},
          "execution_count": 7
        }
      ]
    },
    {
      "cell_type": "markdown",
      "source": [
        "Vì dữ liệu lớn nên chúng ta sẽ xuất ra 10 hàng đầu"
      ],
      "metadata": {
        "id": "Q5HUsDLfdJEW"
      }
    },
    {
      "cell_type": "code",
      "source": [
        "inc10 = inc_1.head(10)\n",
        "print(inc10)"
      ],
      "metadata": {
        "colab": {
          "base_uri": "https://localhost:8080/"
        },
        "id": "qx4nHHm3dInc",
        "outputId": "ec1dca63-0fde-4850-834f-c52b728d4194"
      },
      "execution_count": null,
      "outputs": [
        {
          "output_type": "stream",
          "name": "stdout",
          "text": [
            "   Mthly_HH_Income  Mthly_HH_Expense  No_of_Fly_Members  Emi_or_Rent_Amt  \\\n",
            "0             5000              8000                  3             2000   \n",
            "1             6000              7000                  2             3000   \n",
            "2            10000              4500                  2                0   \n",
            "3            10000              2000                  1                0   \n",
            "4            12500             12000                  2             3000   \n",
            "5            14000              8000                  2                0   \n",
            "6            15000             16000                  3            35000   \n",
            "7            18000             20000                  5             8000   \n",
            "8            19000              9000                  2                0   \n",
            "9            20000              9000                  4                0   \n",
            "\n",
            "   Annual_HH_Income  No_of_Earning_Members  \n",
            "0             64200                      1  \n",
            "1             79920                      1  \n",
            "2            112800                      1  \n",
            "3             97200                      1  \n",
            "4            147000                      1  \n",
            "5            196560                      1  \n",
            "6            167400                      1  \n",
            "7            216000                      1  \n",
            "8            218880                      1  \n",
            "9            220800                      2  \n"
          ]
        }
      ]
    },
    {
      "cell_type": "markdown",
      "source": [
        "Giờ chúng ta sẽ lấy từng cột trong tập dữ liệu"
      ],
      "metadata": {
        "id": "8wXP3Ms6gS36"
      }
    },
    {
      "cell_type": "code",
      "source": [
        "Mthly_HH_Income = inc_1.iloc[:,0]\n",
        "Mthly_HH_Expense = inc_1.iloc[:,1]\n",
        "No_of_Fly_Members = inc_1.iloc[:,2]\n",
        "Emi_or_Rent_Amt = inc_1.iloc[:,3]\n",
        "Annual_HH_Income = inc_1.iloc[:,4]\n",
        "No_of_Earning_Members = inc_1.iloc[:,5]"
      ],
      "metadata": {
        "id": "91eaKCKEpnFL"
      },
      "execution_count": null,
      "outputs": []
    },
    {
      "cell_type": "markdown",
      "source": [
        "Bắt đầu phân tích thống kê mô tả với từng cột trong tập dữ liệu"
      ],
      "metadata": {
        "id": "lEJaAF2m-x8Z"
      }
    },
    {
      "cell_type": "markdown",
      "source": [
        "Cột Mthly_HH_Income"
      ],
      "metadata": {
        "id": "UN54I8S0DyqI"
      }
    },
    {
      "cell_type": "markdown",
      "source": [
        "Biểu đồ boxplot"
      ],
      "metadata": {
        "id": "jzPmLg88HtLU"
      }
    },
    {
      "cell_type": "code",
      "source": [
        "plt.boxplot(Mthly_HH_Income)"
      ],
      "metadata": {
        "colab": {
          "base_uri": "https://localhost:8080/",
          "height": 409
        },
        "id": "pVbXA-Y2Hu2F",
        "outputId": "f54ba5a8-9154-4126-b042-6933a4bbfa13"
      },
      "execution_count": null,
      "outputs": [
        {
          "output_type": "execute_result",
          "data": {
            "text/plain": [
              "{'boxes': [<matplotlib.lines.Line2D at 0x7f94909c9090>],\n",
              " 'caps': [<matplotlib.lines.Line2D at 0x7f9490956190>,\n",
              "  <matplotlib.lines.Line2D at 0x7f94909566d0>],\n",
              " 'fliers': [<matplotlib.lines.Line2D at 0x7f94909b8390>],\n",
              " 'means': [],\n",
              " 'medians': [<matplotlib.lines.Line2D at 0x7f9490956c50>],\n",
              " 'whiskers': [<matplotlib.lines.Line2D at 0x7f94909c9610>,\n",
              "  <matplotlib.lines.Line2D at 0x7f94909c9b50>]}"
            ]
          },
          "metadata": {},
          "execution_count": 10
        },
        {
          "output_type": "display_data",
          "data": {
            "text/plain": [
              "<Figure size 432x288 with 1 Axes>"
            ],
            "image/png": "[encoded data removed]"
          },
          "metadata": {
            "needs_background": "light"
          }
        }
      ]
    },
    {
      "cell_type": "markdown",
      "source": [
        "Có 2 giá trị ngoại lệ nằm trong tập dữ liệu"
      ],
      "metadata": {
        "id": "KkGcP518Hwui"
      }
    },
    {
      "cell_type": "code",
      "source": [
        "print(\"Giá trị yếu vị của cột dữ liệu là: \",Mthly_HH_Income.mode())\n",
        "print(\"Giá trị trung vị của cột dữ liệu là\",np.median(Mthly_HH_Income))\n",
        "print(\"Phương sai của cột dữ liệu là: \",statistics.variance(Mthly_HH_Income))"
      ],
      "metadata": {
        "colab": {
          "base_uri": "https://localhost:8080/"
        },
        "id": "nqZBkASbD3cS",
        "outputId": "3aa91db4-6dc5-4bf1-f643-6695d62318e5"
      },
      "execution_count": null,
      "outputs": [
        {
          "output_type": "stream",
          "name": "stdout",
          "text": [
            "Giá trị yếu vị của cột dữ liệu là:  0    45000\n",
            "dtype: int64\n",
            "Giá trị trung vị của cột dữ liệu là 35000.0\n",
            "Phương sai của cột dữ liệu là:  681100853.0612245\n"
          ]
        }
      ]
    },
    {
      "cell_type": "code",
      "source": [
        "print(Mthly_HH_Income.describe())"
      ],
      "metadata": {
        "colab": {
          "base_uri": "https://localhost:8080/"
        },
        "id": "a__UKkodI8OI",
        "outputId": "865e6039-bc09-40fa-dec4-c9b91955414c"
      },
      "execution_count": null,
      "outputs": [
        {
          "output_type": "stream",
          "name": "stdout",
          "text": [
            "count        50.000000\n",
            "mean      41558.000000\n",
            "std       26097.908979\n",
            "min        5000.000000\n",
            "25%       23550.000000\n",
            "50%       35000.000000\n",
            "75%       50375.000000\n",
            "max      100000.000000\n",
            "Name: Mthly_HH_Income, dtype: float64\n"
          ]
        }
      ]
    },
    {
      "cell_type": "markdown",
      "source": [
        "Phân tích thống kê mô tả cột Mthly_HH_Income:\n",
        "\n",
        "- Giá trị trung bình: 41558.\n",
        "- Giá trị trung vị: 35000.\n",
        "- Giá trị yếu vị: 45000.\n",
        "- Khoảng cách: 95000.\n",
        "- IQR: 26825.\n",
        "- Độ lệch chuẩn: 26097.908979.\n",
        "- Phương sai: 681100853.0612245."
      ],
      "metadata": {
        "id": "6pa64fKaG8sJ"
      }
    },
    {
      "cell_type": "markdown",
      "source": [
        "Nhận xét\n",
        "- Có 50 giá trị.\n",
        "- Giá trị trung bình là 41558 và giá trị trung vị là 35000. Từ đó các giá trị có xu hướng lệch về phía bên phải\n",
        "- Đa số các giá trị phân bố trong khoảng hai lần độ lệch chuẩn mỗi bên giá trị trung bình"
      ],
      "metadata": {
        "id": "SudR0Hn-Kp9v"
      }
    },
    {
      "cell_type": "markdown",
      "source": [
        "Cột Mthly_HH_Expense"
      ],
      "metadata": {
        "id": "qCUts6BTLzb6"
      }
    },
    {
      "cell_type": "markdown",
      "source": [
        "Biểu đồ boxplot"
      ],
      "metadata": {
        "id": "nL53rETNL3JP"
      }
    },
    {
      "cell_type": "code",
      "source": [
        "plt.boxplot(Mthly_HH_Expense)"
      ],
      "metadata": {
        "colab": {
          "base_uri": "https://localhost:8080/",
          "height": 409
        },
        "id": "VWM_sL66SdkL",
        "outputId": "a7cc06b8-fbee-43d7-b7c0-7c5b3408a891"
      },
      "execution_count": null,
      "outputs": [
        {
          "output_type": "execute_result",
          "data": {
            "text/plain": [
              "{'boxes': [<matplotlib.lines.Line2D at 0x7fbbd2ff1190>],\n",
              " 'caps': [<matplotlib.lines.Line2D at 0x7fbbd2f78250>,\n",
              "  <matplotlib.lines.Line2D at 0x7fbbd2f78790>],\n",
              " 'fliers': [<matplotlib.lines.Line2D at 0x7fbbd2f80290>],\n",
              " 'means': [],\n",
              " 'medians': [<matplotlib.lines.Line2D at 0x7fbbd2f78d10>],\n",
              " 'whiskers': [<matplotlib.lines.Line2D at 0x7fbbd2ff1790>,\n",
              "  <matplotlib.lines.Line2D at 0x7fbbd2ff1cd0>]}"
            ]
          },
          "metadata": {},
          "execution_count": 22
        },
        {
          "output_type": "display_data",
          "data": {
            "text/plain": [
              "<Figure size 432x288 with 1 Axes>"
            ],
            "image/png": "[encoded data removed]"
          },
          "metadata": {
            "needs_background": "light"
          }
        }
      ]
    },
    {
      "cell_type": "markdown",
      "source": [
        "Xuất hiện hai giá trị ngoại lệ"
      ],
      "metadata": {
        "id": "iC7H_DZyShq3"
      }
    },
    {
      "cell_type": "code",
      "source": [
        "print(\"Giá trị yếu vị của cột dữ liệu là: \",Mthly_HH_Expense.mode())\n",
        "print(\"Giá trị trung vị của cột dữ liệu là\",np.median(Mthly_HH_Expense))\n",
        "print(\"Phương sai của cột dữ liệu là: \",statistics.variance(Mthly_HH_Expense))"
      ],
      "metadata": {
        "colab": {
          "base_uri": "https://localhost:8080/"
        },
        "id": "31prRWaFSkkP",
        "outputId": "6e67e4e5-3f2c-4d1f-a028-37a3c631be74"
      },
      "execution_count": null,
      "outputs": [
        {
          "output_type": "stream",
          "name": "stdout",
          "text": [
            "Giá trị yếu vị của cột dữ liệu là:  0    25000\n",
            "dtype: int64\n",
            "Giá trị trung vị của cột dữ liệu là 15500.0\n",
            "Phương sai của cột dữ liệu là:  146173342.85714287\n"
          ]
        }
      ]
    },
    {
      "cell_type": "code",
      "source": [
        "print(Mthly_HH_Expense.describe())"
      ],
      "metadata": {
        "colab": {
          "base_uri": "https://localhost:8080/"
        },
        "id": "0aGaytfDSpKt",
        "outputId": "733230f4-3c7f-49b0-a8c5-d3eb19cece5b"
      },
      "execution_count": null,
      "outputs": [
        {
          "output_type": "stream",
          "name": "stdout",
          "text": [
            "count       50.000000\n",
            "mean     18818.000000\n",
            "std      12090.216824\n",
            "min       2000.000000\n",
            "25%      10000.000000\n",
            "50%      15500.000000\n",
            "75%      25000.000000\n",
            "max      50000.000000\n",
            "Name: Mthly_HH_Expense, dtype: float64\n"
          ]
        }
      ]
    },
    {
      "cell_type": "markdown",
      "source": [
        "Phân tích thống kê mô tả cột Mthly_HH_Expense:\n",
        "- Giá trị trung bình: 18818.\n",
        "- Giá trị trung vị: 15500.\n",
        "- Giá trị yếu vị: 25000.\n",
        "- Khoảng cách: 48000.\n",
        "- IQR: 15000.\n",
        "- Độ lệch chuẩn: 12090.216824.\n",
        "- Phương sai: 146173342.85714287."
      ],
      "metadata": {
        "id": "iEMB95wbSsXR"
      }
    },
    {
      "cell_type": "markdown",
      "source": [
        "Nhận xét:\n",
        "- Có 50 giá trị\n",
        "- Giá trị trung bình là 18818 và giá trị trung vị là 15500. Từ đó các giá trị có xu hướng lệch về phía bên phải.\n",
        "- Đa số các giá trị phân bố trong khoảng 2 lần độ lệch chuẩn tính từ giá trị trung bình"
      ],
      "metadata": {
        "id": "CNiEH-KyTj9Y"
      }
    },
    {
      "cell_type": "markdown",
      "source": [
        "Cột No_of_Fly_Members:"
      ],
      "metadata": {
        "id": "km9b13oLUSZA"
      }
    },
    {
      "cell_type": "markdown",
      "source": [
        "Biểu đồ boxplot"
      ],
      "metadata": {
        "id": "gJdA2jn9UYEd"
      }
    },
    {
      "cell_type": "code",
      "source": [
        "plt.boxplot(No_of_Fly_Members)"
      ],
      "metadata": {
        "colab": {
          "base_uri": "https://localhost:8080/",
          "height": 409
        },
        "id": "D9BtSobfUkdn",
        "outputId": "a1b886f8-57df-470f-9430-fc307c5bc852"
      },
      "execution_count": null,
      "outputs": [
        {
          "output_type": "execute_result",
          "data": {
            "text/plain": [
              "{'boxes': [<matplotlib.lines.Line2D at 0x7fbbd2f65190>],\n",
              " 'caps': [<matplotlib.lines.Line2D at 0x7fbbd2f6b250>,\n",
              "  <matplotlib.lines.Line2D at 0x7fbbd2f6b790>],\n",
              " 'fliers': [<matplotlib.lines.Line2D at 0x7fbbd2f72290>],\n",
              " 'means': [],\n",
              " 'medians': [<matplotlib.lines.Line2D at 0x7fbbd2f6bd10>],\n",
              " 'whiskers': [<matplotlib.lines.Line2D at 0x7fbbd2f65790>,\n",
              "  <matplotlib.lines.Line2D at 0x7fbbd2f65cd0>]}"
            ]
          },
          "metadata": {},
          "execution_count": 27
        },
        {
          "output_type": "display_data",
          "data": {
            "text/plain": [
              "<Figure size 432x288 with 1 Axes>"
            ],
            "image/png": "[encoded data removed]"
          },
          "metadata": {
            "needs_background": "light"
          }
        }
      ]
    },
    {
      "cell_type": "markdown",
      "source": [
        "Không xuất hiện giá trị ngoại lệ"
      ],
      "metadata": {
        "id": "lss-1v15Ulxh"
      }
    },
    {
      "cell_type": "code",
      "source": [
        "print(\"Giá trị yếu vị của cột dữ liệu là: \",No_of_Fly_Members.mode())\n",
        "print(\"Giá trị trung vị của cột dữ liệu là\",np.median(No_of_Fly_Members))\n",
        "print(\"Phương sai của cột dữ liệu là: \",statistics.variance(No_of_Fly_Members))"
      ],
      "metadata": {
        "colab": {
          "base_uri": "https://localhost:8080/"
        },
        "id": "A4KJqhhPUpq1",
        "outputId": "887b4d7b-27f7-482c-ad4c-fe93c03ef24f"
      },
      "execution_count": null,
      "outputs": [
        {
          "output_type": "stream",
          "name": "stdout",
          "text": [
            "Giá trị yếu vị của cột dữ liệu là:  0    4\n",
            "dtype: int64\n",
            "Giá trị trung vị của cột dữ liệu là 4.0\n",
            "Phương sai của cột dữ liệu là:  2.3024489795918366\n"
          ]
        }
      ]
    },
    {
      "cell_type": "code",
      "source": [
        "print(No_of_Fly_Members.describe())"
      ],
      "metadata": {
        "colab": {
          "base_uri": "https://localhost:8080/"
        },
        "id": "yp5AEVt4UsoK",
        "outputId": "d8e62408-1a5d-4fa9-94ba-c7934fe8d754"
      },
      "execution_count": null,
      "outputs": [
        {
          "output_type": "stream",
          "name": "stdout",
          "text": [
            "count    50.000000\n",
            "mean      4.060000\n",
            "std       1.517382\n",
            "min       1.000000\n",
            "25%       3.000000\n",
            "50%       4.000000\n",
            "75%       5.000000\n",
            "max       7.000000\n",
            "Name: No_of_Fly_Members, dtype: float64\n"
          ]
        }
      ]
    },
    {
      "cell_type": "markdown",
      "source": [
        "Phân tích thống kê mô tả cột No_of_Fly_Members:\n",
        "- Giá trị trung bình: 4.06.\n",
        "- Giá trị trung vị: 4.0.\n",
        "- Giá trị yếu vị: 4.\n",
        "- Khoảng cách: 6.\n",
        "- IQR: 2.\n",
        "- Độ lệch chuẩn: 1.517382.\n",
        "- Phương sai: 2.3024489795918366."
      ],
      "metadata": {
        "id": "kYP2Tu2DU2r-"
      }
    },
    {
      "cell_type": "markdown",
      "source": [
        "Nhận xét:\n",
        "- Có 50 giá trị\n",
        "- Giá trị trung vị trùng với giá trị yếu vị\n",
        "- Giá trị trung bình là 4.06 và giá trị trung vị là 4.0. Từ đó các giá trị phân bố nhiều hơn về phía bên phải\n",
        "- Đa số các giá trị nằm trong khoảng 1.5 lần phương sai tính từ giá trị trung bình"
      ],
      "metadata": {
        "id": "w_0aWttHVL98"
      }
    },
    {
      "cell_type": "markdown",
      "source": [
        "Cột Emi_or_Rent_Amt:"
      ],
      "metadata": {
        "id": "bIfO0yWKVvwi"
      }
    },
    {
      "cell_type": "markdown",
      "source": [
        "Biểu đồ boxplot"
      ],
      "metadata": {
        "id": "SuFDN_uSWJRj"
      }
    },
    {
      "cell_type": "code",
      "source": [
        "plt.boxplot(Emi_or_Rent_Amt)"
      ],
      "metadata": {
        "colab": {
          "base_uri": "https://localhost:8080/",
          "height": 409
        },
        "id": "xX-WgYiCWLOx",
        "outputId": "1c431685-dfd2-4fb3-a2eb-8d75f5b2a2f3"
      },
      "execution_count": null,
      "outputs": [
        {
          "output_type": "execute_result",
          "data": {
            "text/plain": [
              "{'boxes': [<matplotlib.lines.Line2D at 0x7fbbd2edc310>],\n",
              " 'caps': [<matplotlib.lines.Line2D at 0x7fbbd2ee03d0>,\n",
              "  <matplotlib.lines.Line2D at 0x7fbbd2ee0910>],\n",
              " 'fliers': [<matplotlib.lines.Line2D at 0x7fbbd2ee9410>],\n",
              " 'means': [],\n",
              " 'medians': [<matplotlib.lines.Line2D at 0x7fbbd2ee0e90>],\n",
              " 'whiskers': [<matplotlib.lines.Line2D at 0x7fbbd2edc910>,\n",
              "  <matplotlib.lines.Line2D at 0x7fbbd2edce50>]}"
            ]
          },
          "metadata": {},
          "execution_count": 30
        },
        {
          "output_type": "display_data",
          "data": {
            "text/plain": [
              "<Figure size 432x288 with 1 Axes>"
            ],
            "image/png": "[encoded data removed]"
          },
          "metadata": {
            "needs_background": "light"
          }
        }
      ]
    },
    {
      "cell_type": "markdown",
      "source": [
        "Xuất hiện 4 giá trị ngoại lệ."
      ],
      "metadata": {
        "id": "_CHMPOyyWSz7"
      }
    },
    {
      "cell_type": "code",
      "source": [
        "print(\"Giá trị yếu vị của cột dữ liệu là: \",Emi_or_Rent_Amt.mode())\n",
        "print(\"Giá trị trung vị của cột dữ liệu là\",np.median(Emi_or_Rent_Amt))\n",
        "print(\"Phương sai của cột dữ liệu là: \",statistics.variance(Emi_or_Rent_Amt))"
      ],
      "metadata": {
        "colab": {
          "base_uri": "https://localhost:8080/"
        },
        "id": "AAovYmeiWQmL",
        "outputId": "0dc15285-7f24-4674-b6e3-c6185a3b7eed"
      },
      "execution_count": null,
      "outputs": [
        {
          "output_type": "stream",
          "name": "stdout",
          "text": [
            "Giá trị yếu vị của cột dữ liệu là:  0    0\n",
            "dtype: int64\n",
            "Giá trị trung vị của cột dữ liệu là 0.0\n",
            "Phương sai của cột dữ liệu là:  38955510.20408163\n"
          ]
        }
      ]
    },
    {
      "cell_type": "code",
      "source": [
        "print(Emi_or_Rent_Amt.describe())"
      ],
      "metadata": {
        "colab": {
          "base_uri": "https://localhost:8080/"
        },
        "id": "Q3qNyNJZWjsr",
        "outputId": "6fabd4d1-2e72-4a5b-8e13-a6435a8544f4"
      },
      "execution_count": null,
      "outputs": [
        {
          "output_type": "stream",
          "name": "stdout",
          "text": [
            "count       50.000000\n",
            "mean      3060.000000\n",
            "std       6241.434948\n",
            "min          0.000000\n",
            "25%          0.000000\n",
            "50%          0.000000\n",
            "75%       3500.000000\n",
            "max      35000.000000\n",
            "Name: Emi_or_Rent_Amt, dtype: float64\n"
          ]
        }
      ]
    },
    {
      "cell_type": "markdown",
      "source": [
        "Phân tích thống kê mô tả cột Emi_or_Rent_Amt:\n",
        "- Giá trị trung bình: 3060.\n",
        "- Giá trị trung vị: 0.\n",
        "- Giá trị yếu vị: 0.\n",
        "- Khoảng cách: 35000.\n",
        "- IQR: 3500.\n",
        "- Độ lệch chuẩn: 6241.434948.\n",
        "- Phương sai: 38955510.20408163."
      ],
      "metadata": {
        "id": "Yyu4CjqcWu8-"
      }
    },
    {
      "cell_type": "markdown",
      "source": [
        "Nhận xét\n",
        "- Có 50 giá trị\n",
        "- Giá trị trung vị trùng giá trị yếu vị\n",
        "- Giá trị trung bình là 3060 và giá trị trung vị là 0. Từ đó đa số các giá trị cột Emi_or_Rent_Amt phân bố về phía bên phải giá trị trung vị\n",
        "- Đa số các giá trị nằm trong khoảng 1 lần độ lệch chuẩn tính từ giá trị trung bình"
      ],
      "metadata": {
        "id": "urMaeJtlWzN3"
      }
    },
    {
      "cell_type": "markdown",
      "source": [
        "Cột Annual_HH_Income:"
      ],
      "metadata": {
        "id": "0WdKPv4YV9tR"
      }
    },
    {
      "cell_type": "markdown",
      "source": [
        "Biểu đồ boxplot"
      ],
      "metadata": {
        "id": "GURhYdWYdufr"
      }
    },
    {
      "cell_type": "code",
      "source": [
        "plt.boxplot(Annual_HH_Income)"
      ],
      "metadata": {
        "colab": {
          "base_uri": "https://localhost:8080/",
          "height": 420
        },
        "id": "FXvodsKHdzQl",
        "outputId": "a759426a-6b75-4a6c-9e38-62d5b24a961d"
      },
      "execution_count": null,
      "outputs": [
        {
          "output_type": "execute_result",
          "data": {
            "text/plain": [
              "{'boxes': [<matplotlib.lines.Line2D at 0x7fbbd2e51b50>],\n",
              " 'caps': [<matplotlib.lines.Line2D at 0x7fbbd2e56c10>,\n",
              "  <matplotlib.lines.Line2D at 0x7fbbd2e5f190>],\n",
              " 'fliers': [<matplotlib.lines.Line2D at 0x7fbbd2e5fc50>],\n",
              " 'means': [],\n",
              " 'medians': [<matplotlib.lines.Line2D at 0x7fbbd2e5f710>],\n",
              " 'whiskers': [<matplotlib.lines.Line2D at 0x7fbbd2e56190>,\n",
              "  <matplotlib.lines.Line2D at 0x7fbbd2e566d0>]}"
            ]
          },
          "metadata": {},
          "execution_count": 33
        },
        {
          "output_type": "display_data",
          "data": {
            "text/plain": [
              "<Figure size 432x288 with 1 Axes>"
            ],
            "image/png": "[encoded data removed]"
          },
          "metadata": {
            "needs_background": "light"
          }
        }
      ]
    },
    {
      "cell_type": "markdown",
      "source": [
        "Xuất hiện 4 giá trị ngoại lệ"
      ],
      "metadata": {
        "id": "E5x1nncWdyRb"
      }
    },
    {
      "cell_type": "code",
      "source": [
        "print(\"Giá trị yếu vị của cột dữ liệu là: \",Annual_HH_Income.mode())\n",
        "print(\"Giá trị trung vị của cột dữ liệu là\",np.median(Annual_HH_Income))\n",
        "print(\"Phương sai của cột dữ liệu là: \",statistics.variance(Annual_HH_Income))"
      ],
      "metadata": {
        "colab": {
          "base_uri": "https://localhost:8080/"
        },
        "outputId": "9b740c6d-957a-4790-8647-546d6d72960f",
        "id": "x3cUm7ireAmd"
      },
      "execution_count": null,
      "outputs": [
        {
          "output_type": "stream",
          "name": "stdout",
          "text": [
            "Giá trị yếu vị của cột dữ liệu là:  0    590400\n",
            "dtype: int64\n",
            "Giá trị trung vị của cột dữ liệu là 447420.0\n",
            "Phương sai của cột dữ liệu là:  102486925397.91672\n"
          ]
        }
      ]
    },
    {
      "cell_type": "code",
      "source": [
        "print(Annual_HH_Income.describe())"
      ],
      "metadata": {
        "colab": {
          "base_uri": "https://localhost:8080/"
        },
        "outputId": "360e3ed0-bbf2-4dd0-b8a3-ad035e62f774",
        "id": "d05mI7qDeD1n"
      },
      "execution_count": null,
      "outputs": [
        {
          "output_type": "stream",
          "name": "stdout",
          "text": [
            "count    5.000000e+01\n",
            "mean     4.900190e+05\n",
            "std      3.201358e+05\n",
            "min      6.420000e+04\n",
            "25%      2.587500e+05\n",
            "50%      4.474200e+05\n",
            "75%      5.947200e+05\n",
            "max      1.404000e+06\n",
            "Name: Annual_HH_Income, dtype: float64\n"
          ]
        }
      ]
    },
    {
      "cell_type": "markdown",
      "source": [
        "Phân tích thống kê mô tả cột Annual_HH_Income:\n",
        "- Giá trị trung bình: 490019.\n",
        "- Giá trị trung vị: 447420.\n",
        "- Giá trị yếu vị: 590400.\n",
        "- Khoảng cách: 1339800.\n",
        "- IQR: 335970.\n",
        "- Độ lệch chuẩn: 320135.8.\n",
        "- Phương sai: 102486925397.91672."
      ],
      "metadata": {
        "id": "FKYEZTIXeW_w"
      }
    },
    {
      "cell_type": "markdown",
      "source": [
        "Nhận xét\n",
        "- Có 50 giá trị\n",
        "- Giá trị trung bình là 490019 và giá trị trung vị là 447420. Từ đó đa số các giá trị cột Annual_HH_Income phân bố về phía bên phải giá trị trung vị\n",
        "- Đa số các giá trị nằm trong khoảng 1 lần độ lệch chuẩn tính từ giá trị trung bình"
      ],
      "metadata": {
        "id": "hv18aBwEegRN"
      }
    },
    {
      "cell_type": "markdown",
      "source": [
        "Cột No_of_Earning_Members:"
      ],
      "metadata": {
        "id": "KJLMYXFxV9z6"
      }
    },
    {
      "cell_type": "markdown",
      "source": [
        "Biểu đồ boxplot"
      ],
      "metadata": {
        "id": "jTOLHSt3f1sq"
      }
    },
    {
      "cell_type": "code",
      "source": [
        "plt.boxplot(No_of_Earning_Members)"
      ],
      "metadata": {
        "colab": {
          "base_uri": "https://localhost:8080/",
          "height": 409
        },
        "id": "Sar7DOPxf6i-",
        "outputId": "deb5a03c-1dbf-43a2-88e2-896195e2631d"
      },
      "execution_count": null,
      "outputs": [
        {
          "output_type": "execute_result",
          "data": {
            "text/plain": [
              "{'boxes': [<matplotlib.lines.Line2D at 0x7fbbd2dcb4d0>],\n",
              " 'caps': [<matplotlib.lines.Line2D at 0x7fbbd2dd1590>,\n",
              "  <matplotlib.lines.Line2D at 0x7fbbd2dd1ad0>],\n",
              " 'fliers': [<matplotlib.lines.Line2D at 0x7fbbd2dd85d0>],\n",
              " 'means': [],\n",
              " 'medians': [<matplotlib.lines.Line2D at 0x7fbbd2dd8090>],\n",
              " 'whiskers': [<matplotlib.lines.Line2D at 0x7fbbd2dcbad0>,\n",
              "  <matplotlib.lines.Line2D at 0x7fbbd2dd1050>]}"
            ]
          },
          "metadata": {},
          "execution_count": 36
        },
        {
          "output_type": "display_data",
          "data": {
            "text/plain": [
              "<Figure size 432x288 with 1 Axes>"
            ],
            "image/png": "[encoded data removed]"
          },
          "metadata": {
            "needs_background": "light"
          }
        }
      ]
    },
    {
      "cell_type": "code",
      "source": [
        "print(\"Giá trị yếu vị của cột dữ liệu là: \",No_of_Earning_Members.mode())\n",
        "print(\"Giá trị trung vị của cột dữ liệu là\",np.median(No_of_Earning_Members))\n",
        "print(\"Phương sai của cột dữ liệu là: \",statistics.variance(No_of_Earning_Members))"
      ],
      "metadata": {
        "colab": {
          "base_uri": "https://localhost:8080/"
        },
        "outputId": "53171ef5-2f76-420f-9ac6-2cc37dc457ec",
        "id": "YGRdaI-seBNA"
      },
      "execution_count": null,
      "outputs": [
        {
          "output_type": "stream",
          "name": "stdout",
          "text": [
            "Giá trị yếu vị của cột dữ liệu là:  0    1\n",
            "dtype: int64\n",
            "Giá trị trung vị của cột dữ liệu là 1.0\n",
            "Phương sai của cột dữ liệu là:  0.5391836734693877\n"
          ]
        }
      ]
    },
    {
      "cell_type": "code",
      "source": [
        "print(No_of_Earning_Members.describe())"
      ],
      "metadata": {
        "colab": {
          "base_uri": "https://localhost:8080/"
        },
        "outputId": "2acd90c0-7d4f-4621-b8e7-feb1c884df00",
        "id": "xmd2o2j3eEZR"
      },
      "execution_count": null,
      "outputs": [
        {
          "output_type": "stream",
          "name": "stdout",
          "text": [
            "count    50.000000\n",
            "mean      1.460000\n",
            "std       0.734291\n",
            "min       1.000000\n",
            "25%       1.000000\n",
            "50%       1.000000\n",
            "75%       2.000000\n",
            "max       4.000000\n",
            "Name: No_of_Earning_Members, dtype: float64\n"
          ]
        }
      ]
    },
    {
      "cell_type": "markdown",
      "source": [
        "Phân tích thống kê mô tả cột No_of_Earning_Members:\n",
        "- Giá trị trung bình: 1.46.\n",
        "- Giá trị trung vị: 1.\n",
        "- Giá trị yếu vị: 1.\n",
        "- Khoảng cách: 3.\n",
        "- IQR: 2.\n",
        "- Độ lệch chuẩn: 0.734291.\n",
        "- Phương sai: 0.5391836734693877."
      ],
      "metadata": {
        "id": "wKvd2Ed5ebFe"
      }
    },
    {
      "cell_type": "markdown",
      "source": [
        "Nhận xét\n",
        "- Có 50 giá trị\n",
        "- Giá trị trung vị trùng giá trị yếu vị\n",
        "- Giá trị trung bình là 1.46 và giá trị trung vị là 1. Từ đó đa số các giá trị cột Emi_or_Rent_Amt phân bố về phía bên phải giá trị trung vị\n",
        "- Đa số các giá trị nằm trong khoảng 1 lần độ lệch chuẩn tính từ giá trị trung bình"
      ],
      "metadata": {
        "id": "1wF4o7iHeg29"
      }
    }
  ]
}